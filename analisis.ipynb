{
 "cells": [
  {
   "cell_type": "markdown",
   "metadata": {},
   "source": [
    "# Análisis de las votaciones de la Cámara de Diputadas y Diputados"
   ]
  },
  {
   "cell_type": "markdown",
   "metadata": {},
   "source": [
    "## Introducción"
   ]
  },
  {
   "cell_type": "markdown",
   "metadata": {},
   "source": [
    "En el presente *notebook* se analizarán las votaciones realizadas por la Cámara\n",
    "de Diputadas y Diputados de Chile en su LVI periodo legislativo (iniciado el\n",
    "11 de marzo de 2022). La metodología fue inspirada en [FiveThirtyEight](https://projects.fivethirtyeight.com/types-democrats-republicans-house-2024/), quienes realizaron un análisis\n",
    "similar para la Cámara de Representantes de los Estados Unidos.\n",
    "\n",
    "Los datos fueron obtenidos mediante [Datos Abiertos Legislativos](https://www.camara.cl/transparencia/datosAbiertos.aspx),\n",
    "debiéndose procesar los XML con el detalle de cada votación entre el 11 de\n",
    "marzo de 2022 y la fecha de realización del análisis (13 de octubre de 2024).\n",
    "La militancia actual de cada diputado también fue extraída de la plataforma. A\n",
    "cada diputado se le asoció un número por cada votación realizada en el\n",
    "Congreso: 1 si el diputado aprobó la moción, -1 si la rechazó, y 0 si se\n",
    "abstuvo. Los valores faltantes (debido a ausencias de los diputados) se\n",
    "calcularon usando **imputación** mediante KNN.\n",
    "\n",
    "Luego, se realizó Principal Component Analysis (PCA) sobre la tabla resultante,\n",
    "para asociar a cada diputado con una coordenada en 2 dimensiones que refleja\n",
    "sus patrones de voto. Se encontró una clara asociación entre la primera\n",
    "coordenada del PCA y la posición del diputado en el clásico eje\n",
    "izquierda-derecha. Usando estos valores, se analizaron las tendencias de los\n",
    "diputados y sus partidos políticos, incluyendo la cohesión de estos últimos a\n",
    "la hora de votar.\n",
    "\n",
    "Finalmente, se realizó un *clustering* utilizando K-Means con $k=5$, obteniendo\n",
    "5 grupos de diputados que votan de manera similar. Cada grupo fue\n",
    "posteriormente analizado, concluyendo que los *clusters* calzan con las\n",
    "principales fuerzas políticas visibles al interior del Congreso."
   ]
  },
  {
   "cell_type": "code",
   "execution_count": 2,
   "metadata": {},
   "outputs": [],
   "source": [
    "import xml.etree.ElementTree as ET\n",
    "import requests\n",
    "\n",
    "import pickle\n",
    "import pandas as pd\n",
    "import numpy as np\n",
    "from datetime import datetime\n",
    "\n",
    "import matplotlib.pyplot as plt\n",
    "import plotly.express as px\n",
    "\n",
    "from sklearn.decomposition import PCA\n",
    "from sklearn.cluster import KMeans\n",
    "from sklearn.impute import KNNImputer"
   ]
  },
  {
   "cell_type": "markdown",
   "metadata": {},
   "source": [
    "## Carga de datos"
   ]
  },
  {
   "cell_type": "code",
   "execution_count": 212,
   "metadata": {},
   "outputs": [],
   "source": [
    "# años para los cuales se tomará información\n",
    "start_date = datetime.strptime(\"2022-03-11\", \"%Y-%m-%d\")\n",
    "end_date = datetime.now()\n",
    "\n",
    "# prefijo para los sitios de las requests\n",
    "vote_req_prefix = \"https://opendata.camara.cl/camaradiputados/WServices/WSLegislativo.asmx/\"\n",
    "deputy_req_prefix = \"https://opendata.camara.cl/camaradiputados/WServices/WSDiputado.asmx/\"\n",
    "\n",
    "# prefijo para las tags de los archivos XML\n",
    "tag_prefix = r\"{http://opendata.camara.cl/camaradiputados/v1}\"\n",
    "\n",
    "\n",
    "# función auxiliar para parsear fechas\n",
    "def parse_date(date_str):\n",
    "   return datetime.strptime(date_str, \"%Y-%m-%dT%H:%M:%S\") "
   ]
  },
  {
   "cell_type": "markdown",
   "metadata": {},
   "source": [
    "Para cada año de nuestro interés, se obtienen todas las votaciones de ese año.\n",
    "Para cada votación, buscamos y guardamos la opción por la cual votó cada uno de\n",
    "los diputados (1 si fue a favor, -1 si fue en contra, 0 si se abstuvo, e\n",
    "inicialmente `NaN` si no estaba presente)."
   ]
  },
  {
   "cell_type": "code",
   "execution_count": 66,
   "metadata": {},
   "outputs": [
    {
     "name": "stdout",
     "output_type": "stream",
     "text": [
      "Procesando votación 38467\r"
     ]
    }
   ],
   "source": [
    "votes_dict = {}  # diccionario con todas las votaciones\n",
    "\n",
    "# en orden inverso (porque así está ordenado el XML)\n",
    "years = range(end_date.year, start_date.year-1, -1)\n",
    "\n",
    "for year in years:\n",
    "\n",
    "    # obtenemos lista de votaciones de ese año\n",
    "    votings_request = requests.get(\n",
    "        vote_req_prefix + \"retornarVotacionesXAnno\",\n",
    "        params={\"prmAnno\": year}\n",
    "    )\n",
    "    votings = ET.fromstring(votings_request.content)\n",
    "\n",
    "    for voting in votings:\n",
    "        \n",
    "        # revisa si la votación está dentro de los límites, la salta si no\n",
    "        voting_date = parse_date(voting.find(tag_prefix + \"Fecha\").text)\n",
    "        if voting_date < start_date or voting_date > end_date:\n",
    "            continue\n",
    "        \n",
    "        voting_id = voting[0].text  # id de la votación\n",
    "        votes_dict[voting_id] = {}  # dict de la votación actual\n",
    "        print(f\"Procesando votación {voting_id}\", end=\"\\r\")\n",
    "        \n",
    "        # obtenemos detalles de la votación\n",
    "        voting_detail_request = requests.get(\n",
    "            vote_req_prefix + \"retornarVotacionDetalle\",\n",
    "            params={\"prmVotacionId\": voting_id}\n",
    "        )\n",
    "        voting_detail = ET.fromstring(voting_detail_request.content)\n",
    "        \n",
    "        # votos individuales en la votación\n",
    "        votes = voting_detail.find(tag_prefix + \"Votos\")\n",
    "        \n",
    "        for vote in votes:\n",
    "            \n",
    "            deputy_id = vote[0][0].text  # id del diputado\n",
    "            deputy_choice = vote[1].attrib[\"Valor\"]  # opción por la cual votó\n",
    "            \n",
    "            # se agrega al diccionario\n",
    "            votes_dict[voting_id][deputy_id] = deputy_choice"
   ]
  },
  {
   "cell_type": "code",
   "execution_count": 151,
   "metadata": {},
   "outputs": [
    {
     "data": {
      "text/html": [
       "<div>\n",
       "<style scoped>\n",
       "    .dataframe tbody tr th:only-of-type {\n",
       "        vertical-align: middle;\n",
       "    }\n",
       "\n",
       "    .dataframe tbody tr th {\n",
       "        vertical-align: top;\n",
       "    }\n",
       "\n",
       "    .dataframe thead th {\n",
       "        text-align: right;\n",
       "    }\n",
       "</style>\n",
       "<table border=\"1\" class=\"dataframe\">\n",
       "  <thead>\n",
       "    <tr style=\"text-align: right;\">\n",
       "      <th></th>\n",
       "      <th>43918</th>\n",
       "      <th>43917</th>\n",
       "      <th>43914</th>\n",
       "      <th>43913</th>\n",
       "      <th>43912</th>\n",
       "      <th>43911</th>\n",
       "      <th>43907</th>\n",
       "      <th>43906</th>\n",
       "      <th>43905</th>\n",
       "      <th>43904</th>\n",
       "      <th>...</th>\n",
       "      <th>38482</th>\n",
       "      <th>38481</th>\n",
       "      <th>38478</th>\n",
       "      <th>38477</th>\n",
       "      <th>38476</th>\n",
       "      <th>38475</th>\n",
       "      <th>38474</th>\n",
       "      <th>38469</th>\n",
       "      <th>38468</th>\n",
       "      <th>38467</th>\n",
       "    </tr>\n",
       "  </thead>\n",
       "  <tbody>\n",
       "    <tr>\n",
       "      <th>1171</th>\n",
       "      <td>-1.0</td>\n",
       "      <td>NaN</td>\n",
       "      <td>-1.0</td>\n",
       "      <td>-1.0</td>\n",
       "      <td>1.0</td>\n",
       "      <td>1.0</td>\n",
       "      <td>NaN</td>\n",
       "      <td>NaN</td>\n",
       "      <td>NaN</td>\n",
       "      <td>NaN</td>\n",
       "      <td>...</td>\n",
       "      <td>-1.0</td>\n",
       "      <td>1.0</td>\n",
       "      <td>1.0</td>\n",
       "      <td>1.0</td>\n",
       "      <td>1.0</td>\n",
       "      <td>1.0</td>\n",
       "      <td>1.0</td>\n",
       "      <td>1.0</td>\n",
       "      <td>-1.0</td>\n",
       "      <td>-1.0</td>\n",
       "    </tr>\n",
       "    <tr>\n",
       "      <th>1121</th>\n",
       "      <td>1.0</td>\n",
       "      <td>1.0</td>\n",
       "      <td>1.0</td>\n",
       "      <td>1.0</td>\n",
       "      <td>-1.0</td>\n",
       "      <td>1.0</td>\n",
       "      <td>1.0</td>\n",
       "      <td>1.0</td>\n",
       "      <td>1.0</td>\n",
       "      <td>1.0</td>\n",
       "      <td>...</td>\n",
       "      <td>1.0</td>\n",
       "      <td>1.0</td>\n",
       "      <td>1.0</td>\n",
       "      <td>1.0</td>\n",
       "      <td>1.0</td>\n",
       "      <td>1.0</td>\n",
       "      <td>1.0</td>\n",
       "      <td>1.0</td>\n",
       "      <td>1.0</td>\n",
       "      <td>1.0</td>\n",
       "    </tr>\n",
       "    <tr>\n",
       "      <th>1139</th>\n",
       "      <td>1.0</td>\n",
       "      <td>NaN</td>\n",
       "      <td>1.0</td>\n",
       "      <td>1.0</td>\n",
       "      <td>NaN</td>\n",
       "      <td>NaN</td>\n",
       "      <td>1.0</td>\n",
       "      <td>1.0</td>\n",
       "      <td>1.0</td>\n",
       "      <td>1.0</td>\n",
       "      <td>...</td>\n",
       "      <td>1.0</td>\n",
       "      <td>1.0</td>\n",
       "      <td>1.0</td>\n",
       "      <td>0.0</td>\n",
       "      <td>1.0</td>\n",
       "      <td>1.0</td>\n",
       "      <td>1.0</td>\n",
       "      <td>1.0</td>\n",
       "      <td>1.0</td>\n",
       "      <td>1.0</td>\n",
       "    </tr>\n",
       "    <tr>\n",
       "      <th>1105</th>\n",
       "      <td>-1.0</td>\n",
       "      <td>1.0</td>\n",
       "      <td>-1.0</td>\n",
       "      <td>0.0</td>\n",
       "      <td>1.0</td>\n",
       "      <td>1.0</td>\n",
       "      <td>1.0</td>\n",
       "      <td>1.0</td>\n",
       "      <td>1.0</td>\n",
       "      <td>1.0</td>\n",
       "      <td>...</td>\n",
       "      <td>0.0</td>\n",
       "      <td>1.0</td>\n",
       "      <td>1.0</td>\n",
       "      <td>1.0</td>\n",
       "      <td>1.0</td>\n",
       "      <td>1.0</td>\n",
       "      <td>1.0</td>\n",
       "      <td>1.0</td>\n",
       "      <td>-1.0</td>\n",
       "      <td>-1.0</td>\n",
       "    </tr>\n",
       "    <tr>\n",
       "      <th>976</th>\n",
       "      <td>1.0</td>\n",
       "      <td>1.0</td>\n",
       "      <td>1.0</td>\n",
       "      <td>1.0</td>\n",
       "      <td>-1.0</td>\n",
       "      <td>NaN</td>\n",
       "      <td>1.0</td>\n",
       "      <td>1.0</td>\n",
       "      <td>1.0</td>\n",
       "      <td>1.0</td>\n",
       "      <td>...</td>\n",
       "      <td>1.0</td>\n",
       "      <td>1.0</td>\n",
       "      <td>1.0</td>\n",
       "      <td>1.0</td>\n",
       "      <td>1.0</td>\n",
       "      <td>1.0</td>\n",
       "      <td>-1.0</td>\n",
       "      <td>1.0</td>\n",
       "      <td>1.0</td>\n",
       "      <td>1.0</td>\n",
       "    </tr>\n",
       "    <tr>\n",
       "      <th>...</th>\n",
       "      <td>...</td>\n",
       "      <td>...</td>\n",
       "      <td>...</td>\n",
       "      <td>...</td>\n",
       "      <td>...</td>\n",
       "      <td>...</td>\n",
       "      <td>...</td>\n",
       "      <td>...</td>\n",
       "      <td>...</td>\n",
       "      <td>...</td>\n",
       "      <td>...</td>\n",
       "      <td>...</td>\n",
       "      <td>...</td>\n",
       "      <td>...</td>\n",
       "      <td>...</td>\n",
       "      <td>...</td>\n",
       "      <td>...</td>\n",
       "      <td>...</td>\n",
       "      <td>...</td>\n",
       "      <td>...</td>\n",
       "      <td>...</td>\n",
       "    </tr>\n",
       "    <tr>\n",
       "      <th>1113</th>\n",
       "      <td>NaN</td>\n",
       "      <td>NaN</td>\n",
       "      <td>1.0</td>\n",
       "      <td>1.0</td>\n",
       "      <td>-1.0</td>\n",
       "      <td>NaN</td>\n",
       "      <td>1.0</td>\n",
       "      <td>1.0</td>\n",
       "      <td>1.0</td>\n",
       "      <td>1.0</td>\n",
       "      <td>...</td>\n",
       "      <td>1.0</td>\n",
       "      <td>1.0</td>\n",
       "      <td>1.0</td>\n",
       "      <td>1.0</td>\n",
       "      <td>1.0</td>\n",
       "      <td>1.0</td>\n",
       "      <td>1.0</td>\n",
       "      <td>1.0</td>\n",
       "      <td>1.0</td>\n",
       "      <td>1.0</td>\n",
       "    </tr>\n",
       "    <tr>\n",
       "      <th>989</th>\n",
       "      <td>NaN</td>\n",
       "      <td>NaN</td>\n",
       "      <td>NaN</td>\n",
       "      <td>1.0</td>\n",
       "      <td>-1.0</td>\n",
       "      <td>NaN</td>\n",
       "      <td>1.0</td>\n",
       "      <td>1.0</td>\n",
       "      <td>1.0</td>\n",
       "      <td>1.0</td>\n",
       "      <td>...</td>\n",
       "      <td>1.0</td>\n",
       "      <td>1.0</td>\n",
       "      <td>1.0</td>\n",
       "      <td>1.0</td>\n",
       "      <td>1.0</td>\n",
       "      <td>1.0</td>\n",
       "      <td>1.0</td>\n",
       "      <td>1.0</td>\n",
       "      <td>1.0</td>\n",
       "      <td>1.0</td>\n",
       "    </tr>\n",
       "    <tr>\n",
       "      <th>1158</th>\n",
       "      <td>NaN</td>\n",
       "      <td>NaN</td>\n",
       "      <td>NaN</td>\n",
       "      <td>NaN</td>\n",
       "      <td>NaN</td>\n",
       "      <td>NaN</td>\n",
       "      <td>NaN</td>\n",
       "      <td>NaN</td>\n",
       "      <td>NaN</td>\n",
       "      <td>NaN</td>\n",
       "      <td>...</td>\n",
       "      <td>1.0</td>\n",
       "      <td>1.0</td>\n",
       "      <td>1.0</td>\n",
       "      <td>1.0</td>\n",
       "      <td>1.0</td>\n",
       "      <td>1.0</td>\n",
       "      <td>1.0</td>\n",
       "      <td>1.0</td>\n",
       "      <td>1.0</td>\n",
       "      <td>1.0</td>\n",
       "    </tr>\n",
       "    <tr>\n",
       "      <th>1116</th>\n",
       "      <td>NaN</td>\n",
       "      <td>NaN</td>\n",
       "      <td>NaN</td>\n",
       "      <td>NaN</td>\n",
       "      <td>NaN</td>\n",
       "      <td>NaN</td>\n",
       "      <td>NaN</td>\n",
       "      <td>NaN</td>\n",
       "      <td>NaN</td>\n",
       "      <td>NaN</td>\n",
       "      <td>...</td>\n",
       "      <td>NaN</td>\n",
       "      <td>NaN</td>\n",
       "      <td>1.0</td>\n",
       "      <td>1.0</td>\n",
       "      <td>1.0</td>\n",
       "      <td>1.0</td>\n",
       "      <td>1.0</td>\n",
       "      <td>1.0</td>\n",
       "      <td>-1.0</td>\n",
       "      <td>-1.0</td>\n",
       "    </tr>\n",
       "    <tr>\n",
       "      <th>1154</th>\n",
       "      <td>NaN</td>\n",
       "      <td>NaN</td>\n",
       "      <td>NaN</td>\n",
       "      <td>NaN</td>\n",
       "      <td>NaN</td>\n",
       "      <td>NaN</td>\n",
       "      <td>NaN</td>\n",
       "      <td>NaN</td>\n",
       "      <td>NaN</td>\n",
       "      <td>NaN</td>\n",
       "      <td>...</td>\n",
       "      <td>NaN</td>\n",
       "      <td>NaN</td>\n",
       "      <td>NaN</td>\n",
       "      <td>NaN</td>\n",
       "      <td>NaN</td>\n",
       "      <td>NaN</td>\n",
       "      <td>NaN</td>\n",
       "      <td>1.0</td>\n",
       "      <td>1.0</td>\n",
       "      <td>1.0</td>\n",
       "    </tr>\n",
       "  </tbody>\n",
       "</table>\n",
       "<p>155 rows × 3980 columns</p>\n",
       "</div>"
      ],
      "text/plain": [
       "      43918  43917  43914  43913  43912  43911  43907  43906  43905  43904  \\\n",
       "1171   -1.0    NaN   -1.0   -1.0    1.0    1.0    NaN    NaN    NaN    NaN   \n",
       "1121    1.0    1.0    1.0    1.0   -1.0    1.0    1.0    1.0    1.0    1.0   \n",
       "1139    1.0    NaN    1.0    1.0    NaN    NaN    1.0    1.0    1.0    1.0   \n",
       "1105   -1.0    1.0   -1.0    0.0    1.0    1.0    1.0    1.0    1.0    1.0   \n",
       "976     1.0    1.0    1.0    1.0   -1.0    NaN    1.0    1.0    1.0    1.0   \n",
       "...     ...    ...    ...    ...    ...    ...    ...    ...    ...    ...   \n",
       "1113    NaN    NaN    1.0    1.0   -1.0    NaN    1.0    1.0    1.0    1.0   \n",
       "989     NaN    NaN    NaN    1.0   -1.0    NaN    1.0    1.0    1.0    1.0   \n",
       "1158    NaN    NaN    NaN    NaN    NaN    NaN    NaN    NaN    NaN    NaN   \n",
       "1116    NaN    NaN    NaN    NaN    NaN    NaN    NaN    NaN    NaN    NaN   \n",
       "1154    NaN    NaN    NaN    NaN    NaN    NaN    NaN    NaN    NaN    NaN   \n",
       "\n",
       "      ...  38482  38481  38478  38477  38476  38475  38474  38469  38468  \\\n",
       "1171  ...   -1.0    1.0    1.0    1.0    1.0    1.0    1.0    1.0   -1.0   \n",
       "1121  ...    1.0    1.0    1.0    1.0    1.0    1.0    1.0    1.0    1.0   \n",
       "1139  ...    1.0    1.0    1.0    0.0    1.0    1.0    1.0    1.0    1.0   \n",
       "1105  ...    0.0    1.0    1.0    1.0    1.0    1.0    1.0    1.0   -1.0   \n",
       "976   ...    1.0    1.0    1.0    1.0    1.0    1.0   -1.0    1.0    1.0   \n",
       "...   ...    ...    ...    ...    ...    ...    ...    ...    ...    ...   \n",
       "1113  ...    1.0    1.0    1.0    1.0    1.0    1.0    1.0    1.0    1.0   \n",
       "989   ...    1.0    1.0    1.0    1.0    1.0    1.0    1.0    1.0    1.0   \n",
       "1158  ...    1.0    1.0    1.0    1.0    1.0    1.0    1.0    1.0    1.0   \n",
       "1116  ...    NaN    NaN    1.0    1.0    1.0    1.0    1.0    1.0   -1.0   \n",
       "1154  ...    NaN    NaN    NaN    NaN    NaN    NaN    NaN    1.0    1.0   \n",
       "\n",
       "      38467  \n",
       "1171   -1.0  \n",
       "1121    1.0  \n",
       "1139    1.0  \n",
       "1105   -1.0  \n",
       "976     1.0  \n",
       "...     ...  \n",
       "1113    1.0  \n",
       "989     1.0  \n",
       "1158    1.0  \n",
       "1116   -1.0  \n",
       "1154    1.0  \n",
       "\n",
       "[155 rows x 3980 columns]"
      ]
     },
     "execution_count": 151,
     "metadata": {},
     "output_type": "execute_result"
    }
   ],
   "source": [
    "vote_df = pd.DataFrame(votes_dict)\n",
    "vote_df = vote_df.astype(float)\n",
    "vote_df = vote_df.replace(to_replace={0: -1, 2: 0})\n",
    "\n",
    "vote_df"
   ]
  },
  {
   "cell_type": "markdown",
   "metadata": {},
   "source": [
    "Ahora, a cada valor nulo le asignamos el promedio de sus 10 vecinos más\n",
    "cercanos, para no tener que asignarle un valor arbitrario a las ausencias.\n",
    "Esto se realiza mediante `KNNImputer`."
   ]
  },
  {
   "cell_type": "code",
   "execution_count": 152,
   "metadata": {},
   "outputs": [
    {
     "data": {
      "text/html": [
       "<div>\n",
       "<style scoped>\n",
       "    .dataframe tbody tr th:only-of-type {\n",
       "        vertical-align: middle;\n",
       "    }\n",
       "\n",
       "    .dataframe tbody tr th {\n",
       "        vertical-align: top;\n",
       "    }\n",
       "\n",
       "    .dataframe thead th {\n",
       "        text-align: right;\n",
       "    }\n",
       "</style>\n",
       "<table border=\"1\" class=\"dataframe\">\n",
       "  <thead>\n",
       "    <tr style=\"text-align: right;\">\n",
       "      <th></th>\n",
       "      <th>43918</th>\n",
       "      <th>43917</th>\n",
       "      <th>43914</th>\n",
       "      <th>43913</th>\n",
       "      <th>43912</th>\n",
       "      <th>43911</th>\n",
       "      <th>43907</th>\n",
       "      <th>43906</th>\n",
       "      <th>43905</th>\n",
       "      <th>43904</th>\n",
       "      <th>...</th>\n",
       "      <th>38482</th>\n",
       "      <th>38481</th>\n",
       "      <th>38478</th>\n",
       "      <th>38477</th>\n",
       "      <th>38476</th>\n",
       "      <th>38475</th>\n",
       "      <th>38474</th>\n",
       "      <th>38469</th>\n",
       "      <th>38468</th>\n",
       "      <th>38467</th>\n",
       "    </tr>\n",
       "  </thead>\n",
       "  <tbody>\n",
       "    <tr>\n",
       "      <th>1171</th>\n",
       "      <td>-1.0</td>\n",
       "      <td>-1.0</td>\n",
       "      <td>-1.0</td>\n",
       "      <td>-1.0</td>\n",
       "      <td>1.0</td>\n",
       "      <td>1.0</td>\n",
       "      <td>1.0</td>\n",
       "      <td>1.0</td>\n",
       "      <td>1.0</td>\n",
       "      <td>1.0</td>\n",
       "      <td>...</td>\n",
       "      <td>-1.0</td>\n",
       "      <td>1.0</td>\n",
       "      <td>1.0</td>\n",
       "      <td>1.0</td>\n",
       "      <td>1.0</td>\n",
       "      <td>1.0</td>\n",
       "      <td>1.0</td>\n",
       "      <td>1.0</td>\n",
       "      <td>-1.0</td>\n",
       "      <td>-1.0</td>\n",
       "    </tr>\n",
       "    <tr>\n",
       "      <th>1121</th>\n",
       "      <td>1.0</td>\n",
       "      <td>1.0</td>\n",
       "      <td>1.0</td>\n",
       "      <td>1.0</td>\n",
       "      <td>-1.0</td>\n",
       "      <td>1.0</td>\n",
       "      <td>1.0</td>\n",
       "      <td>1.0</td>\n",
       "      <td>1.0</td>\n",
       "      <td>1.0</td>\n",
       "      <td>...</td>\n",
       "      <td>1.0</td>\n",
       "      <td>1.0</td>\n",
       "      <td>1.0</td>\n",
       "      <td>1.0</td>\n",
       "      <td>1.0</td>\n",
       "      <td>1.0</td>\n",
       "      <td>1.0</td>\n",
       "      <td>1.0</td>\n",
       "      <td>1.0</td>\n",
       "      <td>1.0</td>\n",
       "    </tr>\n",
       "    <tr>\n",
       "      <th>1139</th>\n",
       "      <td>1.0</td>\n",
       "      <td>1.0</td>\n",
       "      <td>1.0</td>\n",
       "      <td>1.0</td>\n",
       "      <td>-1.0</td>\n",
       "      <td>0.9</td>\n",
       "      <td>1.0</td>\n",
       "      <td>1.0</td>\n",
       "      <td>1.0</td>\n",
       "      <td>1.0</td>\n",
       "      <td>...</td>\n",
       "      <td>1.0</td>\n",
       "      <td>1.0</td>\n",
       "      <td>1.0</td>\n",
       "      <td>0.0</td>\n",
       "      <td>1.0</td>\n",
       "      <td>1.0</td>\n",
       "      <td>1.0</td>\n",
       "      <td>1.0</td>\n",
       "      <td>1.0</td>\n",
       "      <td>1.0</td>\n",
       "    </tr>\n",
       "    <tr>\n",
       "      <th>1105</th>\n",
       "      <td>-1.0</td>\n",
       "      <td>1.0</td>\n",
       "      <td>-1.0</td>\n",
       "      <td>0.0</td>\n",
       "      <td>1.0</td>\n",
       "      <td>1.0</td>\n",
       "      <td>1.0</td>\n",
       "      <td>1.0</td>\n",
       "      <td>1.0</td>\n",
       "      <td>1.0</td>\n",
       "      <td>...</td>\n",
       "      <td>0.0</td>\n",
       "      <td>1.0</td>\n",
       "      <td>1.0</td>\n",
       "      <td>1.0</td>\n",
       "      <td>1.0</td>\n",
       "      <td>1.0</td>\n",
       "      <td>1.0</td>\n",
       "      <td>1.0</td>\n",
       "      <td>-1.0</td>\n",
       "      <td>-1.0</td>\n",
       "    </tr>\n",
       "    <tr>\n",
       "      <th>976</th>\n",
       "      <td>1.0</td>\n",
       "      <td>1.0</td>\n",
       "      <td>1.0</td>\n",
       "      <td>1.0</td>\n",
       "      <td>-1.0</td>\n",
       "      <td>0.9</td>\n",
       "      <td>1.0</td>\n",
       "      <td>1.0</td>\n",
       "      <td>1.0</td>\n",
       "      <td>1.0</td>\n",
       "      <td>...</td>\n",
       "      <td>1.0</td>\n",
       "      <td>1.0</td>\n",
       "      <td>1.0</td>\n",
       "      <td>1.0</td>\n",
       "      <td>1.0</td>\n",
       "      <td>1.0</td>\n",
       "      <td>-1.0</td>\n",
       "      <td>1.0</td>\n",
       "      <td>1.0</td>\n",
       "      <td>1.0</td>\n",
       "    </tr>\n",
       "    <tr>\n",
       "      <th>...</th>\n",
       "      <td>...</td>\n",
       "      <td>...</td>\n",
       "      <td>...</td>\n",
       "      <td>...</td>\n",
       "      <td>...</td>\n",
       "      <td>...</td>\n",
       "      <td>...</td>\n",
       "      <td>...</td>\n",
       "      <td>...</td>\n",
       "      <td>...</td>\n",
       "      <td>...</td>\n",
       "      <td>...</td>\n",
       "      <td>...</td>\n",
       "      <td>...</td>\n",
       "      <td>...</td>\n",
       "      <td>...</td>\n",
       "      <td>...</td>\n",
       "      <td>...</td>\n",
       "      <td>...</td>\n",
       "      <td>...</td>\n",
       "      <td>...</td>\n",
       "    </tr>\n",
       "    <tr>\n",
       "      <th>1113</th>\n",
       "      <td>1.0</td>\n",
       "      <td>1.0</td>\n",
       "      <td>1.0</td>\n",
       "      <td>1.0</td>\n",
       "      <td>-1.0</td>\n",
       "      <td>0.9</td>\n",
       "      <td>1.0</td>\n",
       "      <td>1.0</td>\n",
       "      <td>1.0</td>\n",
       "      <td>1.0</td>\n",
       "      <td>...</td>\n",
       "      <td>1.0</td>\n",
       "      <td>1.0</td>\n",
       "      <td>1.0</td>\n",
       "      <td>1.0</td>\n",
       "      <td>1.0</td>\n",
       "      <td>1.0</td>\n",
       "      <td>1.0</td>\n",
       "      <td>1.0</td>\n",
       "      <td>1.0</td>\n",
       "      <td>1.0</td>\n",
       "    </tr>\n",
       "    <tr>\n",
       "      <th>989</th>\n",
       "      <td>1.0</td>\n",
       "      <td>1.0</td>\n",
       "      <td>1.0</td>\n",
       "      <td>1.0</td>\n",
       "      <td>-1.0</td>\n",
       "      <td>0.9</td>\n",
       "      <td>1.0</td>\n",
       "      <td>1.0</td>\n",
       "      <td>1.0</td>\n",
       "      <td>1.0</td>\n",
       "      <td>...</td>\n",
       "      <td>1.0</td>\n",
       "      <td>1.0</td>\n",
       "      <td>1.0</td>\n",
       "      <td>1.0</td>\n",
       "      <td>1.0</td>\n",
       "      <td>1.0</td>\n",
       "      <td>1.0</td>\n",
       "      <td>1.0</td>\n",
       "      <td>1.0</td>\n",
       "      <td>1.0</td>\n",
       "    </tr>\n",
       "    <tr>\n",
       "      <th>1158</th>\n",
       "      <td>1.0</td>\n",
       "      <td>1.0</td>\n",
       "      <td>1.0</td>\n",
       "      <td>1.0</td>\n",
       "      <td>-1.0</td>\n",
       "      <td>1.0</td>\n",
       "      <td>1.0</td>\n",
       "      <td>1.0</td>\n",
       "      <td>1.0</td>\n",
       "      <td>1.0</td>\n",
       "      <td>...</td>\n",
       "      <td>1.0</td>\n",
       "      <td>1.0</td>\n",
       "      <td>1.0</td>\n",
       "      <td>1.0</td>\n",
       "      <td>1.0</td>\n",
       "      <td>1.0</td>\n",
       "      <td>1.0</td>\n",
       "      <td>1.0</td>\n",
       "      <td>1.0</td>\n",
       "      <td>1.0</td>\n",
       "    </tr>\n",
       "    <tr>\n",
       "      <th>1116</th>\n",
       "      <td>-0.8</td>\n",
       "      <td>0.6</td>\n",
       "      <td>0.3</td>\n",
       "      <td>0.7</td>\n",
       "      <td>-0.3</td>\n",
       "      <td>1.0</td>\n",
       "      <td>1.0</td>\n",
       "      <td>1.0</td>\n",
       "      <td>1.0</td>\n",
       "      <td>1.0</td>\n",
       "      <td>...</td>\n",
       "      <td>-0.6</td>\n",
       "      <td>1.0</td>\n",
       "      <td>1.0</td>\n",
       "      <td>1.0</td>\n",
       "      <td>1.0</td>\n",
       "      <td>1.0</td>\n",
       "      <td>1.0</td>\n",
       "      <td>1.0</td>\n",
       "      <td>-1.0</td>\n",
       "      <td>-1.0</td>\n",
       "    </tr>\n",
       "    <tr>\n",
       "      <th>1154</th>\n",
       "      <td>1.0</td>\n",
       "      <td>1.0</td>\n",
       "      <td>1.0</td>\n",
       "      <td>1.0</td>\n",
       "      <td>-1.0</td>\n",
       "      <td>0.1</td>\n",
       "      <td>1.0</td>\n",
       "      <td>1.0</td>\n",
       "      <td>1.0</td>\n",
       "      <td>1.0</td>\n",
       "      <td>...</td>\n",
       "      <td>1.0</td>\n",
       "      <td>1.0</td>\n",
       "      <td>1.0</td>\n",
       "      <td>1.0</td>\n",
       "      <td>1.0</td>\n",
       "      <td>0.9</td>\n",
       "      <td>-1.0</td>\n",
       "      <td>1.0</td>\n",
       "      <td>1.0</td>\n",
       "      <td>1.0</td>\n",
       "    </tr>\n",
       "  </tbody>\n",
       "</table>\n",
       "<p>155 rows × 3978 columns</p>\n",
       "</div>"
      ],
      "text/plain": [
       "      43918  43917  43914  43913  43912  43911  43907  43906  43905  43904  \\\n",
       "1171   -1.0   -1.0   -1.0   -1.0    1.0    1.0    1.0    1.0    1.0    1.0   \n",
       "1121    1.0    1.0    1.0    1.0   -1.0    1.0    1.0    1.0    1.0    1.0   \n",
       "1139    1.0    1.0    1.0    1.0   -1.0    0.9    1.0    1.0    1.0    1.0   \n",
       "1105   -1.0    1.0   -1.0    0.0    1.0    1.0    1.0    1.0    1.0    1.0   \n",
       "976     1.0    1.0    1.0    1.0   -1.0    0.9    1.0    1.0    1.0    1.0   \n",
       "...     ...    ...    ...    ...    ...    ...    ...    ...    ...    ...   \n",
       "1113    1.0    1.0    1.0    1.0   -1.0    0.9    1.0    1.0    1.0    1.0   \n",
       "989     1.0    1.0    1.0    1.0   -1.0    0.9    1.0    1.0    1.0    1.0   \n",
       "1158    1.0    1.0    1.0    1.0   -1.0    1.0    1.0    1.0    1.0    1.0   \n",
       "1116   -0.8    0.6    0.3    0.7   -0.3    1.0    1.0    1.0    1.0    1.0   \n",
       "1154    1.0    1.0    1.0    1.0   -1.0    0.1    1.0    1.0    1.0    1.0   \n",
       "\n",
       "      ...  38482  38481  38478  38477  38476  38475  38474  38469  38468  \\\n",
       "1171  ...   -1.0    1.0    1.0    1.0    1.0    1.0    1.0    1.0   -1.0   \n",
       "1121  ...    1.0    1.0    1.0    1.0    1.0    1.0    1.0    1.0    1.0   \n",
       "1139  ...    1.0    1.0    1.0    0.0    1.0    1.0    1.0    1.0    1.0   \n",
       "1105  ...    0.0    1.0    1.0    1.0    1.0    1.0    1.0    1.0   -1.0   \n",
       "976   ...    1.0    1.0    1.0    1.0    1.0    1.0   -1.0    1.0    1.0   \n",
       "...   ...    ...    ...    ...    ...    ...    ...    ...    ...    ...   \n",
       "1113  ...    1.0    1.0    1.0    1.0    1.0    1.0    1.0    1.0    1.0   \n",
       "989   ...    1.0    1.0    1.0    1.0    1.0    1.0    1.0    1.0    1.0   \n",
       "1158  ...    1.0    1.0    1.0    1.0    1.0    1.0    1.0    1.0    1.0   \n",
       "1116  ...   -0.6    1.0    1.0    1.0    1.0    1.0    1.0    1.0   -1.0   \n",
       "1154  ...    1.0    1.0    1.0    1.0    1.0    0.9   -1.0    1.0    1.0   \n",
       "\n",
       "      38467  \n",
       "1171   -1.0  \n",
       "1121    1.0  \n",
       "1139    1.0  \n",
       "1105   -1.0  \n",
       "976     1.0  \n",
       "...     ...  \n",
       "1113    1.0  \n",
       "989     1.0  \n",
       "1158    1.0  \n",
       "1116   -1.0  \n",
       "1154    1.0  \n",
       "\n",
       "[155 rows x 3978 columns]"
      ]
     },
     "execution_count": 152,
     "metadata": {},
     "output_type": "execute_result"
    }
   ],
   "source": [
    "imputer = KNNImputer(n_neighbors=10)\n",
    "imputer.set_output(transform=\"pandas\")\n",
    "vote_df = imputer.fit_transform(vote_df)\n",
    "\n",
    "vote_df"
   ]
  },
  {
   "cell_type": "markdown",
   "metadata": {},
   "source": [
    "Finalmente, se procesan los diputados con su información relevante, y se\n",
    "agregan al final de la tabla con los resultados de las votaciones."
   ]
  },
  {
   "cell_type": "code",
   "execution_count": 123,
   "metadata": {},
   "outputs": [
    {
     "data": {
      "text/html": [
       "<div>\n",
       "<style scoped>\n",
       "    .dataframe tbody tr th:only-of-type {\n",
       "        vertical-align: middle;\n",
       "    }\n",
       "\n",
       "    .dataframe tbody tr th {\n",
       "        vertical-align: top;\n",
       "    }\n",
       "\n",
       "    .dataframe thead th {\n",
       "        text-align: right;\n",
       "    }\n",
       "</style>\n",
       "<table border=\"1\" class=\"dataframe\">\n",
       "  <thead>\n",
       "    <tr style=\"text-align: right;\">\n",
       "      <th></th>\n",
       "      <th>nombre</th>\n",
       "      <th>apellido</th>\n",
       "      <th>sexo</th>\n",
       "      <th>partido</th>\n",
       "    </tr>\n",
       "  </thead>\n",
       "  <tbody>\n",
       "    <tr>\n",
       "      <th>208</th>\n",
       "      <td>Víctor</td>\n",
       "      <td>Pérez</td>\n",
       "      <td>Masculino</td>\n",
       "      <td>Unión Demócrata Independiente</td>\n",
       "    </tr>\n",
       "    <tr>\n",
       "      <th>485</th>\n",
       "      <td>Jorge</td>\n",
       "      <td>Pizarro</td>\n",
       "      <td>Masculino</td>\n",
       "      <td>Partido Demócrata Cristiano</td>\n",
       "    </tr>\n",
       "    <tr>\n",
       "      <th>684</th>\n",
       "      <td>Sergio</td>\n",
       "      <td>Pizarro</td>\n",
       "      <td>Masculino</td>\n",
       "      <td>Partido Demócrata Cristiano</td>\n",
       "    </tr>\n",
       "    <tr>\n",
       "      <th>696</th>\n",
       "      <td>José Alfonso</td>\n",
       "      <td>Rodríguez</td>\n",
       "      <td>Masculino</td>\n",
       "      <td>Renovación Nacional</td>\n",
       "    </tr>\n",
       "    <tr>\n",
       "      <th>951</th>\n",
       "      <td>David</td>\n",
       "      <td>Sandoval</td>\n",
       "      <td>Masculino</td>\n",
       "      <td>Unión Demócrata Independiente</td>\n",
       "    </tr>\n",
       "    <tr>\n",
       "      <th>...</th>\n",
       "      <td>...</td>\n",
       "      <td>...</td>\n",
       "      <td>...</td>\n",
       "      <td>...</td>\n",
       "    </tr>\n",
       "    <tr>\n",
       "      <th>1106</th>\n",
       "      <td>Miguel Ángel</td>\n",
       "      <td>Becker</td>\n",
       "      <td>Masculino</td>\n",
       "      <td>Renovación Nacional</td>\n",
       "    </tr>\n",
       "    <tr>\n",
       "      <th>1118</th>\n",
       "      <td>Ricardo</td>\n",
       "      <td>Cifuentes</td>\n",
       "      <td>Masculino</td>\n",
       "      <td>Partido Demócrata Cristiano</td>\n",
       "    </tr>\n",
       "    <tr>\n",
       "      <th>1135</th>\n",
       "      <td>Johannes</td>\n",
       "      <td>Kaiser</td>\n",
       "      <td>Masculino</td>\n",
       "      <td>Independientes</td>\n",
       "    </tr>\n",
       "    <tr>\n",
       "      <th>1144</th>\n",
       "      <td>Christian</td>\n",
       "      <td>Matheson</td>\n",
       "      <td>Masculino</td>\n",
       "      <td>Independientes</td>\n",
       "    </tr>\n",
       "    <tr>\n",
       "      <th>1149</th>\n",
       "      <td>Carla</td>\n",
       "      <td>Morales</td>\n",
       "      <td>Femenino</td>\n",
       "      <td>Renovación Nacional</td>\n",
       "    </tr>\n",
       "  </tbody>\n",
       "</table>\n",
       "<p>551 rows × 4 columns</p>\n",
       "</div>"
      ],
      "text/plain": [
       "            nombre   apellido       sexo                        partido\n",
       "208         Víctor      Pérez  Masculino  Unión Demócrata Independiente\n",
       "485          Jorge    Pizarro  Masculino    Partido Demócrata Cristiano\n",
       "684         Sergio    Pizarro  Masculino    Partido Demócrata Cristiano\n",
       "696   José Alfonso  Rodríguez  Masculino            Renovación Nacional\n",
       "951          David   Sandoval  Masculino  Unión Demócrata Independiente\n",
       "...            ...        ...        ...                            ...\n",
       "1106  Miguel Ángel     Becker  Masculino            Renovación Nacional\n",
       "1118       Ricardo  Cifuentes  Masculino    Partido Demócrata Cristiano\n",
       "1135      Johannes     Kaiser  Masculino                 Independientes\n",
       "1144     Christian   Matheson  Masculino                 Independientes\n",
       "1149         Carla    Morales   Femenino            Renovación Nacional\n",
       "\n",
       "[551 rows x 4 columns]"
      ]
     },
     "execution_count": 123,
     "metadata": {},
     "output_type": "execute_result"
    }
   ],
   "source": [
    "deputy_indices = []\n",
    "deputy_data = []\n",
    "\n",
    "deputies_request = requests.get(deputy_req_prefix + \"retornarDiputados\")\n",
    "deputies = ET.fromstring(deputies_request.content)\n",
    "\n",
    "for deputy in deputies:\n",
    "    \n",
    "    deputy_id = deputy.find(tag_prefix + \"Id\").text\n",
    "    \n",
    "    # caso borde\n",
    "    if deputy_id == \"9999\":\n",
    "        continue\n",
    "    \n",
    "    deputy_first_name = deputy.find(tag_prefix + \"Nombre\").text\n",
    "    deputy_last_name = deputy.find(tag_prefix + \"ApellidoPaterno\").text\n",
    "    deputy_sex = deputy.find(tag_prefix + \"Sexo\").text\n",
    "\n",
    "    # último partido al cual ha pertenecido el diputado\n",
    "    militancies = deputy.find(tag_prefix + \"Militancias\")\n",
    "    last_militancy_start = None\n",
    "    deputy_party = None\n",
    "    for militancy in militancies:\n",
    "        \n",
    "        militancy_start = parse_date(militancy[1].text)\n",
    "        if (\n",
    "            last_militancy_start is None\n",
    "            or militancy_start > last_militancy_start\n",
    "        ):\n",
    "            last_militancy_start = militancy_start\n",
    "            deputy_party = militancy[2][1].text\n",
    "    \n",
    "    deputy_indices.append(deputy_id)\n",
    "    deputy_data.append([\n",
    "        deputy_first_name,\n",
    "        deputy_last_name,\n",
    "        deputy_sex,\n",
    "        deputy_party\n",
    "    ])\n",
    "\n",
    "deputy_df = pd.DataFrame(\n",
    "    index=deputy_indices,\n",
    "    columns=[\"nombre\", \"apellido\", \"sexo\", \"partido\"],\n",
    "    data=deputy_data\n",
    ")\n",
    "deputy_df\n",
    "    "
   ]
  },
  {
   "cell_type": "code",
   "execution_count": 153,
   "metadata": {},
   "outputs": [
    {
     "data": {
      "text/html": [
       "<div>\n",
       "<style scoped>\n",
       "    .dataframe tbody tr th:only-of-type {\n",
       "        vertical-align: middle;\n",
       "    }\n",
       "\n",
       "    .dataframe tbody tr th {\n",
       "        vertical-align: top;\n",
       "    }\n",
       "\n",
       "    .dataframe thead th {\n",
       "        text-align: right;\n",
       "    }\n",
       "</style>\n",
       "<table border=\"1\" class=\"dataframe\">\n",
       "  <thead>\n",
       "    <tr style=\"text-align: right;\">\n",
       "      <th></th>\n",
       "      <th>43918</th>\n",
       "      <th>43917</th>\n",
       "      <th>43914</th>\n",
       "      <th>43913</th>\n",
       "      <th>43912</th>\n",
       "      <th>43911</th>\n",
       "      <th>43907</th>\n",
       "      <th>43906</th>\n",
       "      <th>43905</th>\n",
       "      <th>43904</th>\n",
       "      <th>...</th>\n",
       "      <th>38476</th>\n",
       "      <th>38475</th>\n",
       "      <th>38474</th>\n",
       "      <th>38469</th>\n",
       "      <th>38468</th>\n",
       "      <th>38467</th>\n",
       "      <th>nombre</th>\n",
       "      <th>apellido</th>\n",
       "      <th>sexo</th>\n",
       "      <th>partido</th>\n",
       "    </tr>\n",
       "  </thead>\n",
       "  <tbody>\n",
       "    <tr>\n",
       "      <th>1171</th>\n",
       "      <td>-1.0</td>\n",
       "      <td>-1.0</td>\n",
       "      <td>-1.0</td>\n",
       "      <td>-1.0</td>\n",
       "      <td>1.0</td>\n",
       "      <td>1.0</td>\n",
       "      <td>1.0</td>\n",
       "      <td>1.0</td>\n",
       "      <td>1.0</td>\n",
       "      <td>1.0</td>\n",
       "      <td>...</td>\n",
       "      <td>1.0</td>\n",
       "      <td>1.0</td>\n",
       "      <td>1.0</td>\n",
       "      <td>1.0</td>\n",
       "      <td>-1.0</td>\n",
       "      <td>-1.0</td>\n",
       "      <td>Emilia</td>\n",
       "      <td>Schneider</td>\n",
       "      <td>Femenino</td>\n",
       "      <td>Frente Amplio</td>\n",
       "    </tr>\n",
       "    <tr>\n",
       "      <th>1121</th>\n",
       "      <td>1.0</td>\n",
       "      <td>1.0</td>\n",
       "      <td>1.0</td>\n",
       "      <td>1.0</td>\n",
       "      <td>-1.0</td>\n",
       "      <td>1.0</td>\n",
       "      <td>1.0</td>\n",
       "      <td>1.0</td>\n",
       "      <td>1.0</td>\n",
       "      <td>1.0</td>\n",
       "      <td>...</td>\n",
       "      <td>1.0</td>\n",
       "      <td>1.0</td>\n",
       "      <td>1.0</td>\n",
       "      <td>1.0</td>\n",
       "      <td>1.0</td>\n",
       "      <td>1.0</td>\n",
       "      <td>Eduardo</td>\n",
       "      <td>Cornejo</td>\n",
       "      <td>Masculino</td>\n",
       "      <td>Unión Demócrata Independiente</td>\n",
       "    </tr>\n",
       "    <tr>\n",
       "      <th>1139</th>\n",
       "      <td>1.0</td>\n",
       "      <td>1.0</td>\n",
       "      <td>1.0</td>\n",
       "      <td>1.0</td>\n",
       "      <td>-1.0</td>\n",
       "      <td>0.9</td>\n",
       "      <td>1.0</td>\n",
       "      <td>1.0</td>\n",
       "      <td>1.0</td>\n",
       "      <td>1.0</td>\n",
       "      <td>...</td>\n",
       "      <td>1.0</td>\n",
       "      <td>1.0</td>\n",
       "      <td>1.0</td>\n",
       "      <td>1.0</td>\n",
       "      <td>1.0</td>\n",
       "      <td>1.0</td>\n",
       "      <td>Enrique</td>\n",
       "      <td>Lee</td>\n",
       "      <td>Masculino</td>\n",
       "      <td>Independientes</td>\n",
       "    </tr>\n",
       "    <tr>\n",
       "      <th>1105</th>\n",
       "      <td>-1.0</td>\n",
       "      <td>1.0</td>\n",
       "      <td>-1.0</td>\n",
       "      <td>0.0</td>\n",
       "      <td>1.0</td>\n",
       "      <td>1.0</td>\n",
       "      <td>1.0</td>\n",
       "      <td>1.0</td>\n",
       "      <td>1.0</td>\n",
       "      <td>1.0</td>\n",
       "      <td>...</td>\n",
       "      <td>1.0</td>\n",
       "      <td>1.0</td>\n",
       "      <td>1.0</td>\n",
       "      <td>1.0</td>\n",
       "      <td>-1.0</td>\n",
       "      <td>-1.0</td>\n",
       "      <td>Héctor</td>\n",
       "      <td>Barría</td>\n",
       "      <td>Masculino</td>\n",
       "      <td>Partido Demócrata Cristiano</td>\n",
       "    </tr>\n",
       "    <tr>\n",
       "      <th>976</th>\n",
       "      <td>1.0</td>\n",
       "      <td>1.0</td>\n",
       "      <td>1.0</td>\n",
       "      <td>1.0</td>\n",
       "      <td>-1.0</td>\n",
       "      <td>0.9</td>\n",
       "      <td>1.0</td>\n",
       "      <td>1.0</td>\n",
       "      <td>1.0</td>\n",
       "      <td>1.0</td>\n",
       "      <td>...</td>\n",
       "      <td>1.0</td>\n",
       "      <td>1.0</td>\n",
       "      <td>-1.0</td>\n",
       "      <td>1.0</td>\n",
       "      <td>1.0</td>\n",
       "      <td>1.0</td>\n",
       "      <td>Juan Antonio</td>\n",
       "      <td>Coloma</td>\n",
       "      <td>Masculino</td>\n",
       "      <td>Unión Demócrata Independiente</td>\n",
       "    </tr>\n",
       "    <tr>\n",
       "      <th>...</th>\n",
       "      <td>...</td>\n",
       "      <td>...</td>\n",
       "      <td>...</td>\n",
       "      <td>...</td>\n",
       "      <td>...</td>\n",
       "      <td>...</td>\n",
       "      <td>...</td>\n",
       "      <td>...</td>\n",
       "      <td>...</td>\n",
       "      <td>...</td>\n",
       "      <td>...</td>\n",
       "      <td>...</td>\n",
       "      <td>...</td>\n",
       "      <td>...</td>\n",
       "      <td>...</td>\n",
       "      <td>...</td>\n",
       "      <td>...</td>\n",
       "      <td>...</td>\n",
       "      <td>...</td>\n",
       "      <td>...</td>\n",
       "      <td>...</td>\n",
       "    </tr>\n",
       "    <tr>\n",
       "      <th>1113</th>\n",
       "      <td>1.0</td>\n",
       "      <td>1.0</td>\n",
       "      <td>1.0</td>\n",
       "      <td>1.0</td>\n",
       "      <td>-1.0</td>\n",
       "      <td>0.9</td>\n",
       "      <td>1.0</td>\n",
       "      <td>1.0</td>\n",
       "      <td>1.0</td>\n",
       "      <td>1.0</td>\n",
       "      <td>...</td>\n",
       "      <td>1.0</td>\n",
       "      <td>1.0</td>\n",
       "      <td>1.0</td>\n",
       "      <td>1.0</td>\n",
       "      <td>1.0</td>\n",
       "      <td>1.0</td>\n",
       "      <td>Marta</td>\n",
       "      <td>Bravo</td>\n",
       "      <td>Femenino</td>\n",
       "      <td>Unión Demócrata Independiente</td>\n",
       "    </tr>\n",
       "    <tr>\n",
       "      <th>989</th>\n",
       "      <td>1.0</td>\n",
       "      <td>1.0</td>\n",
       "      <td>1.0</td>\n",
       "      <td>1.0</td>\n",
       "      <td>-1.0</td>\n",
       "      <td>0.9</td>\n",
       "      <td>1.0</td>\n",
       "      <td>1.0</td>\n",
       "      <td>1.0</td>\n",
       "      <td>1.0</td>\n",
       "      <td>...</td>\n",
       "      <td>1.0</td>\n",
       "      <td>1.0</td>\n",
       "      <td>1.0</td>\n",
       "      <td>1.0</td>\n",
       "      <td>1.0</td>\n",
       "      <td>1.0</td>\n",
       "      <td>Joaquín</td>\n",
       "      <td>Lavín</td>\n",
       "      <td>Masculino</td>\n",
       "      <td>Unión Demócrata Independiente</td>\n",
       "    </tr>\n",
       "    <tr>\n",
       "      <th>1158</th>\n",
       "      <td>1.0</td>\n",
       "      <td>1.0</td>\n",
       "      <td>1.0</td>\n",
       "      <td>1.0</td>\n",
       "      <td>-1.0</td>\n",
       "      <td>1.0</td>\n",
       "      <td>1.0</td>\n",
       "      <td>1.0</td>\n",
       "      <td>1.0</td>\n",
       "      <td>1.0</td>\n",
       "      <td>...</td>\n",
       "      <td>1.0</td>\n",
       "      <td>1.0</td>\n",
       "      <td>1.0</td>\n",
       "      <td>1.0</td>\n",
       "      <td>1.0</td>\n",
       "      <td>1.0</td>\n",
       "      <td>Víctor Alejandro</td>\n",
       "      <td>Pino</td>\n",
       "      <td>Masculino</td>\n",
       "      <td>Partido Demócratas Chile</td>\n",
       "    </tr>\n",
       "    <tr>\n",
       "      <th>1116</th>\n",
       "      <td>-0.8</td>\n",
       "      <td>0.6</td>\n",
       "      <td>0.3</td>\n",
       "      <td>0.7</td>\n",
       "      <td>-0.3</td>\n",
       "      <td>1.0</td>\n",
       "      <td>1.0</td>\n",
       "      <td>1.0</td>\n",
       "      <td>1.0</td>\n",
       "      <td>1.0</td>\n",
       "      <td>...</td>\n",
       "      <td>1.0</td>\n",
       "      <td>1.0</td>\n",
       "      <td>1.0</td>\n",
       "      <td>1.0</td>\n",
       "      <td>-1.0</td>\n",
       "      <td>-1.0</td>\n",
       "      <td>Felipe</td>\n",
       "      <td>Camaño</td>\n",
       "      <td>Masculino</td>\n",
       "      <td>Independientes</td>\n",
       "    </tr>\n",
       "    <tr>\n",
       "      <th>1154</th>\n",
       "      <td>1.0</td>\n",
       "      <td>1.0</td>\n",
       "      <td>1.0</td>\n",
       "      <td>1.0</td>\n",
       "      <td>-1.0</td>\n",
       "      <td>0.1</td>\n",
       "      <td>1.0</td>\n",
       "      <td>1.0</td>\n",
       "      <td>1.0</td>\n",
       "      <td>1.0</td>\n",
       "      <td>...</td>\n",
       "      <td>1.0</td>\n",
       "      <td>0.9</td>\n",
       "      <td>-1.0</td>\n",
       "      <td>1.0</td>\n",
       "      <td>1.0</td>\n",
       "      <td>1.0</td>\n",
       "      <td>Mauricio</td>\n",
       "      <td>Ojeda</td>\n",
       "      <td>Masculino</td>\n",
       "      <td>Independientes</td>\n",
       "    </tr>\n",
       "  </tbody>\n",
       "</table>\n",
       "<p>155 rows × 3982 columns</p>\n",
       "</div>"
      ],
      "text/plain": [
       "      43918  43917  43914  43913  43912  43911  43907  43906  43905  43904  \\\n",
       "1171   -1.0   -1.0   -1.0   -1.0    1.0    1.0    1.0    1.0    1.0    1.0   \n",
       "1121    1.0    1.0    1.0    1.0   -1.0    1.0    1.0    1.0    1.0    1.0   \n",
       "1139    1.0    1.0    1.0    1.0   -1.0    0.9    1.0    1.0    1.0    1.0   \n",
       "1105   -1.0    1.0   -1.0    0.0    1.0    1.0    1.0    1.0    1.0    1.0   \n",
       "976     1.0    1.0    1.0    1.0   -1.0    0.9    1.0    1.0    1.0    1.0   \n",
       "...     ...    ...    ...    ...    ...    ...    ...    ...    ...    ...   \n",
       "1113    1.0    1.0    1.0    1.0   -1.0    0.9    1.0    1.0    1.0    1.0   \n",
       "989     1.0    1.0    1.0    1.0   -1.0    0.9    1.0    1.0    1.0    1.0   \n",
       "1158    1.0    1.0    1.0    1.0   -1.0    1.0    1.0    1.0    1.0    1.0   \n",
       "1116   -0.8    0.6    0.3    0.7   -0.3    1.0    1.0    1.0    1.0    1.0   \n",
       "1154    1.0    1.0    1.0    1.0   -1.0    0.1    1.0    1.0    1.0    1.0   \n",
       "\n",
       "      ...  38476  38475  38474  38469  38468  38467            nombre  \\\n",
       "1171  ...    1.0    1.0    1.0    1.0   -1.0   -1.0            Emilia   \n",
       "1121  ...    1.0    1.0    1.0    1.0    1.0    1.0           Eduardo   \n",
       "1139  ...    1.0    1.0    1.0    1.0    1.0    1.0           Enrique   \n",
       "1105  ...    1.0    1.0    1.0    1.0   -1.0   -1.0            Héctor   \n",
       "976   ...    1.0    1.0   -1.0    1.0    1.0    1.0      Juan Antonio   \n",
       "...   ...    ...    ...    ...    ...    ...    ...               ...   \n",
       "1113  ...    1.0    1.0    1.0    1.0    1.0    1.0             Marta   \n",
       "989   ...    1.0    1.0    1.0    1.0    1.0    1.0           Joaquín   \n",
       "1158  ...    1.0    1.0    1.0    1.0    1.0    1.0  Víctor Alejandro   \n",
       "1116  ...    1.0    1.0    1.0    1.0   -1.0   -1.0            Felipe   \n",
       "1154  ...    1.0    0.9   -1.0    1.0    1.0    1.0          Mauricio   \n",
       "\n",
       "       apellido       sexo                        partido  \n",
       "1171  Schneider   Femenino                  Frente Amplio  \n",
       "1121    Cornejo  Masculino  Unión Demócrata Independiente  \n",
       "1139        Lee  Masculino                 Independientes  \n",
       "1105     Barría  Masculino    Partido Demócrata Cristiano  \n",
       "976      Coloma  Masculino  Unión Demócrata Independiente  \n",
       "...         ...        ...                            ...  \n",
       "1113      Bravo   Femenino  Unión Demócrata Independiente  \n",
       "989       Lavín  Masculino  Unión Demócrata Independiente  \n",
       "1158       Pino  Masculino       Partido Demócratas Chile  \n",
       "1116     Camaño  Masculino                 Independientes  \n",
       "1154      Ojeda  Masculino                 Independientes  \n",
       "\n",
       "[155 rows x 3982 columns]"
      ]
     },
     "execution_count": 153,
     "metadata": {},
     "output_type": "execute_result"
    }
   ],
   "source": [
    "# juntamos los resultados de las votaciones con la info. de los diputados\n",
    "vote_df = vote_df.merge(\n",
    "    right=deputy_df,\n",
    "    how=\"left\",\n",
    "    left_index=True,\n",
    "    right_index=True\n",
    ")\n",
    "\n",
    "vote_df\n"
   ]
  },
  {
   "cell_type": "code",
   "execution_count": 253,
   "metadata": {},
   "outputs": [],
   "source": [
    "# guardado de datos (para no tener que ejecutar la carga de nuevo)\n",
    "vote_df.to_pickle(\"data/vote_df.pkl\")"
   ]
  },
  {
   "cell_type": "markdown",
   "metadata": {},
   "source": [
    "## PCA (Principal Component Analysis)"
   ]
  },
  {
   "cell_type": "code",
   "execution_count": 4,
   "metadata": {},
   "outputs": [],
   "source": [
    "# cargado de datos\n",
    "with open(\"data/vote_df.pkl\", 'rb') as file:\n",
    "    vote_df = pickle.load(file)"
   ]
  },
  {
   "cell_type": "markdown",
   "metadata": {},
   "source": [
    "Realizamos Principal Component Analysis para reducir el espacio de trabajo a\n",
    "solo 2 dimensiones y así poder visualizarlo.\n",
    "\n",
    "Si etiquetamos cada diputado según el partido al cual pertenece, se puede\n",
    "observar claramente que la primera componente del PCA corresponde a un eje\n",
    "político izquierda-derecha. La segunda componente no tiene una explicación\n",
    "tan clara, pero solo explica un 7% de la varianza (versus el 64% que explica\n",
    "la primera componente), por lo cual su análisis probablemente requiera una\n",
    "comprensión más profunda sobre las relaciones al interior del Congreso.\n",
    "\n",
    "En cuanto a la ubicación de cada uno de los diputados, se presentan algunas\n",
    "observaciones interesantes:\n",
    "- Aunque pertenece al Partido Comunista, la diputada Cariola tiene patrones\n",
    "    de votación mucho más similares a aquellos del Frente Amplio.\n",
    "- El diputado Pino, aunque actualmente pertenece a Demócratas, tiene un\n",
    "    historial de votación mucho más cercano al bloque de Chile Vamos.\n",
    "- Los políticos más \"de izquierda\" pertenecen al Partido Comunista y a Acción\n",
    "    Humanista, mientras que los más \"de derecha\" son militantes o están\n",
    "    asociados al Partido Republicano.\n",
    "- Todos los partidos políticos con más de un par de diputados parecen estar\n",
    "    bastante cohesionados en \"bloques\" definidos.\n",
    "\n",
    "En relación a este último punto, podemos calcular cuánta \"separación\" hay al\n",
    "interior de cada partido, mediante la distancia promedio de los diputados al\n",
    "centroide del partido al cual pertenecen. Claramente la mayor separación\n",
    "corresponde a los políticos independientes, pero se puede observar que entre\n",
    "los partidos con alta separación se encuentran Demócratas (por el diputado\n",
    "Pino), la DC (probablemente debido al diputado Aedo) y la UDI (que tiene un\n",
    "espectro bastante amplio en la segunda componente del PCA, con algunos\n",
    "diputados que se asemejan a RN/Evópoli y otros que se acercan más al cluster\n",
    "Republicano). Por el contrario, partidos con mayor cohesión son Republicanos,\n",
    "el Partido Comunista y Acción Humanista."
   ]
  },
  {
   "cell_type": "code",
   "execution_count": 5,
   "metadata": {},
   "outputs": [
    {
     "name": "stdout",
     "output_type": "stream",
     "text": [
      "Porcentaje de la varianza explicada por cada componente:\n",
      "[0.64127907 0.07304191]\n"
     ]
    }
   ],
   "source": [
    "# dataframe solo con valores numéricos\n",
    "vote_df_num = vote_df.iloc[:, :-4]\n",
    "\n",
    "# hacemos PCA\n",
    "pca = PCA(n_components=2)\n",
    "pca_fit = pca.fit_transform(vote_df_num)\n",
    "pca_df = pd.DataFrame(pca_fit, columns=['PCA1', 'PCA2'])\n",
    "\n",
    "# agregamos columna de partido, nombre y apellido para plottear\n",
    "pca_df[[\"nombre\", \"apellido\", \"partido\"]] = (\n",
    "    vote_df[[\"nombre\", \"apellido\", \"partido\"]]\n",
    "    .reset_index(drop=True)\n",
    ")\n",
    "\n",
    "print(\"Porcentaje de la varianza explicada por cada componente:\")\n",
    "print(pca.explained_variance_ratio_)"
   ]
  },
  {
   "cell_type": "code",
   "execution_count": 6,
   "metadata": {},
   "outputs": [],
   "source": [
    "# código auxiliar para asignar un color (arbitrario) a cada partido político\n",
    "color_sequence = px.colors.qualitative.Light24\n",
    "parties = pca_df[\"partido\"].drop_duplicates().sort_values()\n",
    "color_map = dict(zip(parties, color_sequence))"
   ]
  },
  {
   "cell_type": "code",
   "execution_count": 7,
   "metadata": {},
   "outputs": [
    {
     "data": {
      "application/vnd.plotly.v1+json": {
       "config": {
        "plotlyServerURL": "https://plot.ly"
       },
       "data": [
        {
         "customdata": [
          [
           "Emilia",
           "Schneider"
          ],
          [
           "Jorge",
           "Brito"
          ],
          [
           "Claudia",
           "Mix"
          ],
          [
           "Félix",
           "Bugueño"
          ],
          [
           "Gonzalo",
           "Winter"
          ],
          [
           "Maite",
           "Orsini"
          ],
          [
           "Marcela",
           "Riquelme"
          ],
          [
           "Gael",
           "Yeomans"
          ],
          [
           "María Francisca",
           "Bello"
          ],
          [
           "Javiera",
           "Morales"
          ],
          [
           "Patricio",
           "Rosas"
          ],
          [
           "Andrés",
           "Giordano"
          ],
          [
           "Ericka",
           "Ñanco"
          ],
          [
           "Lorena",
           "Fries"
          ],
          [
           "Jaime",
           "Sáez"
          ],
          [
           "Carolina",
           "Tello"
          ],
          [
           "Clara",
           "Sagardia"
          ],
          [
           "Catalina",
           "Pérez"
          ],
          [
           "Camila",
           "Rojas"
          ],
          [
           "Diego",
           "Ibáñez"
          ]
         ],
         "hovertemplate": "partido=Frente Amplio<br>PCA1=%{x}<br>PCA2=%{y}<br>nombre=%{customdata[0]}<br>apellido=%{customdata[1]}<extra></extra>",
         "legendgroup": "Frente Amplio",
         "marker": {
          "color": "#6A76FC",
          "symbol": "circle"
         },
         "mode": "markers",
         "name": "Frente Amplio",
         "orientation": "v",
         "showlegend": true,
         "type": "scatter",
         "x": [
          -40.32560382703361,
          -39.55830714982711,
          -40.547993687857236,
          -35.57534601436218,
          -39.930241884361855,
          -40.49646603796233,
          -39.51887930350048,
          -40.11444163762959,
          -40.01844739451265,
          -39.457247528631456,
          -37.821644947547014,
          -39.94043856971745,
          -40.69025260858395,
          -39.81100882406468,
          -40.31627701719888,
          -41.169187405795554,
          -39.096916139312796,
          -39.70036302304,
          -40.2000579064251,
          -39.5986737772469
         ],
         "xaxis": "x",
         "y": [
          6.617509667265362,
          5.2338400617010015,
          7.027001073944012,
          1.2442107285579147,
          6.645662785356444,
          7.026124126355298,
          5.4878300324966585,
          6.31797883301993,
          6.247390158650047,
          6.2735690259493175,
          4.6750313502124206,
          6.087510526783435,
          7.085505825421681,
          6.622523880851989,
          7.216995708762219,
          6.553057371784009,
          5.65998102563378,
          5.383540145026229,
          6.883582710351926,
          5.958600759014243
         ],
         "yaxis": "y"
        },
        {
         "customdata": [
          [
           "Eduardo",
           "Cornejo"
          ],
          [
           "Juan Antonio",
           "Coloma"
          ],
          [
           "Flor",
           "Weisse"
          ],
          [
           "Gastón",
           "Von Mühlenbrock"
          ],
          [
           "Sergio",
           "Bobadilla"
          ],
          [
           "Fernando",
           "Bórquez"
          ],
          [
           "Jorge",
           "Alessandri"
          ],
          [
           "Marco Antonio",
           "Sulantay"
          ],
          [
           "Álvaro",
           "Carter"
          ],
          [
           "Daniel",
           "Lilayu"
          ],
          [
           "Henry",
           "Leal"
          ],
          [
           "Cristóbal",
           "Martínez"
          ],
          [
           "Juan",
           "Fuenzalida"
          ],
          [
           "Felipe",
           "Donoso"
          ],
          [
           "Cristian",
           "Labbé"
          ],
          [
           "Guillermo",
           "Ramírez"
          ],
          [
           "Cristhian",
           "Moreira"
          ],
          [
           "Gustavo",
           "Benavente"
          ],
          [
           "Marta",
           "Bravo"
          ],
          [
           "Joaquín",
           "Lavín"
          ]
         ],
         "hovertemplate": "partido=Unión Demócrata Independiente<br>PCA1=%{x}<br>PCA2=%{y}<br>nombre=%{customdata[0]}<br>apellido=%{customdata[1]}<extra></extra>",
         "legendgroup": "Unión Demócrata Independiente",
         "marker": {
          "color": "#22FFA7",
          "symbol": "circle"
         },
         "mode": "markers",
         "name": "Unión Demócrata Independiente",
         "orientation": "v",
         "showlegend": true,
         "type": "scatter",
         "x": [
          37.50543509065643,
          37.12220080344877,
          38.77503579801396,
          37.81318916313491,
          40.26465782708833,
          36.504303339528654,
          37.23258181176788,
          38.75882557225509,
          36.158638857163844,
          37.890437962188706,
          36.1123837569421,
          37.85184873388094,
          36.881920865390406,
          38.151154457045905,
          38.83325640323408,
          38.243616100938326,
          35.54793991177082,
          39.0994860054731,
          35.81112217469519,
          36.19896447272821
         ],
         "xaxis": "x",
         "y": [
          -1.3138961920899268,
          0.27302167835196195,
          1.6410975101045768,
          2.129274288076544,
          4.002615768914682,
          -5.0251120595352745,
          3.126394017972739,
          0.7369424996039637,
          -1.2389735466683076,
          -3.4962568922915307,
          -3.020741362571975,
          0.033714231612301096,
          2.2575640608743206,
          0.4878278668887822,
          2.445942125103642,
          2.356670213867089,
          -2.7114308831139553,
          3.807199559317052,
          -3.5322050861599448,
          -0.6480269930968335
         ],
         "yaxis": "y"
        },
        {
         "customdata": [
          [
           "Enrique",
           "Lee"
          ],
          [
           "Stephan",
           "Schubert"
          ],
          [
           "Tomás",
           "De Rementería"
          ],
          [
           "Hotuiti",
           "Teao"
          ],
          [
           "Marlene",
           "Pérez"
          ],
          [
           "Leonidas",
           "Romero"
          ],
          [
           "Marisela",
           "Santibáñez"
          ],
          [
           "Francisco",
           "Pulgar"
          ],
          [
           "Hernán",
           "Palma"
          ],
          [
           "Gaspar",
           "Rivas"
          ],
          [
           "Héctor",
           "Ulloa"
          ],
          [
           "Renzo",
           "Trisotti"
          ],
          [
           "Rubén Darío",
           "Oyarzo"
          ],
          [
           "Gloria",
           "Naveillan"
          ],
          [
           "Catalina",
           "Del Real"
          ],
          [
           "Natalia",
           "Romero"
          ],
          [
           "Jaime",
           "Araya"
          ],
          [
           "Consuelo",
           "Veloso"
          ],
          [
           "Mónica",
           "Arce"
          ],
          [
           "Bernardo",
           "Berger"
          ],
          [
           "Marta",
           "González"
          ],
          [
           "Sofía",
           "Cid"
          ],
          [
           "Gonzalo",
           "De la Carrera"
          ],
          [
           "Yovana",
           "Ahumada"
          ],
          [
           "Viviana",
           "Delgado"
          ],
          [
           "Harry",
           "Jürgensen"
          ],
          [
           "Johannes",
           "Kaiser"
          ],
          [
           "Félix",
           "González"
          ],
          [
           "Paula",
           "Labra"
          ],
          [
           "Tomás",
           "Lagomarsino"
          ],
          [
           "Christian",
           "Matheson"
          ],
          [
           "Carlos",
           "Bianchi"
          ],
          [
           "María Luisa",
           "Cordero"
          ],
          [
           "Karen",
           "Medina"
          ],
          [
           "Sebastián",
           "Videla"
          ],
          [
           "Camila",
           "Musante"
          ],
          [
           "Miguel Ángel",
           "Calisto"
          ],
          [
           "Cristián",
           "Tapia"
          ],
          [
           "Mercedes",
           "Bulnes"
          ],
          [
           "René",
           "Alinco"
          ],
          [
           "Felipe",
           "Camaño"
          ],
          [
           "Mauricio",
           "Ojeda"
          ]
         ],
         "hovertemplate": "partido=Independientes<br>PCA1=%{x}<br>PCA2=%{y}<br>nombre=%{customdata[0]}<br>apellido=%{customdata[1]}<extra></extra>",
         "legendgroup": "Independientes",
         "marker": {
          "color": "#FED4C4",
          "symbol": "circle"
         },
         "mode": "markers",
         "name": "Independientes",
         "orientation": "v",
         "showlegend": true,
         "type": "scatter",
         "x": [
          28.752806182297736,
          42.480688343147136,
          -33.406091166441605,
          34.37087910648224,
          33.63587795188449,
          41.242560563059456,
          -40.98078739026096,
          3.5172169960094593,
          -40.93949324109785,
          10.269535338787458,
          -23.317787829851287,
          39.981699420053815,
          6.997427473901701,
          40.637734036204044,
          39.03059361872933,
          28.902033447597198,
          -22.461198148239312,
          -38.405552858131635,
          -32.82588678621621,
          33.98886456251492,
          -27.738926677903443,
          35.445905630721846,
          42.68174781434414,
          24.783095534544653,
          -33.76178735467562,
          43.08608834778022,
          42.646904070379875,
          -35.26814556384081,
          36.645355758081266,
          -19.609449181720883,
          36.541977510105845,
          -22.079666078156368,
          32.05149963563433,
          7.251885018493021,
          -23.354264304280026,
          -33.32005649280651,
          7.181431551514926,
          -27.264570010088146,
          -40.033440689108666,
          -27.5559008496821,
          -7.960307508100634,
          42.77805592074807
         ],
         "xaxis": "x",
         "y": [
          -7.50788275149988,
          28.771823627777618,
          -2.0499283334948823,
          -6.339496908131756,
          -5.440331050473912,
          21.648776468721643,
          7.612604887516641,
          -15.579269794962578,
          7.632130309070461,
          -13.021431531824097,
          -6.064982438392388,
          6.346247546204345,
          -16.52146638269495,
          13.081735444963623,
          7.186429177195736,
          -10.120689322238103,
          -5.557225776371816,
          4.553264084259454,
          -0.9289567150079031,
          -13.847543265545257,
          -3.868795902625289,
          -9.852313544824188,
          27.372390395067168,
          -13.359502278508474,
          -0.6699109100259059,
          27.62843056544653,
          29.233786543165984,
          3.1358022275145374,
          -9.401906188281965,
          -8.477983739929204,
          -1.9704945639480116,
          -9.468820575253394,
          -14.775183966294932,
          -14.070332850259764,
          -6.97608783546129,
          0.07492930680660195,
          -15.335187074066264,
          -5.1363320336396265,
          6.898523282534793,
          -2.0123041578661844,
          -13.256548508090214,
          28.610590753566413
         ],
         "yaxis": "y"
        },
        {
         "customdata": [
          [
           "Héctor",
           "Barría"
          ],
          [
           "Alberto",
           "Undurraga"
          ],
          [
           "Eric",
           "Aedo"
          ],
          [
           "Ricardo",
           "Cifuentes"
          ]
         ],
         "hovertemplate": "partido=Partido Demócrata Cristiano<br>PCA1=%{x}<br>PCA2=%{y}<br>nombre=%{customdata[0]}<br>apellido=%{customdata[1]}<extra></extra>",
         "legendgroup": "Partido Demócrata Cristiano",
         "marker": {
          "color": "#FF9616",
          "symbol": "circle"
         },
         "mode": "markers",
         "name": "Partido Demócrata Cristiano",
         "orientation": "v",
         "showlegend": true,
         "type": "scatter",
         "x": [
          -18.17406962043472,
          -18.354507302801736,
          -12.996305853616057,
          -18.080863986090154
         ],
         "xaxis": "x",
         "y": [
          -11.27252642316322,
          -7.93302034857498,
          -11.414748367365467,
          -6.976933500978268
         ],
         "yaxis": "y"
        },
        {
         "customdata": [
          [
           "Pamela",
           "Jiles"
          ]
         ],
         "hovertemplate": "partido=Partido Humanista<br>PCA1=%{x}<br>PCA2=%{y}<br>nombre=%{customdata[0]}<br>apellido=%{customdata[1]}<extra></extra>",
         "legendgroup": "Partido Humanista",
         "marker": {
          "color": "#EEA6FB",
          "symbol": "circle"
         },
         "mode": "markers",
         "name": "Partido Humanista",
         "orientation": "v",
         "showlegend": true,
         "type": "scatter",
         "x": [
          -19.8426582147852
         ],
         "xaxis": "x",
         "y": [
          -2.43008751142576
         ],
         "yaxis": "y"
        },
        {
         "customdata": [
          [
           "Cristóbal",
           "Urruticoechea"
          ],
          [
           "Cristián",
           "Araya"
          ],
          [
           "Agustín",
           "Romero"
          ],
          [
           "Luis",
           "Sánchez"
          ],
          [
           "Chiara",
           "Barchiesi"
          ],
          [
           "Benjamín",
           "Moreno"
          ],
          [
           "José Carlos",
           "Meza"
          ],
          [
           "Juan",
           "Irarrázaval"
          ]
         ],
         "hovertemplate": "partido=Partido Republicano<br>PCA1=%{x}<br>PCA2=%{y}<br>nombre=%{customdata[0]}<br>apellido=%{customdata[1]}<extra></extra>",
         "legendgroup": "Partido Republicano",
         "marker": {
          "color": "#00B5F7",
          "symbol": "circle"
         },
         "mode": "markers",
         "name": "Partido Republicano",
         "orientation": "v",
         "showlegend": true,
         "type": "scatter",
         "x": [
          42.26720671521158,
          42.59388608061322,
          43.02897301509663,
          42.971491384174335,
          42.68514969055386,
          43.00564860428393,
          42.83314875860377,
          42.986982350517266
         ],
         "xaxis": "x",
         "y": [
          27.383947054222755,
          29.265997912782286,
          29.954436962067224,
          29.960896938691562,
          29.01609915209163,
          29.478506595974192,
          29.543968042206853,
          29.31665405428609
         ],
         "yaxis": "y"
        },
        {
         "customdata": [
          [
           "Ana María",
           "Bravo"
          ],
          [
           "Emilia",
           "Nuyado"
          ],
          [
           "Raúl",
           "Leiva"
          ],
          [
           "Jaime",
           "Naranjo"
          ],
          [
           "Juan",
           "Santana"
          ],
          [
           "Danisa",
           "Astudillo"
          ],
          [
           "Daniella",
           "Cicardini"
          ],
          [
           "Leonardo",
           "Soto"
          ],
          [
           "Marcos",
           "Ilabaca"
          ],
          [
           "Nelson",
           "Venegas"
          ],
          [
           "Daniel",
           "Manouchehri"
          ],
          [
           "Daniel",
           "Melo"
          ]
         ],
         "hovertemplate": "partido=Partido Socialista<br>PCA1=%{x}<br>PCA2=%{y}<br>nombre=%{customdata[0]}<br>apellido=%{customdata[1]}<extra></extra>",
         "legendgroup": "Partido Socialista",
         "marker": {
          "color": "#C9FBE5",
          "symbol": "circle"
         },
         "mode": "markers",
         "name": "Partido Socialista",
         "orientation": "v",
         "showlegend": true,
         "type": "scatter",
         "x": [
          -32.54877317024841,
          -35.184482289240336,
          -30.51652858970662,
          -34.86165348886615,
          -36.31899422670335,
          -31.80364870249964,
          -33.65799449647229,
          -31.02251167327378,
          -29.85635378518971,
          -32.61152784242284,
          -30.954993475006418,
          -32.02512799688062
         ],
         "xaxis": "x",
         "y": [
          -3.7997392335062776,
          0.29792196083459865,
          -4.236392166521606,
          -0.5541347597627393,
          0.5842504342625344,
          -3.6275537360336036,
          -1.6867596359723036,
          -3.6077193980888165,
          -4.5065931126331025,
          -2.3649670431827587,
          -4.379083745019818,
          -3.7684893729219007
         ],
         "yaxis": "y"
        },
        {
         "customdata": [
          [
           "Ana María",
           "Gazmuri"
          ],
          [
           "Tomás",
           "Hirsch"
          ]
         ],
         "hovertemplate": "partido=Partido Acción Humanista<br>PCA1=%{x}<br>PCA2=%{y}<br>nombre=%{customdata[0]}<br>apellido=%{customdata[1]}<extra></extra>",
         "legendgroup": "Partido Acción Humanista",
         "marker": {
          "color": "#0DF9FF",
          "symbol": "circle"
         },
         "mode": "markers",
         "name": "Partido Acción Humanista",
         "orientation": "v",
         "showlegend": true,
         "type": "scatter",
         "x": [
          -41.469495829836504,
          -41.591143804157554
         ],
         "xaxis": "x",
         "y": [
          8.154408108401581,
          7.828086104200143
         ],
         "yaxis": "y"
        },
        {
         "customdata": [
          [
           "Frank",
           "Sauerbaum"
          ],
          [
           "Diego",
           "Schalper"
          ],
          [
           "Miguel",
           "Mellado"
          ],
          [
           "Mauro",
           "González"
          ],
          [
           "Juan Carlos",
           "Beltrán"
          ],
          [
           "Ximena",
           "Ossandón"
          ],
          [
           "Carla",
           "Morales"
          ],
          [
           "José Miguel",
           "Castro"
          ],
          [
           "Marcia",
           "Raphael"
          ],
          [
           "Jorge",
           "Durán"
          ],
          [
           "Andrés",
           "Celis"
          ],
          [
           "Andrés",
           "Longton"
          ],
          [
           "Camila",
           "Flores"
          ],
          [
           "Miguel Ángel",
           "Becker"
          ],
          [
           "Hugo",
           "Rey"
          ],
          [
           "Eduardo",
           "Durán"
          ],
          [
           "Jorge",
           "Rathgeb"
          ]
         ],
         "hovertemplate": "partido=Renovación Nacional<br>PCA1=%{x}<br>PCA2=%{y}<br>nombre=%{customdata[0]}<br>apellido=%{customdata[1]}<extra></extra>",
         "legendgroup": "Renovación Nacional",
         "marker": {
          "color": "#FF0092",
          "symbol": "circle"
         },
         "mode": "markers",
         "name": "Renovación Nacional",
         "orientation": "v",
         "showlegend": true,
         "type": "scatter",
         "x": [
          34.72720898664693,
          33.66413191543122,
          35.38980353451422,
          33.582673152782135,
          33.45252487511213,
          29.346648872917626,
          32.59196824475187,
          33.87063154910864,
          34.917580936094765,
          33.82428830629449,
          32.105097657839224,
          31.600262259070295,
          35.88923159303962,
          36.56104335198141,
          31.351189501157172,
          34.98010637576249,
          34.995221495935596
         ],
         "xaxis": "x",
         "y": [
          -13.513903479656575,
          -11.630166231601102,
          -12.26993579074612,
          -12.395819645744083,
          -14.153502230452597,
          -15.07005259045293,
          -14.624583003944544,
          -12.112176885892476,
          -12.808060082462761,
          -9.877012045193574,
          -14.138730652474687,
          -14.945762902434648,
          -9.254625804396134,
          -10.420736839601224,
          -14.492839787671345,
          -11.470212135997343,
          -11.385080438872974
         ],
         "yaxis": "y"
        },
        {
         "customdata": [
          [
           "Carolina",
           "Marzán"
          ],
          [
           "Helia",
           "Molina"
          ],
          [
           "Raúl",
           "Soto"
          ]
         ],
         "hovertemplate": "partido=Partido Por la Democracia<br>PCA1=%{x}<br>PCA2=%{y}<br>nombre=%{customdata[0]}<br>apellido=%{customdata[1]}<extra></extra>",
         "legendgroup": "Partido Por la Democracia",
         "marker": {
          "color": "#D626FF",
          "symbol": "circle"
         },
         "mode": "markers",
         "name": "Partido Por la Democracia",
         "orientation": "v",
         "showlegend": true,
         "type": "scatter",
         "x": [
          -30.799730050532425,
          -34.354753390867266,
          -24.64269700091176
         ],
         "xaxis": "x",
         "y": [
          -3.9924445220507883,
          -1.4871628661897216,
          -7.17106637426543
         ],
         "yaxis": "y"
        },
        {
         "customdata": [
          [
           "Boris",
           "Barrera"
          ],
          [
           "Alejandra",
           "Placencia"
          ],
          [
           "Carmen",
           "Hertz"
          ],
          [
           "Matías",
           "Ramírez"
          ],
          [
           "María Candelaria",
           "Acevedo"
          ],
          [
           "Lorena",
           "Pizarro"
          ],
          [
           "Karol",
           "Cariola"
          ],
          [
           "Luis Alberto",
           "Cuello"
          ],
          [
           "Daniela",
           "Serrano"
          ],
          [
           "Nathalie",
           "Castillo"
          ]
         ],
         "hovertemplate": "partido=Partido Comunista<br>PCA1=%{x}<br>PCA2=%{y}<br>nombre=%{customdata[0]}<br>apellido=%{customdata[1]}<extra></extra>",
         "legendgroup": "Partido Comunista",
         "marker": {
          "color": "#F6F926",
          "symbol": "circle"
         },
         "mode": "markers",
         "name": "Partido Comunista",
         "orientation": "v",
         "showlegend": true,
         "type": "scatter",
         "x": [
          -41.35869500069411,
          -41.489730047745105,
          -41.42835358759603,
          -41.73483781800998,
          -41.533545124333514,
          -41.78453591923892,
          -39.81092872198429,
          -41.41992100490907,
          -41.4054307623653,
          -41.694686605531864
         ],
         "xaxis": "x",
         "y": [
          7.786541430566428,
          7.5058696103834714,
          8.24677401942394,
          8.13194269693688,
          8.197665287535175,
          8.511755942157238,
          6.419347620998183,
          7.52370876269272,
          7.491302789407371,
          8.132278184865017
         ],
         "yaxis": "y"
        },
        {
         "customdata": [
          [
           "Roberto",
           "Arroyo"
          ],
          [
           "Francesca",
           "Muñoz"
          ],
          [
           "Sara",
           "Concha"
          ]
         ],
         "hovertemplate": "partido=Partido Social Cristiano<br>PCA1=%{x}<br>PCA2=%{y}<br>nombre=%{customdata[0]}<br>apellido=%{customdata[1]}<extra></extra>",
         "legendgroup": "Partido Social Cristiano",
         "marker": {
          "color": "#B68E00",
          "symbol": "circle"
         },
         "mode": "markers",
         "name": "Partido Social Cristiano",
         "orientation": "v",
         "showlegend": true,
         "type": "scatter",
         "x": [
          23.561205726944088,
          29.90352635949159,
          31.725090009771105
         ],
         "xaxis": "x",
         "y": [
          -11.902859254177095,
          -10.941230729843692,
          -10.455536075373509
         ],
         "yaxis": "y"
        },
        {
         "customdata": [
          [
           "Erika",
           "Olivera"
          ],
          [
           "Joanna",
           "Pérez"
          ],
          [
           "Jorge",
           "Saffirio"
          ],
          [
           "Víctor Alejandro",
           "Pino"
          ]
         ],
         "hovertemplate": "partido=Partido Demócratas Chile<br>PCA1=%{x}<br>PCA2=%{y}<br>nombre=%{customdata[0]}<br>apellido=%{customdata[1]}<extra></extra>",
         "legendgroup": "Partido Demócratas Chile",
         "marker": {
          "color": "#479B55",
          "symbol": "circle"
         },
         "mode": "markers",
         "name": "Partido Demócratas Chile",
         "orientation": "v",
         "showlegend": true,
         "type": "scatter",
         "x": [
          0.5971063224446012,
          -2.1974108711106792,
          -2.658333270180194,
          26.666887126078862
         ],
         "xaxis": "x",
         "y": [
          -15.876620097704134,
          -15.953157809956085,
          -15.53439232116112,
          -12.25600387616008
         ],
         "yaxis": "y"
        },
        {
         "customdata": [
          [
           "Alejandro",
           "Bernales"
          ],
          [
           "Vlado",
           "Mirosevic"
          ],
          [
           "Luis",
           "Malla"
          ]
         ],
         "hovertemplate": "partido=Partido Liberal de Chile<br>PCA1=%{x}<br>PCA2=%{y}<br>nombre=%{customdata[0]}<br>apellido=%{customdata[1]}<extra></extra>",
         "legendgroup": "Partido Liberal de Chile",
         "marker": {
          "color": "#DC587D",
          "symbol": "circle"
         },
         "mode": "markers",
         "name": "Partido Liberal de Chile",
         "orientation": "v",
         "showlegend": true,
         "type": "scatter",
         "x": [
          -24.57617090529203,
          -31.21912411669926,
          -29.625381522749027
         ],
         "xaxis": "x",
         "y": [
          -6.243266240686833,
          -1.5714765989690842,
          -3.133283187163047
         ],
         "yaxis": "y"
        },
        {
         "customdata": [
          [
           "Jaime",
           "Mulet"
          ]
         ],
         "hovertemplate": "partido=Federación Regionalista Verde Social<br>PCA1=%{x}<br>PCA2=%{y}<br>nombre=%{customdata[0]}<br>apellido=%{customdata[1]}<extra></extra>",
         "legendgroup": "Federación Regionalista Verde Social",
         "marker": {
          "color": "#00FE35",
          "symbol": "circle"
         },
         "mode": "markers",
         "name": "Federación Regionalista Verde Social",
         "orientation": "v",
         "showlegend": true,
         "type": "scatter",
         "x": [
          -37.31302899537624
         ],
         "xaxis": "x",
         "y": [
          3.8736653117161395
         ],
         "yaxis": "y"
        },
        {
         "customdata": [
          [
           "Andrés",
           "Jouannet"
          ]
         ],
         "hovertemplate": "partido=Movimiento Amarillos por Chile<br>PCA1=%{x}<br>PCA2=%{y}<br>nombre=%{customdata[0]}<br>apellido=%{customdata[1]}<extra></extra>",
         "legendgroup": "Movimiento Amarillos por Chile",
         "marker": {
          "color": "#FE00CE",
          "symbol": "circle"
         },
         "mode": "markers",
         "name": "Movimiento Amarillos por Chile",
         "orientation": "v",
         "showlegend": true,
         "type": "scatter",
         "x": [
          -3.518165432051511
         ],
         "xaxis": "x",
         "y": [
          -13.293793652735113
         ],
         "yaxis": "y"
        },
        {
         "customdata": [
          [
           "Jorge",
           "Guzmán"
          ],
          [
           "Francisco",
           "Undurraga"
          ]
         ],
         "hovertemplate": "partido=Evolución Política<br>PCA1=%{x}<br>PCA2=%{y}<br>nombre=%{customdata[0]}<br>apellido=%{customdata[1]}<extra></extra>",
         "legendgroup": "Evolución Política",
         "marker": {
          "color": "#FD3216",
          "symbol": "circle"
         },
         "mode": "markers",
         "name": "Evolución Política",
         "orientation": "v",
         "showlegend": true,
         "type": "scatter",
         "x": [
          29.56607139136728,
          28.034537069183923
         ],
         "xaxis": "x",
         "y": [
          -6.379894595259293,
          -5.257037064854907
         ],
         "yaxis": "y"
        },
        {
         "customdata": [
          [
           "Cosme",
           "Mellado"
          ],
          [
           "Alexis",
           "Sepúlveda"
          ]
         ],
         "hovertemplate": "partido=Partido Radical de Chile<br>PCA1=%{x}<br>PCA2=%{y}<br>nombre=%{customdata[0]}<br>apellido=%{customdata[1]}<extra></extra>",
         "legendgroup": "Partido Radical de Chile",
         "marker": {
          "color": "#6E899C",
          "symbol": "circle"
         },
         "mode": "markers",
         "name": "Partido Radical de Chile",
         "orientation": "v",
         "showlegend": true,
         "type": "scatter",
         "x": [
          -27.02053751073635,
          -23.306647330779118
         ],
         "xaxis": "x",
         "y": [
          -6.370926211489615,
          -8.399547418315956
         ],
         "yaxis": "y"
        }
       ],
       "layout": {
        "autosize": false,
        "height": 600,
        "legend": {
         "title": {
          "text": "partido"
         },
         "tracegroupgap": 0
        },
        "template": {
         "data": {
          "bar": [
           {
            "error_x": {
             "color": "#2a3f5f"
            },
            "error_y": {
             "color": "#2a3f5f"
            },
            "marker": {
             "line": {
              "color": "#E5ECF6",
              "width": 0.5
             },
             "pattern": {
              "fillmode": "overlay",
              "size": 10,
              "solidity": 0.2
             }
            },
            "type": "bar"
           }
          ],
          "barpolar": [
           {
            "marker": {
             "line": {
              "color": "#E5ECF6",
              "width": 0.5
             },
             "pattern": {
              "fillmode": "overlay",
              "size": 10,
              "solidity": 0.2
             }
            },
            "type": "barpolar"
           }
          ],
          "carpet": [
           {
            "aaxis": {
             "endlinecolor": "#2a3f5f",
             "gridcolor": "white",
             "linecolor": "white",
             "minorgridcolor": "white",
             "startlinecolor": "#2a3f5f"
            },
            "baxis": {
             "endlinecolor": "#2a3f5f",
             "gridcolor": "white",
             "linecolor": "white",
             "minorgridcolor": "white",
             "startlinecolor": "#2a3f5f"
            },
            "type": "carpet"
           }
          ],
          "choropleth": [
           {
            "colorbar": {
             "outlinewidth": 0,
             "ticks": ""
            },
            "type": "choropleth"
           }
          ],
          "contour": [
           {
            "colorbar": {
             "outlinewidth": 0,
             "ticks": ""
            },
            "colorscale": [
             [
              0,
              "#0d0887"
             ],
             [
              0.1111111111111111,
              "#46039f"
             ],
             [
              0.2222222222222222,
              "#7201a8"
             ],
             [
              0.3333333333333333,
              "#9c179e"
             ],
             [
              0.4444444444444444,
              "#bd3786"
             ],
             [
              0.5555555555555556,
              "#d8576b"
             ],
             [
              0.6666666666666666,
              "#ed7953"
             ],
             [
              0.7777777777777778,
              "#fb9f3a"
             ],
             [
              0.8888888888888888,
              "#fdca26"
             ],
             [
              1,
              "#f0f921"
             ]
            ],
            "type": "contour"
           }
          ],
          "contourcarpet": [
           {
            "colorbar": {
             "outlinewidth": 0,
             "ticks": ""
            },
            "type": "contourcarpet"
           }
          ],
          "heatmap": [
           {
            "colorbar": {
             "outlinewidth": 0,
             "ticks": ""
            },
            "colorscale": [
             [
              0,
              "#0d0887"
             ],
             [
              0.1111111111111111,
              "#46039f"
             ],
             [
              0.2222222222222222,
              "#7201a8"
             ],
             [
              0.3333333333333333,
              "#9c179e"
             ],
             [
              0.4444444444444444,
              "#bd3786"
             ],
             [
              0.5555555555555556,
              "#d8576b"
             ],
             [
              0.6666666666666666,
              "#ed7953"
             ],
             [
              0.7777777777777778,
              "#fb9f3a"
             ],
             [
              0.8888888888888888,
              "#fdca26"
             ],
             [
              1,
              "#f0f921"
             ]
            ],
            "type": "heatmap"
           }
          ],
          "heatmapgl": [
           {
            "colorbar": {
             "outlinewidth": 0,
             "ticks": ""
            },
            "colorscale": [
             [
              0,
              "#0d0887"
             ],
             [
              0.1111111111111111,
              "#46039f"
             ],
             [
              0.2222222222222222,
              "#7201a8"
             ],
             [
              0.3333333333333333,
              "#9c179e"
             ],
             [
              0.4444444444444444,
              "#bd3786"
             ],
             [
              0.5555555555555556,
              "#d8576b"
             ],
             [
              0.6666666666666666,
              "#ed7953"
             ],
             [
              0.7777777777777778,
              "#fb9f3a"
             ],
             [
              0.8888888888888888,
              "#fdca26"
             ],
             [
              1,
              "#f0f921"
             ]
            ],
            "type": "heatmapgl"
           }
          ],
          "histogram": [
           {
            "marker": {
             "pattern": {
              "fillmode": "overlay",
              "size": 10,
              "solidity": 0.2
             }
            },
            "type": "histogram"
           }
          ],
          "histogram2d": [
           {
            "colorbar": {
             "outlinewidth": 0,
             "ticks": ""
            },
            "colorscale": [
             [
              0,
              "#0d0887"
             ],
             [
              0.1111111111111111,
              "#46039f"
             ],
             [
              0.2222222222222222,
              "#7201a8"
             ],
             [
              0.3333333333333333,
              "#9c179e"
             ],
             [
              0.4444444444444444,
              "#bd3786"
             ],
             [
              0.5555555555555556,
              "#d8576b"
             ],
             [
              0.6666666666666666,
              "#ed7953"
             ],
             [
              0.7777777777777778,
              "#fb9f3a"
             ],
             [
              0.8888888888888888,
              "#fdca26"
             ],
             [
              1,
              "#f0f921"
             ]
            ],
            "type": "histogram2d"
           }
          ],
          "histogram2dcontour": [
           {
            "colorbar": {
             "outlinewidth": 0,
             "ticks": ""
            },
            "colorscale": [
             [
              0,
              "#0d0887"
             ],
             [
              0.1111111111111111,
              "#46039f"
             ],
             [
              0.2222222222222222,
              "#7201a8"
             ],
             [
              0.3333333333333333,
              "#9c179e"
             ],
             [
              0.4444444444444444,
              "#bd3786"
             ],
             [
              0.5555555555555556,
              "#d8576b"
             ],
             [
              0.6666666666666666,
              "#ed7953"
             ],
             [
              0.7777777777777778,
              "#fb9f3a"
             ],
             [
              0.8888888888888888,
              "#fdca26"
             ],
             [
              1,
              "#f0f921"
             ]
            ],
            "type": "histogram2dcontour"
           }
          ],
          "mesh3d": [
           {
            "colorbar": {
             "outlinewidth": 0,
             "ticks": ""
            },
            "type": "mesh3d"
           }
          ],
          "parcoords": [
           {
            "line": {
             "colorbar": {
              "outlinewidth": 0,
              "ticks": ""
             }
            },
            "type": "parcoords"
           }
          ],
          "pie": [
           {
            "automargin": true,
            "type": "pie"
           }
          ],
          "scatter": [
           {
            "fillpattern": {
             "fillmode": "overlay",
             "size": 10,
             "solidity": 0.2
            },
            "type": "scatter"
           }
          ],
          "scatter3d": [
           {
            "line": {
             "colorbar": {
              "outlinewidth": 0,
              "ticks": ""
             }
            },
            "marker": {
             "colorbar": {
              "outlinewidth": 0,
              "ticks": ""
             }
            },
            "type": "scatter3d"
           }
          ],
          "scattercarpet": [
           {
            "marker": {
             "colorbar": {
              "outlinewidth": 0,
              "ticks": ""
             }
            },
            "type": "scattercarpet"
           }
          ],
          "scattergeo": [
           {
            "marker": {
             "colorbar": {
              "outlinewidth": 0,
              "ticks": ""
             }
            },
            "type": "scattergeo"
           }
          ],
          "scattergl": [
           {
            "marker": {
             "colorbar": {
              "outlinewidth": 0,
              "ticks": ""
             }
            },
            "type": "scattergl"
           }
          ],
          "scattermapbox": [
           {
            "marker": {
             "colorbar": {
              "outlinewidth": 0,
              "ticks": ""
             }
            },
            "type": "scattermapbox"
           }
          ],
          "scatterpolar": [
           {
            "marker": {
             "colorbar": {
              "outlinewidth": 0,
              "ticks": ""
             }
            },
            "type": "scatterpolar"
           }
          ],
          "scatterpolargl": [
           {
            "marker": {
             "colorbar": {
              "outlinewidth": 0,
              "ticks": ""
             }
            },
            "type": "scatterpolargl"
           }
          ],
          "scatterternary": [
           {
            "marker": {
             "colorbar": {
              "outlinewidth": 0,
              "ticks": ""
             }
            },
            "type": "scatterternary"
           }
          ],
          "surface": [
           {
            "colorbar": {
             "outlinewidth": 0,
             "ticks": ""
            },
            "colorscale": [
             [
              0,
              "#0d0887"
             ],
             [
              0.1111111111111111,
              "#46039f"
             ],
             [
              0.2222222222222222,
              "#7201a8"
             ],
             [
              0.3333333333333333,
              "#9c179e"
             ],
             [
              0.4444444444444444,
              "#bd3786"
             ],
             [
              0.5555555555555556,
              "#d8576b"
             ],
             [
              0.6666666666666666,
              "#ed7953"
             ],
             [
              0.7777777777777778,
              "#fb9f3a"
             ],
             [
              0.8888888888888888,
              "#fdca26"
             ],
             [
              1,
              "#f0f921"
             ]
            ],
            "type": "surface"
           }
          ],
          "table": [
           {
            "cells": {
             "fill": {
              "color": "#EBF0F8"
             },
             "line": {
              "color": "white"
             }
            },
            "header": {
             "fill": {
              "color": "#C8D4E3"
             },
             "line": {
              "color": "white"
             }
            },
            "type": "table"
           }
          ]
         },
         "layout": {
          "annotationdefaults": {
           "arrowcolor": "#2a3f5f",
           "arrowhead": 0,
           "arrowwidth": 1
          },
          "autotypenumbers": "strict",
          "coloraxis": {
           "colorbar": {
            "outlinewidth": 0,
            "ticks": ""
           }
          },
          "colorscale": {
           "diverging": [
            [
             0,
             "#8e0152"
            ],
            [
             0.1,
             "#c51b7d"
            ],
            [
             0.2,
             "#de77ae"
            ],
            [
             0.3,
             "#f1b6da"
            ],
            [
             0.4,
             "#fde0ef"
            ],
            [
             0.5,
             "#f7f7f7"
            ],
            [
             0.6,
             "#e6f5d0"
            ],
            [
             0.7,
             "#b8e186"
            ],
            [
             0.8,
             "#7fbc41"
            ],
            [
             0.9,
             "#4d9221"
            ],
            [
             1,
             "#276419"
            ]
           ],
           "sequential": [
            [
             0,
             "#0d0887"
            ],
            [
             0.1111111111111111,
             "#46039f"
            ],
            [
             0.2222222222222222,
             "#7201a8"
            ],
            [
             0.3333333333333333,
             "#9c179e"
            ],
            [
             0.4444444444444444,
             "#bd3786"
            ],
            [
             0.5555555555555556,
             "#d8576b"
            ],
            [
             0.6666666666666666,
             "#ed7953"
            ],
            [
             0.7777777777777778,
             "#fb9f3a"
            ],
            [
             0.8888888888888888,
             "#fdca26"
            ],
            [
             1,
             "#f0f921"
            ]
           ],
           "sequentialminus": [
            [
             0,
             "#0d0887"
            ],
            [
             0.1111111111111111,
             "#46039f"
            ],
            [
             0.2222222222222222,
             "#7201a8"
            ],
            [
             0.3333333333333333,
             "#9c179e"
            ],
            [
             0.4444444444444444,
             "#bd3786"
            ],
            [
             0.5555555555555556,
             "#d8576b"
            ],
            [
             0.6666666666666666,
             "#ed7953"
            ],
            [
             0.7777777777777778,
             "#fb9f3a"
            ],
            [
             0.8888888888888888,
             "#fdca26"
            ],
            [
             1,
             "#f0f921"
            ]
           ]
          },
          "colorway": [
           "#636efa",
           "#EF553B",
           "#00cc96",
           "#ab63fa",
           "#FFA15A",
           "#19d3f3",
           "#FF6692",
           "#B6E880",
           "#FF97FF",
           "#FECB52"
          ],
          "font": {
           "color": "#2a3f5f"
          },
          "geo": {
           "bgcolor": "white",
           "lakecolor": "white",
           "landcolor": "#E5ECF6",
           "showlakes": true,
           "showland": true,
           "subunitcolor": "white"
          },
          "hoverlabel": {
           "align": "left"
          },
          "hovermode": "closest",
          "mapbox": {
           "style": "light"
          },
          "paper_bgcolor": "white",
          "plot_bgcolor": "#E5ECF6",
          "polar": {
           "angularaxis": {
            "gridcolor": "white",
            "linecolor": "white",
            "ticks": ""
           },
           "bgcolor": "#E5ECF6",
           "radialaxis": {
            "gridcolor": "white",
            "linecolor": "white",
            "ticks": ""
           }
          },
          "scene": {
           "xaxis": {
            "backgroundcolor": "#E5ECF6",
            "gridcolor": "white",
            "gridwidth": 2,
            "linecolor": "white",
            "showbackground": true,
            "ticks": "",
            "zerolinecolor": "white"
           },
           "yaxis": {
            "backgroundcolor": "#E5ECF6",
            "gridcolor": "white",
            "gridwidth": 2,
            "linecolor": "white",
            "showbackground": true,
            "ticks": "",
            "zerolinecolor": "white"
           },
           "zaxis": {
            "backgroundcolor": "#E5ECF6",
            "gridcolor": "white",
            "gridwidth": 2,
            "linecolor": "white",
            "showbackground": true,
            "ticks": "",
            "zerolinecolor": "white"
           }
          },
          "shapedefaults": {
           "line": {
            "color": "#2a3f5f"
           }
          },
          "ternary": {
           "aaxis": {
            "gridcolor": "white",
            "linecolor": "white",
            "ticks": ""
           },
           "baxis": {
            "gridcolor": "white",
            "linecolor": "white",
            "ticks": ""
           },
           "bgcolor": "#E5ECF6",
           "caxis": {
            "gridcolor": "white",
            "linecolor": "white",
            "ticks": ""
           }
          },
          "title": {
           "x": 0.05
          },
          "xaxis": {
           "automargin": true,
           "gridcolor": "white",
           "linecolor": "white",
           "ticks": "",
           "title": {
            "standoff": 15
           },
           "zerolinecolor": "white",
           "zerolinewidth": 2
          },
          "yaxis": {
           "automargin": true,
           "gridcolor": "white",
           "linecolor": "white",
           "ticks": "",
           "title": {
            "standoff": 15
           },
           "zerolinecolor": "white",
           "zerolinewidth": 2
          }
         }
        },
        "title": {
         "text": "Distribución de diputados según PCA"
        },
        "width": 1000,
        "xaxis": {
         "anchor": "y",
         "domain": [
          0,
          1
         ],
         "title": {
          "text": "PCA1"
         }
        },
        "yaxis": {
         "anchor": "x",
         "domain": [
          0,
          1
         ],
         "title": {
          "text": "PCA2"
         }
        }
       }
      }
     },
     "metadata": {},
     "output_type": "display_data"
    }
   ],
   "source": [
    "# plot con la distribución de los diputados en 2 dimensiones\n",
    "\n",
    "fig = px.scatter(\n",
    "    pca_df,\n",
    "    x=\"PCA1\",\n",
    "    y=\"PCA2\",\n",
    "    color=\"partido\",\n",
    "    hover_data=[\"nombre\", \"apellido\"],\n",
    "    color_discrete_map=color_map,\n",
    "    title=\"Distribución de diputados según PCA\"\n",
    ")\n",
    "fig.update_layout(\n",
    "    autosize=False,\n",
    "    width=1000,\n",
    "    height=600,\n",
    ")\n",
    "fig.show()"
   ]
  },
  {
   "cell_type": "code",
   "execution_count": 28,
   "metadata": {},
   "outputs": [
    {
     "data": {
      "application/vnd.plotly.v1+json": {
       "config": {
        "plotlyServerURL": "https://plot.ly"
       },
       "data": [
        {
         "customdata": [
          [
           "Lorena",
           "Pizarro"
          ],
          [
           "Matías",
           "Ramírez"
          ],
          [
           "Nathalie",
           "Castillo"
          ],
          [
           "María Candelaria",
           "Acevedo"
          ],
          [
           "Alejandra",
           "Placencia"
          ],
          [
           "Carmen",
           "Hertz"
          ],
          [
           "Luis Alberto",
           "Cuello"
          ],
          [
           "Daniela",
           "Serrano"
          ],
          [
           "Boris",
           "Barrera"
          ],
          [
           "Karol",
           "Cariola"
          ]
         ],
         "hovertemplate": "partido=Partido Comunista<br>PCA1=%{x}<br>index=%{y}<br>nombre=%{customdata[0]}<br>apellido=%{customdata[1]}<extra></extra>",
         "legendgroup": "Partido Comunista",
         "marker": {
          "color": "#F6F926",
          "symbol": "circle"
         },
         "mode": "markers",
         "name": "Partido Comunista",
         "orientation": "v",
         "showlegend": true,
         "type": "scatter",
         "x": [
          -41.78453591923892,
          -41.73483781800998,
          -41.694686605531864,
          -41.533545124333514,
          -41.489730047745105,
          -41.42835358759603,
          -41.41992100490907,
          -41.4054307623653,
          -41.35869500069411,
          -39.81092872198429
         ],
         "xaxis": "x",
         "y": [
          0,
          1,
          2,
          4,
          5,
          7,
          8,
          9,
          10,
          26
         ],
         "yaxis": "y"
        },
        {
         "customdata": [
          [
           "Tomás",
           "Hirsch"
          ],
          [
           "Ana María",
           "Gazmuri"
          ]
         ],
         "hovertemplate": "partido=Partido Acción Humanista<br>PCA1=%{x}<br>index=%{y}<br>nombre=%{customdata[0]}<br>apellido=%{customdata[1]}<extra></extra>",
         "legendgroup": "Partido Acción Humanista",
         "marker": {
          "color": "#0DF9FF",
          "symbol": "circle"
         },
         "mode": "markers",
         "name": "Partido Acción Humanista",
         "orientation": "v",
         "showlegend": true,
         "type": "scatter",
         "x": [
          -41.591143804157554,
          -41.469495829836504
         ],
         "xaxis": "x",
         "y": [
          3,
          6
         ],
         "yaxis": "y"
        },
        {
         "customdata": [
          [
           "Carolina",
           "Tello"
          ],
          [
           "Ericka",
           "Ñanco"
          ],
          [
           "Claudia",
           "Mix"
          ],
          [
           "Maite",
           "Orsini"
          ],
          [
           "Emilia",
           "Schneider"
          ],
          [
           "Jaime",
           "Sáez"
          ],
          [
           "Camila",
           "Rojas"
          ],
          [
           "Gael",
           "Yeomans"
          ],
          [
           "María Francisca",
           "Bello"
          ],
          [
           "Andrés",
           "Giordano"
          ],
          [
           "Gonzalo",
           "Winter"
          ],
          [
           "Lorena",
           "Fries"
          ],
          [
           "Catalina",
           "Pérez"
          ],
          [
           "Diego",
           "Ibáñez"
          ],
          [
           "Jorge",
           "Brito"
          ],
          [
           "Marcela",
           "Riquelme"
          ],
          [
           "Javiera",
           "Morales"
          ],
          [
           "Clara",
           "Sagardia"
          ],
          [
           "Patricio",
           "Rosas"
          ],
          [
           "Félix",
           "Bugueño"
          ]
         ],
         "hovertemplate": "partido=Frente Amplio<br>PCA1=%{x}<br>index=%{y}<br>nombre=%{customdata[0]}<br>apellido=%{customdata[1]}<extra></extra>",
         "legendgroup": "Frente Amplio",
         "marker": {
          "color": "#6A76FC",
          "symbol": "circle"
         },
         "mode": "markers",
         "name": "Frente Amplio",
         "orientation": "v",
         "showlegend": true,
         "type": "scatter",
         "x": [
          -41.169187405795554,
          -40.69025260858395,
          -40.547993687857236,
          -40.49646603796233,
          -40.32560382703361,
          -40.31627701719888,
          -40.2000579064251,
          -40.11444163762959,
          -40.01844739451265,
          -39.94043856971745,
          -39.930241884361855,
          -39.81100882406468,
          -39.70036302304,
          -39.5986737772469,
          -39.55830714982711,
          -39.51887930350048,
          -39.457247528631456,
          -39.096916139312796,
          -37.821644947547014,
          -35.57534601436218
         ],
         "xaxis": "x",
         "y": [
          11,
          14,
          15,
          16,
          17,
          18,
          19,
          20,
          22,
          23,
          24,
          25,
          27,
          28,
          29,
          30,
          31,
          32,
          34,
          37
         ],
         "yaxis": "y"
        },
        {
         "customdata": [
          [
           "Marisela",
           "Santibáñez"
          ],
          [
           "Hernán",
           "Palma"
          ],
          [
           "Mercedes",
           "Bulnes"
          ],
          [
           "Consuelo",
           "Veloso"
          ],
          [
           "Félix",
           "González"
          ],
          [
           "Viviana",
           "Delgado"
          ],
          [
           "Tomás",
           "De Rementería"
          ],
          [
           "Camila",
           "Musante"
          ],
          [
           "Mónica",
           "Arce"
          ],
          [
           "Marta",
           "González"
          ],
          [
           "René",
           "Alinco"
          ],
          [
           "Cristián",
           "Tapia"
          ],
          [
           "Sebastián",
           "Videla"
          ],
          [
           "Héctor",
           "Ulloa"
          ],
          [
           "Jaime",
           "Araya"
          ],
          [
           "Carlos",
           "Bianchi"
          ],
          [
           "Tomás",
           "Lagomarsino"
          ],
          [
           "Felipe",
           "Camaño"
          ],
          [
           "Francisco",
           "Pulgar"
          ],
          [
           "Rubén Darío",
           "Oyarzo"
          ],
          [
           "Miguel Ángel",
           "Calisto"
          ],
          [
           "Karen",
           "Medina"
          ],
          [
           "Gaspar",
           "Rivas"
          ],
          [
           "Yovana",
           "Ahumada"
          ],
          [
           "Enrique",
           "Lee"
          ],
          [
           "Natalia",
           "Romero"
          ],
          [
           "María Luisa",
           "Cordero"
          ],
          [
           "Marlene",
           "Pérez"
          ],
          [
           "Bernardo",
           "Berger"
          ],
          [
           "Hotuiti",
           "Teao"
          ],
          [
           "Sofía",
           "Cid"
          ],
          [
           "Christian",
           "Matheson"
          ],
          [
           "Paula",
           "Labra"
          ],
          [
           "Catalina",
           "Del Real"
          ],
          [
           "Renzo",
           "Trisotti"
          ],
          [
           "Gloria",
           "Naveillan"
          ],
          [
           "Leonidas",
           "Romero"
          ],
          [
           "Stephan",
           "Schubert"
          ],
          [
           "Johannes",
           "Kaiser"
          ],
          [
           "Gonzalo",
           "De la Carrera"
          ],
          [
           "Mauricio",
           "Ojeda"
          ],
          [
           "Harry",
           "Jürgensen"
          ]
         ],
         "hovertemplate": "partido=Independientes<br>PCA1=%{x}<br>index=%{y}<br>nombre=%{customdata[0]}<br>apellido=%{customdata[1]}<extra></extra>",
         "legendgroup": "Independientes",
         "marker": {
          "color": "#FED4C4",
          "symbol": "circle"
         },
         "mode": "markers",
         "name": "Independientes",
         "orientation": "v",
         "showlegend": true,
         "type": "scatter",
         "x": [
          -40.98078739026096,
          -40.93949324109785,
          -40.033440689108666,
          -38.405552858131635,
          -35.26814556384081,
          -33.76178735467562,
          -33.406091166441605,
          -33.32005649280651,
          -32.82588678621621,
          -27.738926677903443,
          -27.5559008496821,
          -27.264570010088146,
          -23.354264304280026,
          -23.317787829851287,
          -22.461198148239312,
          -22.079666078156368,
          -19.609449181720883,
          -7.960307508100634,
          3.5172169960094593,
          6.997427473901701,
          7.181431551514926,
          7.251885018493021,
          10.269535338787458,
          24.783095534544653,
          28.752806182297736,
          28.902033447597198,
          32.05149963563433,
          33.63587795188449,
          33.98886456251492,
          34.37087910648224,
          35.445905630721846,
          36.541977510105845,
          36.645355758081266,
          39.03059361872933,
          39.981699420053815,
          40.637734036204044,
          41.242560563059456,
          42.480688343147136,
          42.646904070379875,
          42.68174781434414,
          42.77805592074807,
          43.08608834778022
         ],
         "xaxis": "x",
         "y": [
          12,
          13,
          21,
          33,
          38,
          42,
          44,
          45,
          46,
          58,
          59,
          60,
          64,
          65,
          67,
          68,
          70,
          75,
          80,
          81,
          82,
          83,
          84,
          86,
          89,
          90,
          97,
          102,
          106,
          107,
          113,
          121,
          123,
          136,
          138,
          140,
          141,
          143,
          145,
          146,
          148,
          154
         ],
         "yaxis": "y"
        },
        {
         "customdata": [
          [
           "Jaime",
           "Mulet"
          ]
         ],
         "hovertemplate": "partido=Federación Regionalista Verde Social<br>PCA1=%{x}<br>index=%{y}<br>nombre=%{customdata[0]}<br>apellido=%{customdata[1]}<extra></extra>",
         "legendgroup": "Federación Regionalista Verde Social",
         "marker": {
          "color": "#00FE35",
          "symbol": "circle"
         },
         "mode": "markers",
         "name": "Federación Regionalista Verde Social",
         "orientation": "v",
         "showlegend": true,
         "type": "scatter",
         "x": [
          -37.31302899537624
         ],
         "xaxis": "x",
         "y": [
          35
         ],
         "yaxis": "y"
        },
        {
         "customdata": [
          [
           "Juan",
           "Santana"
          ],
          [
           "Emilia",
           "Nuyado"
          ],
          [
           "Jaime",
           "Naranjo"
          ],
          [
           "Daniella",
           "Cicardini"
          ],
          [
           "Nelson",
           "Venegas"
          ],
          [
           "Ana María",
           "Bravo"
          ],
          [
           "Daniel",
           "Melo"
          ],
          [
           "Danisa",
           "Astudillo"
          ],
          [
           "Leonardo",
           "Soto"
          ],
          [
           "Daniel",
           "Manouchehri"
          ],
          [
           "Raúl",
           "Leiva"
          ],
          [
           "Marcos",
           "Ilabaca"
          ]
         ],
         "hovertemplate": "partido=Partido Socialista<br>PCA1=%{x}<br>index=%{y}<br>nombre=%{customdata[0]}<br>apellido=%{customdata[1]}<extra></extra>",
         "legendgroup": "Partido Socialista",
         "marker": {
          "color": "#C9FBE5",
          "symbol": "circle"
         },
         "mode": "markers",
         "name": "Partido Socialista",
         "orientation": "v",
         "showlegend": true,
         "type": "scatter",
         "x": [
          -36.31899422670335,
          -35.184482289240336,
          -34.86165348886615,
          -33.65799449647229,
          -32.61152784242284,
          -32.54877317024841,
          -32.02512799688062,
          -31.80364870249964,
          -31.02251167327378,
          -30.954993475006418,
          -30.51652858970662,
          -29.85635378518971
         ],
         "xaxis": "x",
         "y": [
          36,
          39,
          40,
          43,
          47,
          48,
          49,
          50,
          52,
          53,
          55,
          56
         ],
         "yaxis": "y"
        },
        {
         "customdata": [
          [
           "Helia",
           "Molina"
          ],
          [
           "Carolina",
           "Marzán"
          ],
          [
           "Raúl",
           "Soto"
          ]
         ],
         "hovertemplate": "partido=Partido Por la Democracia<br>PCA1=%{x}<br>index=%{y}<br>nombre=%{customdata[0]}<br>apellido=%{customdata[1]}<extra></extra>",
         "legendgroup": "Partido Por la Democracia",
         "marker": {
          "color": "#D626FF",
          "symbol": "circle"
         },
         "mode": "markers",
         "name": "Partido Por la Democracia",
         "orientation": "v",
         "showlegend": true,
         "type": "scatter",
         "x": [
          -34.354753390867266,
          -30.799730050532425,
          -24.64269700091176
         ],
         "xaxis": "x",
         "y": [
          41,
          54,
          62
         ],
         "yaxis": "y"
        },
        {
         "customdata": [
          [
           "Vlado",
           "Mirosevic"
          ],
          [
           "Luis",
           "Malla"
          ],
          [
           "Alejandro",
           "Bernales"
          ]
         ],
         "hovertemplate": "partido=Partido Liberal de Chile<br>PCA1=%{x}<br>index=%{y}<br>nombre=%{customdata[0]}<br>apellido=%{customdata[1]}<extra></extra>",
         "legendgroup": "Partido Liberal de Chile",
         "marker": {
          "color": "#DC587D",
          "symbol": "circle"
         },
         "mode": "markers",
         "name": "Partido Liberal de Chile",
         "orientation": "v",
         "showlegend": true,
         "type": "scatter",
         "x": [
          -31.21912411669926,
          -29.625381522749027,
          -24.57617090529203
         ],
         "xaxis": "x",
         "y": [
          51,
          57,
          63
         ],
         "yaxis": "y"
        },
        {
         "customdata": [
          [
           "Cosme",
           "Mellado"
          ],
          [
           "Alexis",
           "Sepúlveda"
          ]
         ],
         "hovertemplate": "partido=Partido Radical de Chile<br>PCA1=%{x}<br>index=%{y}<br>nombre=%{customdata[0]}<br>apellido=%{customdata[1]}<extra></extra>",
         "legendgroup": "Partido Radical de Chile",
         "marker": {
          "color": "#6E899C",
          "symbol": "circle"
         },
         "mode": "markers",
         "name": "Partido Radical de Chile",
         "orientation": "v",
         "showlegend": true,
         "type": "scatter",
         "x": [
          -27.02053751073635,
          -23.306647330779118
         ],
         "xaxis": "x",
         "y": [
          61,
          66
         ],
         "yaxis": "y"
        },
        {
         "customdata": [
          [
           "Pamela",
           "Jiles"
          ]
         ],
         "hovertemplate": "partido=Partido Humanista<br>PCA1=%{x}<br>index=%{y}<br>nombre=%{customdata[0]}<br>apellido=%{customdata[1]}<extra></extra>",
         "legendgroup": "Partido Humanista",
         "marker": {
          "color": "#EEA6FB",
          "symbol": "circle"
         },
         "mode": "markers",
         "name": "Partido Humanista",
         "orientation": "v",
         "showlegend": true,
         "type": "scatter",
         "x": [
          -19.8426582147852
         ],
         "xaxis": "x",
         "y": [
          69
         ],
         "yaxis": "y"
        },
        {
         "customdata": [
          [
           "Alberto",
           "Undurraga"
          ],
          [
           "Héctor",
           "Barría"
          ],
          [
           "Ricardo",
           "Cifuentes"
          ],
          [
           "Eric",
           "Aedo"
          ]
         ],
         "hovertemplate": "partido=Partido Demócrata Cristiano<br>PCA1=%{x}<br>index=%{y}<br>nombre=%{customdata[0]}<br>apellido=%{customdata[1]}<extra></extra>",
         "legendgroup": "Partido Demócrata Cristiano",
         "marker": {
          "color": "#FF9616",
          "symbol": "circle"
         },
         "mode": "markers",
         "name": "Partido Demócrata Cristiano",
         "orientation": "v",
         "showlegend": true,
         "type": "scatter",
         "x": [
          -18.354507302801736,
          -18.17406962043472,
          -18.080863986090154,
          -12.996305853616057
         ],
         "xaxis": "x",
         "y": [
          71,
          72,
          73,
          74
         ],
         "yaxis": "y"
        },
        {
         "customdata": [
          [
           "Andrés",
           "Jouannet"
          ]
         ],
         "hovertemplate": "partido=Movimiento Amarillos por Chile<br>PCA1=%{x}<br>index=%{y}<br>nombre=%{customdata[0]}<br>apellido=%{customdata[1]}<extra></extra>",
         "legendgroup": "Movimiento Amarillos por Chile",
         "marker": {
          "color": "#FE00CE",
          "symbol": "circle"
         },
         "mode": "markers",
         "name": "Movimiento Amarillos por Chile",
         "orientation": "v",
         "showlegend": true,
         "type": "scatter",
         "x": [
          -3.518165432051511
         ],
         "xaxis": "x",
         "y": [
          76
         ],
         "yaxis": "y"
        },
        {
         "customdata": [
          [
           "Jorge",
           "Saffirio"
          ],
          [
           "Joanna",
           "Pérez"
          ],
          [
           "Erika",
           "Olivera"
          ],
          [
           "Víctor Alejandro",
           "Pino"
          ]
         ],
         "hovertemplate": "partido=Partido Demócratas Chile<br>PCA1=%{x}<br>index=%{y}<br>nombre=%{customdata[0]}<br>apellido=%{customdata[1]}<extra></extra>",
         "legendgroup": "Partido Demócratas Chile",
         "marker": {
          "color": "#479B55",
          "symbol": "circle"
         },
         "mode": "markers",
         "name": "Partido Demócratas Chile",
         "orientation": "v",
         "showlegend": true,
         "type": "scatter",
         "x": [
          -2.658333270180194,
          -2.1974108711106792,
          0.5971063224446012,
          26.666887126078862
         ],
         "xaxis": "x",
         "y": [
          77,
          78,
          79,
          87
         ],
         "yaxis": "y"
        },
        {
         "customdata": [
          [
           "Roberto",
           "Arroyo"
          ],
          [
           "Francesca",
           "Muñoz"
          ],
          [
           "Sara",
           "Concha"
          ]
         ],
         "hovertemplate": "partido=Partido Social Cristiano<br>PCA1=%{x}<br>index=%{y}<br>nombre=%{customdata[0]}<br>apellido=%{customdata[1]}<extra></extra>",
         "legendgroup": "Partido Social Cristiano",
         "marker": {
          "color": "#B68E00",
          "symbol": "circle"
         },
         "mode": "markers",
         "name": "Partido Social Cristiano",
         "orientation": "v",
         "showlegend": true,
         "type": "scatter",
         "x": [
          23.561205726944088,
          29.90352635949159,
          31.725090009771105
         ],
         "xaxis": "x",
         "y": [
          85,
          93,
          96
         ],
         "yaxis": "y"
        },
        {
         "customdata": [
          [
           "Francisco",
           "Undurraga"
          ],
          [
           "Jorge",
           "Guzmán"
          ]
         ],
         "hovertemplate": "partido=Evolución Política<br>PCA1=%{x}<br>index=%{y}<br>nombre=%{customdata[0]}<br>apellido=%{customdata[1]}<extra></extra>",
         "legendgroup": "Evolución Política",
         "marker": {
          "color": "#FD3216",
          "symbol": "circle"
         },
         "mode": "markers",
         "name": "Evolución Política",
         "orientation": "v",
         "showlegend": true,
         "type": "scatter",
         "x": [
          28.034537069183923,
          29.56607139136728
         ],
         "xaxis": "x",
         "y": [
          88,
          92
         ],
         "yaxis": "y"
        },
        {
         "customdata": [
          [
           "Ximena",
           "Ossandón"
          ],
          [
           "Hugo",
           "Rey"
          ],
          [
           "Andrés",
           "Longton"
          ],
          [
           "Andrés",
           "Celis"
          ],
          [
           "Carla",
           "Morales"
          ],
          [
           "Juan Carlos",
           "Beltrán"
          ],
          [
           "Mauro",
           "González"
          ],
          [
           "Diego",
           "Schalper"
          ],
          [
           "Jorge",
           "Durán"
          ],
          [
           "José Miguel",
           "Castro"
          ],
          [
           "Frank",
           "Sauerbaum"
          ],
          [
           "Marcia",
           "Raphael"
          ],
          [
           "Eduardo",
           "Durán"
          ],
          [
           "Jorge",
           "Rathgeb"
          ],
          [
           "Miguel",
           "Mellado"
          ],
          [
           "Camila",
           "Flores"
          ],
          [
           "Miguel Ángel",
           "Becker"
          ]
         ],
         "hovertemplate": "partido=Renovación Nacional<br>PCA1=%{x}<br>index=%{y}<br>nombre=%{customdata[0]}<br>apellido=%{customdata[1]}<extra></extra>",
         "legendgroup": "Renovación Nacional",
         "marker": {
          "color": "#FF0092",
          "symbol": "circle"
         },
         "mode": "markers",
         "name": "Renovación Nacional",
         "orientation": "v",
         "showlegend": true,
         "type": "scatter",
         "x": [
          29.346648872917626,
          31.351189501157172,
          31.600262259070295,
          32.105097657839224,
          32.59196824475187,
          33.45252487511213,
          33.582673152782135,
          33.66413191543122,
          33.82428830629449,
          33.87063154910864,
          34.72720898664693,
          34.917580936094765,
          34.98010637576249,
          34.995221495935596,
          35.38980353451422,
          35.88923159303962,
          36.56104335198141
         ],
         "xaxis": "x",
         "y": [
          91,
          94,
          95,
          98,
          99,
          100,
          101,
          103,
          104,
          105,
          108,
          109,
          110,
          111,
          112,
          116,
          122
         ],
         "yaxis": "y"
        },
        {
         "customdata": [
          [
           "Cristhian",
           "Moreira"
          ],
          [
           "Marta",
           "Bravo"
          ],
          [
           "Henry",
           "Leal"
          ],
          [
           "Álvaro",
           "Carter"
          ],
          [
           "Joaquín",
           "Lavín"
          ],
          [
           "Fernando",
           "Bórquez"
          ],
          [
           "Juan",
           "Fuenzalida"
          ],
          [
           "Juan Antonio",
           "Coloma"
          ],
          [
           "Jorge",
           "Alessandri"
          ],
          [
           "Eduardo",
           "Cornejo"
          ],
          [
           "Gastón",
           "Von Mühlenbrock"
          ],
          [
           "Cristóbal",
           "Martínez"
          ],
          [
           "Daniel",
           "Lilayu"
          ],
          [
           "Felipe",
           "Donoso"
          ],
          [
           "Guillermo",
           "Ramírez"
          ],
          [
           "Marco Antonio",
           "Sulantay"
          ],
          [
           "Flor",
           "Weisse"
          ],
          [
           "Cristian",
           "Labbé"
          ],
          [
           "Gustavo",
           "Benavente"
          ],
          [
           "Sergio",
           "Bobadilla"
          ]
         ],
         "hovertemplate": "partido=Unión Demócrata Independiente<br>PCA1=%{x}<br>index=%{y}<br>nombre=%{customdata[0]}<br>apellido=%{customdata[1]}<extra></extra>",
         "legendgroup": "Unión Demócrata Independiente",
         "marker": {
          "color": "#22FFA7",
          "symbol": "circle"
         },
         "mode": "markers",
         "name": "Unión Demócrata Independiente",
         "orientation": "v",
         "showlegend": true,
         "type": "scatter",
         "x": [
          35.54793991177082,
          35.81112217469519,
          36.1123837569421,
          36.158638857163844,
          36.19896447272821,
          36.504303339528654,
          36.881920865390406,
          37.12220080344877,
          37.23258181176788,
          37.50543509065643,
          37.81318916313491,
          37.85184873388094,
          37.890437962188706,
          38.151154457045905,
          38.243616100938326,
          38.75882557225509,
          38.77503579801396,
          38.83325640323408,
          39.0994860054731,
          40.26465782708833
         ],
         "xaxis": "x",
         "y": [
          114,
          115,
          117,
          118,
          119,
          120,
          124,
          125,
          126,
          127,
          128,
          129,
          130,
          131,
          132,
          133,
          134,
          135,
          137,
          139
         ],
         "yaxis": "y"
        },
        {
         "customdata": [
          [
           "Cristóbal",
           "Urruticoechea"
          ],
          [
           "Cristián",
           "Araya"
          ],
          [
           "Chiara",
           "Barchiesi"
          ],
          [
           "José Carlos",
           "Meza"
          ],
          [
           "Luis",
           "Sánchez"
          ],
          [
           "Juan",
           "Irarrázaval"
          ],
          [
           "Benjamín",
           "Moreno"
          ],
          [
           "Agustín",
           "Romero"
          ]
         ],
         "hovertemplate": "partido=Partido Republicano<br>PCA1=%{x}<br>index=%{y}<br>nombre=%{customdata[0]}<br>apellido=%{customdata[1]}<extra></extra>",
         "legendgroup": "Partido Republicano",
         "marker": {
          "color": "#00B5F7",
          "symbol": "circle"
         },
         "mode": "markers",
         "name": "Partido Republicano",
         "orientation": "v",
         "showlegend": true,
         "type": "scatter",
         "x": [
          42.26720671521158,
          42.59388608061322,
          42.68514969055386,
          42.83314875860377,
          42.971491384174335,
          42.986982350517266,
          43.00564860428393,
          43.02897301509663
         ],
         "xaxis": "x",
         "y": [
          142,
          144,
          147,
          149,
          150,
          151,
          152,
          153
         ],
         "yaxis": "y"
        }
       ],
       "layout": {
        "autosize": false,
        "height": 1000,
        "legend": {
         "title": {
          "text": "partido"
         },
         "tracegroupgap": 0
        },
        "template": {
         "data": {
          "bar": [
           {
            "error_x": {
             "color": "#2a3f5f"
            },
            "error_y": {
             "color": "#2a3f5f"
            },
            "marker": {
             "line": {
              "color": "#E5ECF6",
              "width": 0.5
             },
             "pattern": {
              "fillmode": "overlay",
              "size": 10,
              "solidity": 0.2
             }
            },
            "type": "bar"
           }
          ],
          "barpolar": [
           {
            "marker": {
             "line": {
              "color": "#E5ECF6",
              "width": 0.5
             },
             "pattern": {
              "fillmode": "overlay",
              "size": 10,
              "solidity": 0.2
             }
            },
            "type": "barpolar"
           }
          ],
          "carpet": [
           {
            "aaxis": {
             "endlinecolor": "#2a3f5f",
             "gridcolor": "white",
             "linecolor": "white",
             "minorgridcolor": "white",
             "startlinecolor": "#2a3f5f"
            },
            "baxis": {
             "endlinecolor": "#2a3f5f",
             "gridcolor": "white",
             "linecolor": "white",
             "minorgridcolor": "white",
             "startlinecolor": "#2a3f5f"
            },
            "type": "carpet"
           }
          ],
          "choropleth": [
           {
            "colorbar": {
             "outlinewidth": 0,
             "ticks": ""
            },
            "type": "choropleth"
           }
          ],
          "contour": [
           {
            "colorbar": {
             "outlinewidth": 0,
             "ticks": ""
            },
            "colorscale": [
             [
              0,
              "#0d0887"
             ],
             [
              0.1111111111111111,
              "#46039f"
             ],
             [
              0.2222222222222222,
              "#7201a8"
             ],
             [
              0.3333333333333333,
              "#9c179e"
             ],
             [
              0.4444444444444444,
              "#bd3786"
             ],
             [
              0.5555555555555556,
              "#d8576b"
             ],
             [
              0.6666666666666666,
              "#ed7953"
             ],
             [
              0.7777777777777778,
              "#fb9f3a"
             ],
             [
              0.8888888888888888,
              "#fdca26"
             ],
             [
              1,
              "#f0f921"
             ]
            ],
            "type": "contour"
           }
          ],
          "contourcarpet": [
           {
            "colorbar": {
             "outlinewidth": 0,
             "ticks": ""
            },
            "type": "contourcarpet"
           }
          ],
          "heatmap": [
           {
            "colorbar": {
             "outlinewidth": 0,
             "ticks": ""
            },
            "colorscale": [
             [
              0,
              "#0d0887"
             ],
             [
              0.1111111111111111,
              "#46039f"
             ],
             [
              0.2222222222222222,
              "#7201a8"
             ],
             [
              0.3333333333333333,
              "#9c179e"
             ],
             [
              0.4444444444444444,
              "#bd3786"
             ],
             [
              0.5555555555555556,
              "#d8576b"
             ],
             [
              0.6666666666666666,
              "#ed7953"
             ],
             [
              0.7777777777777778,
              "#fb9f3a"
             ],
             [
              0.8888888888888888,
              "#fdca26"
             ],
             [
              1,
              "#f0f921"
             ]
            ],
            "type": "heatmap"
           }
          ],
          "heatmapgl": [
           {
            "colorbar": {
             "outlinewidth": 0,
             "ticks": ""
            },
            "colorscale": [
             [
              0,
              "#0d0887"
             ],
             [
              0.1111111111111111,
              "#46039f"
             ],
             [
              0.2222222222222222,
              "#7201a8"
             ],
             [
              0.3333333333333333,
              "#9c179e"
             ],
             [
              0.4444444444444444,
              "#bd3786"
             ],
             [
              0.5555555555555556,
              "#d8576b"
             ],
             [
              0.6666666666666666,
              "#ed7953"
             ],
             [
              0.7777777777777778,
              "#fb9f3a"
             ],
             [
              0.8888888888888888,
              "#fdca26"
             ],
             [
              1,
              "#f0f921"
             ]
            ],
            "type": "heatmapgl"
           }
          ],
          "histogram": [
           {
            "marker": {
             "pattern": {
              "fillmode": "overlay",
              "size": 10,
              "solidity": 0.2
             }
            },
            "type": "histogram"
           }
          ],
          "histogram2d": [
           {
            "colorbar": {
             "outlinewidth": 0,
             "ticks": ""
            },
            "colorscale": [
             [
              0,
              "#0d0887"
             ],
             [
              0.1111111111111111,
              "#46039f"
             ],
             [
              0.2222222222222222,
              "#7201a8"
             ],
             [
              0.3333333333333333,
              "#9c179e"
             ],
             [
              0.4444444444444444,
              "#bd3786"
             ],
             [
              0.5555555555555556,
              "#d8576b"
             ],
             [
              0.6666666666666666,
              "#ed7953"
             ],
             [
              0.7777777777777778,
              "#fb9f3a"
             ],
             [
              0.8888888888888888,
              "#fdca26"
             ],
             [
              1,
              "#f0f921"
             ]
            ],
            "type": "histogram2d"
           }
          ],
          "histogram2dcontour": [
           {
            "colorbar": {
             "outlinewidth": 0,
             "ticks": ""
            },
            "colorscale": [
             [
              0,
              "#0d0887"
             ],
             [
              0.1111111111111111,
              "#46039f"
             ],
             [
              0.2222222222222222,
              "#7201a8"
             ],
             [
              0.3333333333333333,
              "#9c179e"
             ],
             [
              0.4444444444444444,
              "#bd3786"
             ],
             [
              0.5555555555555556,
              "#d8576b"
             ],
             [
              0.6666666666666666,
              "#ed7953"
             ],
             [
              0.7777777777777778,
              "#fb9f3a"
             ],
             [
              0.8888888888888888,
              "#fdca26"
             ],
             [
              1,
              "#f0f921"
             ]
            ],
            "type": "histogram2dcontour"
           }
          ],
          "mesh3d": [
           {
            "colorbar": {
             "outlinewidth": 0,
             "ticks": ""
            },
            "type": "mesh3d"
           }
          ],
          "parcoords": [
           {
            "line": {
             "colorbar": {
              "outlinewidth": 0,
              "ticks": ""
             }
            },
            "type": "parcoords"
           }
          ],
          "pie": [
           {
            "automargin": true,
            "type": "pie"
           }
          ],
          "scatter": [
           {
            "fillpattern": {
             "fillmode": "overlay",
             "size": 10,
             "solidity": 0.2
            },
            "type": "scatter"
           }
          ],
          "scatter3d": [
           {
            "line": {
             "colorbar": {
              "outlinewidth": 0,
              "ticks": ""
             }
            },
            "marker": {
             "colorbar": {
              "outlinewidth": 0,
              "ticks": ""
             }
            },
            "type": "scatter3d"
           }
          ],
          "scattercarpet": [
           {
            "marker": {
             "colorbar": {
              "outlinewidth": 0,
              "ticks": ""
             }
            },
            "type": "scattercarpet"
           }
          ],
          "scattergeo": [
           {
            "marker": {
             "colorbar": {
              "outlinewidth": 0,
              "ticks": ""
             }
            },
            "type": "scattergeo"
           }
          ],
          "scattergl": [
           {
            "marker": {
             "colorbar": {
              "outlinewidth": 0,
              "ticks": ""
             }
            },
            "type": "scattergl"
           }
          ],
          "scattermapbox": [
           {
            "marker": {
             "colorbar": {
              "outlinewidth": 0,
              "ticks": ""
             }
            },
            "type": "scattermapbox"
           }
          ],
          "scatterpolar": [
           {
            "marker": {
             "colorbar": {
              "outlinewidth": 0,
              "ticks": ""
             }
            },
            "type": "scatterpolar"
           }
          ],
          "scatterpolargl": [
           {
            "marker": {
             "colorbar": {
              "outlinewidth": 0,
              "ticks": ""
             }
            },
            "type": "scatterpolargl"
           }
          ],
          "scatterternary": [
           {
            "marker": {
             "colorbar": {
              "outlinewidth": 0,
              "ticks": ""
             }
            },
            "type": "scatterternary"
           }
          ],
          "surface": [
           {
            "colorbar": {
             "outlinewidth": 0,
             "ticks": ""
            },
            "colorscale": [
             [
              0,
              "#0d0887"
             ],
             [
              0.1111111111111111,
              "#46039f"
             ],
             [
              0.2222222222222222,
              "#7201a8"
             ],
             [
              0.3333333333333333,
              "#9c179e"
             ],
             [
              0.4444444444444444,
              "#bd3786"
             ],
             [
              0.5555555555555556,
              "#d8576b"
             ],
             [
              0.6666666666666666,
              "#ed7953"
             ],
             [
              0.7777777777777778,
              "#fb9f3a"
             ],
             [
              0.8888888888888888,
              "#fdca26"
             ],
             [
              1,
              "#f0f921"
             ]
            ],
            "type": "surface"
           }
          ],
          "table": [
           {
            "cells": {
             "fill": {
              "color": "#EBF0F8"
             },
             "line": {
              "color": "white"
             }
            },
            "header": {
             "fill": {
              "color": "#C8D4E3"
             },
             "line": {
              "color": "white"
             }
            },
            "type": "table"
           }
          ]
         },
         "layout": {
          "annotationdefaults": {
           "arrowcolor": "#2a3f5f",
           "arrowhead": 0,
           "arrowwidth": 1
          },
          "autotypenumbers": "strict",
          "coloraxis": {
           "colorbar": {
            "outlinewidth": 0,
            "ticks": ""
           }
          },
          "colorscale": {
           "diverging": [
            [
             0,
             "#8e0152"
            ],
            [
             0.1,
             "#c51b7d"
            ],
            [
             0.2,
             "#de77ae"
            ],
            [
             0.3,
             "#f1b6da"
            ],
            [
             0.4,
             "#fde0ef"
            ],
            [
             0.5,
             "#f7f7f7"
            ],
            [
             0.6,
             "#e6f5d0"
            ],
            [
             0.7,
             "#b8e186"
            ],
            [
             0.8,
             "#7fbc41"
            ],
            [
             0.9,
             "#4d9221"
            ],
            [
             1,
             "#276419"
            ]
           ],
           "sequential": [
            [
             0,
             "#0d0887"
            ],
            [
             0.1111111111111111,
             "#46039f"
            ],
            [
             0.2222222222222222,
             "#7201a8"
            ],
            [
             0.3333333333333333,
             "#9c179e"
            ],
            [
             0.4444444444444444,
             "#bd3786"
            ],
            [
             0.5555555555555556,
             "#d8576b"
            ],
            [
             0.6666666666666666,
             "#ed7953"
            ],
            [
             0.7777777777777778,
             "#fb9f3a"
            ],
            [
             0.8888888888888888,
             "#fdca26"
            ],
            [
             1,
             "#f0f921"
            ]
           ],
           "sequentialminus": [
            [
             0,
             "#0d0887"
            ],
            [
             0.1111111111111111,
             "#46039f"
            ],
            [
             0.2222222222222222,
             "#7201a8"
            ],
            [
             0.3333333333333333,
             "#9c179e"
            ],
            [
             0.4444444444444444,
             "#bd3786"
            ],
            [
             0.5555555555555556,
             "#d8576b"
            ],
            [
             0.6666666666666666,
             "#ed7953"
            ],
            [
             0.7777777777777778,
             "#fb9f3a"
            ],
            [
             0.8888888888888888,
             "#fdca26"
            ],
            [
             1,
             "#f0f921"
            ]
           ]
          },
          "colorway": [
           "#636efa",
           "#EF553B",
           "#00cc96",
           "#ab63fa",
           "#FFA15A",
           "#19d3f3",
           "#FF6692",
           "#B6E880",
           "#FF97FF",
           "#FECB52"
          ],
          "font": {
           "color": "#2a3f5f"
          },
          "geo": {
           "bgcolor": "white",
           "lakecolor": "white",
           "landcolor": "#E5ECF6",
           "showlakes": true,
           "showland": true,
           "subunitcolor": "white"
          },
          "hoverlabel": {
           "align": "left"
          },
          "hovermode": "closest",
          "mapbox": {
           "style": "light"
          },
          "paper_bgcolor": "white",
          "plot_bgcolor": "#E5ECF6",
          "polar": {
           "angularaxis": {
            "gridcolor": "white",
            "linecolor": "white",
            "ticks": ""
           },
           "bgcolor": "#E5ECF6",
           "radialaxis": {
            "gridcolor": "white",
            "linecolor": "white",
            "ticks": ""
           }
          },
          "scene": {
           "xaxis": {
            "backgroundcolor": "#E5ECF6",
            "gridcolor": "white",
            "gridwidth": 2,
            "linecolor": "white",
            "showbackground": true,
            "ticks": "",
            "zerolinecolor": "white"
           },
           "yaxis": {
            "backgroundcolor": "#E5ECF6",
            "gridcolor": "white",
            "gridwidth": 2,
            "linecolor": "white",
            "showbackground": true,
            "ticks": "",
            "zerolinecolor": "white"
           },
           "zaxis": {
            "backgroundcolor": "#E5ECF6",
            "gridcolor": "white",
            "gridwidth": 2,
            "linecolor": "white",
            "showbackground": true,
            "ticks": "",
            "zerolinecolor": "white"
           }
          },
          "shapedefaults": {
           "line": {
            "color": "#2a3f5f"
           }
          },
          "ternary": {
           "aaxis": {
            "gridcolor": "white",
            "linecolor": "white",
            "ticks": ""
           },
           "baxis": {
            "gridcolor": "white",
            "linecolor": "white",
            "ticks": ""
           },
           "bgcolor": "#E5ECF6",
           "caxis": {
            "gridcolor": "white",
            "linecolor": "white",
            "ticks": ""
           }
          },
          "title": {
           "x": 0.05
          },
          "xaxis": {
           "automargin": true,
           "gridcolor": "white",
           "linecolor": "white",
           "ticks": "",
           "title": {
            "standoff": 15
           },
           "zerolinecolor": "white",
           "zerolinewidth": 2
          },
          "yaxis": {
           "automargin": true,
           "gridcolor": "white",
           "linecolor": "white",
           "ticks": "",
           "title": {
            "standoff": 15
           },
           "zerolinecolor": "white",
           "zerolinewidth": 2
          }
         }
        },
        "title": {
         "text": "Diputados según eje izquierda-derecha (componente 1 de PCA)"
        },
        "width": 1000,
        "xaxis": {
         "anchor": "y",
         "domain": [
          0,
          1
         ],
         "title": {
          "text": "PCA1"
         }
        },
        "yaxis": {
         "anchor": "x",
         "domain": [
          0,
          1
         ],
         "title": {
          "text": "index"
         }
        }
       }
      }
     },
     "metadata": {},
     "output_type": "display_data"
    }
   ],
   "source": [
    "# ordenamos los diputados según PCA1 y les asignamos su posición en `index`\n",
    "pca_df_ordered = (\n",
    "    pca_df.sort_values(\"PCA1\")\n",
    "    .reset_index()[[\"PCA1\", \"partido\", \"nombre\", \"apellido\"]]\n",
    "    .reset_index()\n",
    ")\n",
    "fig = px.scatter(\n",
    "    pca_df_ordered,\n",
    "    x=\"PCA1\",\n",
    "    y=\"index\",\n",
    "    color=\"partido\",\n",
    "    hover_data=[\"nombre\", \"apellido\"],\n",
    "    color_discrete_map=color_map,\n",
    "    title=\"Diputados según eje izquierda-derecha (componente 1 de PCA)\",\n",
    ")\n",
    "fig.update_layout(\n",
    "    autosize=False,\n",
    "    width=1000,\n",
    "    height=1000,\n",
    ")\n",
    "fig.show()"
   ]
  },
  {
   "cell_type": "code",
   "execution_count": 9,
   "metadata": {},
   "outputs": [
    {
     "data": {
      "text/html": [
       "<div>\n",
       "<style scoped>\n",
       "    .dataframe tbody tr th:only-of-type {\n",
       "        vertical-align: middle;\n",
       "    }\n",
       "\n",
       "    .dataframe tbody tr th {\n",
       "        vertical-align: top;\n",
       "    }\n",
       "\n",
       "    .dataframe thead th {\n",
       "        text-align: right;\n",
       "    }\n",
       "</style>\n",
       "<table border=\"1\" class=\"dataframe\">\n",
       "  <thead>\n",
       "    <tr style=\"text-align: right;\">\n",
       "      <th></th>\n",
       "      <th>PCA1</th>\n",
       "      <th>partido</th>\n",
       "      <th>nombre</th>\n",
       "      <th>apellido</th>\n",
       "    </tr>\n",
       "  </thead>\n",
       "  <tbody>\n",
       "    <tr>\n",
       "      <th>0</th>\n",
       "      <td>-41.784536</td>\n",
       "      <td>Partido Comunista</td>\n",
       "      <td>Lorena</td>\n",
       "      <td>Pizarro</td>\n",
       "    </tr>\n",
       "    <tr>\n",
       "      <th>1</th>\n",
       "      <td>-41.734838</td>\n",
       "      <td>Partido Comunista</td>\n",
       "      <td>Matías</td>\n",
       "      <td>Ramírez</td>\n",
       "    </tr>\n",
       "    <tr>\n",
       "      <th>2</th>\n",
       "      <td>-41.694687</td>\n",
       "      <td>Partido Comunista</td>\n",
       "      <td>Nathalie</td>\n",
       "      <td>Castillo</td>\n",
       "    </tr>\n",
       "    <tr>\n",
       "      <th>3</th>\n",
       "      <td>-41.591144</td>\n",
       "      <td>Partido Acción Humanista</td>\n",
       "      <td>Tomás</td>\n",
       "      <td>Hirsch</td>\n",
       "    </tr>\n",
       "    <tr>\n",
       "      <th>4</th>\n",
       "      <td>-41.533545</td>\n",
       "      <td>Partido Comunista</td>\n",
       "      <td>María Candelaria</td>\n",
       "      <td>Acevedo</td>\n",
       "    </tr>\n",
       "    <tr>\n",
       "      <th>...</th>\n",
       "      <td>...</td>\n",
       "      <td>...</td>\n",
       "      <td>...</td>\n",
       "      <td>...</td>\n",
       "    </tr>\n",
       "    <tr>\n",
       "      <th>150</th>\n",
       "      <td>42.971491</td>\n",
       "      <td>Partido Republicano</td>\n",
       "      <td>Luis</td>\n",
       "      <td>Sánchez</td>\n",
       "    </tr>\n",
       "    <tr>\n",
       "      <th>151</th>\n",
       "      <td>42.986982</td>\n",
       "      <td>Partido Republicano</td>\n",
       "      <td>Juan</td>\n",
       "      <td>Irarrázaval</td>\n",
       "    </tr>\n",
       "    <tr>\n",
       "      <th>152</th>\n",
       "      <td>43.005649</td>\n",
       "      <td>Partido Republicano</td>\n",
       "      <td>Benjamín</td>\n",
       "      <td>Moreno</td>\n",
       "    </tr>\n",
       "    <tr>\n",
       "      <th>153</th>\n",
       "      <td>43.028973</td>\n",
       "      <td>Partido Republicano</td>\n",
       "      <td>Agustín</td>\n",
       "      <td>Romero</td>\n",
       "    </tr>\n",
       "    <tr>\n",
       "      <th>154</th>\n",
       "      <td>43.086088</td>\n",
       "      <td>Independientes</td>\n",
       "      <td>Harry</td>\n",
       "      <td>Jürgensen</td>\n",
       "    </tr>\n",
       "  </tbody>\n",
       "</table>\n",
       "<p>155 rows × 4 columns</p>\n",
       "</div>"
      ],
      "text/plain": [
       "          PCA1                   partido            nombre     apellido\n",
       "0   -41.784536         Partido Comunista            Lorena      Pizarro\n",
       "1   -41.734838         Partido Comunista            Matías      Ramírez\n",
       "2   -41.694687         Partido Comunista          Nathalie     Castillo\n",
       "3   -41.591144  Partido Acción Humanista             Tomás       Hirsch\n",
       "4   -41.533545         Partido Comunista  María Candelaria      Acevedo\n",
       "..         ...                       ...               ...          ...\n",
       "150  42.971491       Partido Republicano              Luis      Sánchez\n",
       "151  42.986982       Partido Republicano              Juan  Irarrázaval\n",
       "152  43.005649       Partido Republicano          Benjamín       Moreno\n",
       "153  43.028973       Partido Republicano           Agustín       Romero\n",
       "154  43.086088            Independientes             Harry    Jürgensen\n",
       "\n",
       "[155 rows x 4 columns]"
      ]
     },
     "execution_count": 9,
     "metadata": {},
     "output_type": "execute_result"
    }
   ],
   "source": [
    "# diputados más \"extremos\"\n",
    "(pca_df.sort_values(\"PCA1\").reset_index())[\n",
    "    [\"PCA1\", \"partido\", \"nombre\", \"apellido\"]\n",
    "]"
   ]
  },
  {
   "cell_type": "code",
   "execution_count": 10,
   "metadata": {},
   "outputs": [
    {
     "data": {
      "application/vnd.plotly.v1+json": {
       "config": {
        "plotlyServerURL": "https://plot.ly"
       },
       "data": [
        {
         "hovertemplate": "partido=Frente Amplio<br>PCA1=%{x}<br>PCA2=%{y}<extra></extra>",
         "legendgroup": "Frente Amplio",
         "marker": {
          "color": "#6A76FC",
          "symbol": "circle"
         },
         "mode": "markers",
         "name": "Frente Amplio",
         "orientation": "v",
         "showlegend": true,
         "type": "scatter",
         "x": [
          -39.69438973423054
         ],
         "xaxis": "x",
         "y": [
          6.012372289856896
         ],
         "yaxis": "y"
        },
        {
         "hovertemplate": "partido=Unión Demócrata Independiente<br>PCA1=%{x}<br>PCA2=%{y}<extra></extra>",
         "legendgroup": "Unión Demócrata Independiente",
         "marker": {
          "color": "#22FFA7",
          "symbol": "circle"
         },
         "mode": "markers",
         "name": "Unión Demócrata Independiente",
         "orientation": "v",
         "showlegend": true,
         "type": "scatter",
         "x": [
          37.537849955367285
         ],
         "xaxis": "x",
         "y": [
          0.11558104025799534
         ],
         "yaxis": "y"
        },
        {
         "hovertemplate": "partido=Independientes<br>PCA1=%{x}<br>PCA2=%{y}<extra></extra>",
         "legendgroup": "Independientes",
         "marker": {
          "color": "#FED4C4",
          "symbol": "circle"
         },
         "mode": "markers",
         "name": "Independientes",
         "orientation": "v",
         "showlegend": true,
         "type": "scatter",
         "x": [
          4.871870278628931
         ],
         "xaxis": "x",
         "y": [
          -0.2815105661881115
         ],
         "yaxis": "y"
        },
        {
         "hovertemplate": "partido=Partido Demócrata Cristiano<br>PCA1=%{x}<br>PCA2=%{y}<extra></extra>",
         "legendgroup": "Partido Demócrata Cristiano",
         "marker": {
          "color": "#FF9616",
          "symbol": "circle"
         },
         "mode": "markers",
         "name": "Partido Demócrata Cristiano",
         "orientation": "v",
         "showlegend": true,
         "type": "scatter",
         "x": [
          -16.901436690735668
         ],
         "xaxis": "x",
         "y": [
          -9.399307160020484
         ],
         "yaxis": "y"
        },
        {
         "hovertemplate": "partido=Partido Humanista<br>PCA1=%{x}<br>PCA2=%{y}<extra></extra>",
         "legendgroup": "Partido Humanista",
         "marker": {
          "color": "#EEA6FB",
          "symbol": "circle"
         },
         "mode": "markers",
         "name": "Partido Humanista",
         "orientation": "v",
         "showlegend": true,
         "type": "scatter",
         "x": [
          -19.8426582147852
         ],
         "xaxis": "x",
         "y": [
          -2.43008751142576
         ],
         "yaxis": "y"
        },
        {
         "hovertemplate": "partido=Partido Republicano<br>PCA1=%{x}<br>PCA2=%{y}<extra></extra>",
         "legendgroup": "Partido Republicano",
         "marker": {
          "color": "#00B5F7",
          "symbol": "circle"
         },
         "mode": "markers",
         "name": "Partido Republicano",
         "orientation": "v",
         "showlegend": true,
         "type": "scatter",
         "x": [
          42.79656082488182
         ],
         "xaxis": "x",
         "y": [
          29.240063339040326
         ],
         "yaxis": "y"
        },
        {
         "hovertemplate": "partido=Partido Socialista<br>PCA1=%{x}<br>PCA2=%{y}<extra></extra>",
         "legendgroup": "Partido Socialista",
         "marker": {
          "color": "#C9FBE5",
          "symbol": "circle"
         },
         "mode": "markers",
         "name": "Partido Socialista",
         "orientation": "v",
         "showlegend": true,
         "type": "scatter",
         "x": [
          -32.61354914470918
         ],
         "xaxis": "x",
         "y": [
          -2.637438317378816
         ],
         "yaxis": "y"
        },
        {
         "hovertemplate": "partido=Partido Acción Humanista<br>PCA1=%{x}<br>PCA2=%{y}<extra></extra>",
         "legendgroup": "Partido Acción Humanista",
         "marker": {
          "color": "#0DF9FF",
          "symbol": "circle"
         },
         "mode": "markers",
         "name": "Partido Acción Humanista",
         "orientation": "v",
         "showlegend": true,
         "type": "scatter",
         "x": [
          -41.53031981699703
         ],
         "xaxis": "x",
         "y": [
          7.991247106300862
         ],
         "yaxis": "y"
        },
        {
         "hovertemplate": "partido=Renovación Nacional<br>PCA1=%{x}<br>PCA2=%{y}<extra></extra>",
         "legendgroup": "Renovación Nacional",
         "marker": {
          "color": "#FF0092",
          "symbol": "circle"
         },
         "mode": "markers",
         "name": "Renovación Nacional",
         "orientation": "v",
         "showlegend": true,
         "type": "scatter",
         "x": [
          33.69703603579058
         ],
         "xaxis": "x",
         "y": [
          -12.62136473809383
         ],
         "yaxis": "y"
        },
        {
         "hovertemplate": "partido=Partido Por la Democracia<br>PCA1=%{x}<br>PCA2=%{y}<extra></extra>",
         "legendgroup": "Partido Por la Democracia",
         "marker": {
          "color": "#D626FF",
          "symbol": "circle"
         },
         "mode": "markers",
         "name": "Partido Por la Democracia",
         "orientation": "v",
         "showlegend": true,
         "type": "scatter",
         "x": [
          -29.932393480770486
         ],
         "xaxis": "x",
         "y": [
          -4.2168912541686465
         ],
         "yaxis": "y"
        },
        {
         "hovertemplate": "partido=Partido Comunista<br>PCA1=%{x}<br>PCA2=%{y}<extra></extra>",
         "legendgroup": "Partido Comunista",
         "marker": {
          "color": "#F6F926",
          "symbol": "circle"
         },
         "mode": "markers",
         "name": "Partido Comunista",
         "orientation": "v",
         "showlegend": true,
         "type": "scatter",
         "x": [
          -41.36606645924082
         ],
         "xaxis": "x",
         "y": [
          7.794718634496642
         ],
         "yaxis": "y"
        },
        {
         "hovertemplate": "partido=Partido Social Cristiano<br>PCA1=%{x}<br>PCA2=%{y}<extra></extra>",
         "legendgroup": "Partido Social Cristiano",
         "marker": {
          "color": "#B68E00",
          "symbol": "circle"
         },
         "mode": "markers",
         "name": "Partido Social Cristiano",
         "orientation": "v",
         "showlegend": true,
         "type": "scatter",
         "x": [
          28.39660736540226
         ],
         "xaxis": "x",
         "y": [
          -11.099875353131432
         ],
         "yaxis": "y"
        },
        {
         "hovertemplate": "partido=Partido Demócratas Chile<br>PCA1=%{x}<br>PCA2=%{y}<extra></extra>",
         "legendgroup": "Partido Demócratas Chile",
         "marker": {
          "color": "#479B55",
          "symbol": "circle"
         },
         "mode": "markers",
         "name": "Partido Demócratas Chile",
         "orientation": "v",
         "showlegend": true,
         "type": "scatter",
         "x": [
          5.602062326808148
         ],
         "xaxis": "x",
         "y": [
          -14.905043526245354
         ],
         "yaxis": "y"
        },
        {
         "hovertemplate": "partido=Partido Liberal de Chile<br>PCA1=%{x}<br>PCA2=%{y}<extra></extra>",
         "legendgroup": "Partido Liberal de Chile",
         "marker": {
          "color": "#DC587D",
          "symbol": "circle"
         },
         "mode": "markers",
         "name": "Partido Liberal de Chile",
         "orientation": "v",
         "showlegend": true,
         "type": "scatter",
         "x": [
          -28.47355884824677
         ],
         "xaxis": "x",
         "y": [
          -3.649342008939655
         ],
         "yaxis": "y"
        },
        {
         "hovertemplate": "partido=Federación Regionalista Verde Social<br>PCA1=%{x}<br>PCA2=%{y}<extra></extra>",
         "legendgroup": "Federación Regionalista Verde Social",
         "marker": {
          "color": "#00FE35",
          "symbol": "circle"
         },
         "mode": "markers",
         "name": "Federación Regionalista Verde Social",
         "orientation": "v",
         "showlegend": true,
         "type": "scatter",
         "x": [
          -37.31302899537624
         ],
         "xaxis": "x",
         "y": [
          3.8736653117161395
         ],
         "yaxis": "y"
        },
        {
         "hovertemplate": "partido=Movimiento Amarillos por Chile<br>PCA1=%{x}<br>PCA2=%{y}<extra></extra>",
         "legendgroup": "Movimiento Amarillos por Chile",
         "marker": {
          "color": "#FE00CE",
          "symbol": "circle"
         },
         "mode": "markers",
         "name": "Movimiento Amarillos por Chile",
         "orientation": "v",
         "showlegend": true,
         "type": "scatter",
         "x": [
          -3.518165432051511
         ],
         "xaxis": "x",
         "y": [
          -13.293793652735113
         ],
         "yaxis": "y"
        },
        {
         "hovertemplate": "partido=Evolución Política<br>PCA1=%{x}<br>PCA2=%{y}<extra></extra>",
         "legendgroup": "Evolución Política",
         "marker": {
          "color": "#FD3216",
          "symbol": "circle"
         },
         "mode": "markers",
         "name": "Evolución Política",
         "orientation": "v",
         "showlegend": true,
         "type": "scatter",
         "x": [
          28.8003042302756
         ],
         "xaxis": "x",
         "y": [
          -5.8184658300571
         ],
         "yaxis": "y"
        },
        {
         "hovertemplate": "partido=Partido Radical de Chile<br>PCA1=%{x}<br>PCA2=%{y}<extra></extra>",
         "legendgroup": "Partido Radical de Chile",
         "marker": {
          "color": "#6E899C",
          "symbol": "circle"
         },
         "mode": "markers",
         "name": "Partido Radical de Chile",
         "orientation": "v",
         "showlegend": true,
         "type": "scatter",
         "x": [
          -25.163592420757734
         ],
         "xaxis": "x",
         "y": [
          -7.385236814902786
         ],
         "yaxis": "y"
        }
       ],
       "layout": {
        "autosize": false,
        "height": 600,
        "legend": {
         "title": {
          "text": "partido"
         },
         "tracegroupgap": 0
        },
        "margin": {
         "t": 60
        },
        "template": {
         "data": {
          "bar": [
           {
            "error_x": {
             "color": "#2a3f5f"
            },
            "error_y": {
             "color": "#2a3f5f"
            },
            "marker": {
             "line": {
              "color": "#E5ECF6",
              "width": 0.5
             },
             "pattern": {
              "fillmode": "overlay",
              "size": 10,
              "solidity": 0.2
             }
            },
            "type": "bar"
           }
          ],
          "barpolar": [
           {
            "marker": {
             "line": {
              "color": "#E5ECF6",
              "width": 0.5
             },
             "pattern": {
              "fillmode": "overlay",
              "size": 10,
              "solidity": 0.2
             }
            },
            "type": "barpolar"
           }
          ],
          "carpet": [
           {
            "aaxis": {
             "endlinecolor": "#2a3f5f",
             "gridcolor": "white",
             "linecolor": "white",
             "minorgridcolor": "white",
             "startlinecolor": "#2a3f5f"
            },
            "baxis": {
             "endlinecolor": "#2a3f5f",
             "gridcolor": "white",
             "linecolor": "white",
             "minorgridcolor": "white",
             "startlinecolor": "#2a3f5f"
            },
            "type": "carpet"
           }
          ],
          "choropleth": [
           {
            "colorbar": {
             "outlinewidth": 0,
             "ticks": ""
            },
            "type": "choropleth"
           }
          ],
          "contour": [
           {
            "colorbar": {
             "outlinewidth": 0,
             "ticks": ""
            },
            "colorscale": [
             [
              0,
              "#0d0887"
             ],
             [
              0.1111111111111111,
              "#46039f"
             ],
             [
              0.2222222222222222,
              "#7201a8"
             ],
             [
              0.3333333333333333,
              "#9c179e"
             ],
             [
              0.4444444444444444,
              "#bd3786"
             ],
             [
              0.5555555555555556,
              "#d8576b"
             ],
             [
              0.6666666666666666,
              "#ed7953"
             ],
             [
              0.7777777777777778,
              "#fb9f3a"
             ],
             [
              0.8888888888888888,
              "#fdca26"
             ],
             [
              1,
              "#f0f921"
             ]
            ],
            "type": "contour"
           }
          ],
          "contourcarpet": [
           {
            "colorbar": {
             "outlinewidth": 0,
             "ticks": ""
            },
            "type": "contourcarpet"
           }
          ],
          "heatmap": [
           {
            "colorbar": {
             "outlinewidth": 0,
             "ticks": ""
            },
            "colorscale": [
             [
              0,
              "#0d0887"
             ],
             [
              0.1111111111111111,
              "#46039f"
             ],
             [
              0.2222222222222222,
              "#7201a8"
             ],
             [
              0.3333333333333333,
              "#9c179e"
             ],
             [
              0.4444444444444444,
              "#bd3786"
             ],
             [
              0.5555555555555556,
              "#d8576b"
             ],
             [
              0.6666666666666666,
              "#ed7953"
             ],
             [
              0.7777777777777778,
              "#fb9f3a"
             ],
             [
              0.8888888888888888,
              "#fdca26"
             ],
             [
              1,
              "#f0f921"
             ]
            ],
            "type": "heatmap"
           }
          ],
          "heatmapgl": [
           {
            "colorbar": {
             "outlinewidth": 0,
             "ticks": ""
            },
            "colorscale": [
             [
              0,
              "#0d0887"
             ],
             [
              0.1111111111111111,
              "#46039f"
             ],
             [
              0.2222222222222222,
              "#7201a8"
             ],
             [
              0.3333333333333333,
              "#9c179e"
             ],
             [
              0.4444444444444444,
              "#bd3786"
             ],
             [
              0.5555555555555556,
              "#d8576b"
             ],
             [
              0.6666666666666666,
              "#ed7953"
             ],
             [
              0.7777777777777778,
              "#fb9f3a"
             ],
             [
              0.8888888888888888,
              "#fdca26"
             ],
             [
              1,
              "#f0f921"
             ]
            ],
            "type": "heatmapgl"
           }
          ],
          "histogram": [
           {
            "marker": {
             "pattern": {
              "fillmode": "overlay",
              "size": 10,
              "solidity": 0.2
             }
            },
            "type": "histogram"
           }
          ],
          "histogram2d": [
           {
            "colorbar": {
             "outlinewidth": 0,
             "ticks": ""
            },
            "colorscale": [
             [
              0,
              "#0d0887"
             ],
             [
              0.1111111111111111,
              "#46039f"
             ],
             [
              0.2222222222222222,
              "#7201a8"
             ],
             [
              0.3333333333333333,
              "#9c179e"
             ],
             [
              0.4444444444444444,
              "#bd3786"
             ],
             [
              0.5555555555555556,
              "#d8576b"
             ],
             [
              0.6666666666666666,
              "#ed7953"
             ],
             [
              0.7777777777777778,
              "#fb9f3a"
             ],
             [
              0.8888888888888888,
              "#fdca26"
             ],
             [
              1,
              "#f0f921"
             ]
            ],
            "type": "histogram2d"
           }
          ],
          "histogram2dcontour": [
           {
            "colorbar": {
             "outlinewidth": 0,
             "ticks": ""
            },
            "colorscale": [
             [
              0,
              "#0d0887"
             ],
             [
              0.1111111111111111,
              "#46039f"
             ],
             [
              0.2222222222222222,
              "#7201a8"
             ],
             [
              0.3333333333333333,
              "#9c179e"
             ],
             [
              0.4444444444444444,
              "#bd3786"
             ],
             [
              0.5555555555555556,
              "#d8576b"
             ],
             [
              0.6666666666666666,
              "#ed7953"
             ],
             [
              0.7777777777777778,
              "#fb9f3a"
             ],
             [
              0.8888888888888888,
              "#fdca26"
             ],
             [
              1,
              "#f0f921"
             ]
            ],
            "type": "histogram2dcontour"
           }
          ],
          "mesh3d": [
           {
            "colorbar": {
             "outlinewidth": 0,
             "ticks": ""
            },
            "type": "mesh3d"
           }
          ],
          "parcoords": [
           {
            "line": {
             "colorbar": {
              "outlinewidth": 0,
              "ticks": ""
             }
            },
            "type": "parcoords"
           }
          ],
          "pie": [
           {
            "automargin": true,
            "type": "pie"
           }
          ],
          "scatter": [
           {
            "fillpattern": {
             "fillmode": "overlay",
             "size": 10,
             "solidity": 0.2
            },
            "type": "scatter"
           }
          ],
          "scatter3d": [
           {
            "line": {
             "colorbar": {
              "outlinewidth": 0,
              "ticks": ""
             }
            },
            "marker": {
             "colorbar": {
              "outlinewidth": 0,
              "ticks": ""
             }
            },
            "type": "scatter3d"
           }
          ],
          "scattercarpet": [
           {
            "marker": {
             "colorbar": {
              "outlinewidth": 0,
              "ticks": ""
             }
            },
            "type": "scattercarpet"
           }
          ],
          "scattergeo": [
           {
            "marker": {
             "colorbar": {
              "outlinewidth": 0,
              "ticks": ""
             }
            },
            "type": "scattergeo"
           }
          ],
          "scattergl": [
           {
            "marker": {
             "colorbar": {
              "outlinewidth": 0,
              "ticks": ""
             }
            },
            "type": "scattergl"
           }
          ],
          "scattermapbox": [
           {
            "marker": {
             "colorbar": {
              "outlinewidth": 0,
              "ticks": ""
             }
            },
            "type": "scattermapbox"
           }
          ],
          "scatterpolar": [
           {
            "marker": {
             "colorbar": {
              "outlinewidth": 0,
              "ticks": ""
             }
            },
            "type": "scatterpolar"
           }
          ],
          "scatterpolargl": [
           {
            "marker": {
             "colorbar": {
              "outlinewidth": 0,
              "ticks": ""
             }
            },
            "type": "scatterpolargl"
           }
          ],
          "scatterternary": [
           {
            "marker": {
             "colorbar": {
              "outlinewidth": 0,
              "ticks": ""
             }
            },
            "type": "scatterternary"
           }
          ],
          "surface": [
           {
            "colorbar": {
             "outlinewidth": 0,
             "ticks": ""
            },
            "colorscale": [
             [
              0,
              "#0d0887"
             ],
             [
              0.1111111111111111,
              "#46039f"
             ],
             [
              0.2222222222222222,
              "#7201a8"
             ],
             [
              0.3333333333333333,
              "#9c179e"
             ],
             [
              0.4444444444444444,
              "#bd3786"
             ],
             [
              0.5555555555555556,
              "#d8576b"
             ],
             [
              0.6666666666666666,
              "#ed7953"
             ],
             [
              0.7777777777777778,
              "#fb9f3a"
             ],
             [
              0.8888888888888888,
              "#fdca26"
             ],
             [
              1,
              "#f0f921"
             ]
            ],
            "type": "surface"
           }
          ],
          "table": [
           {
            "cells": {
             "fill": {
              "color": "#EBF0F8"
             },
             "line": {
              "color": "white"
             }
            },
            "header": {
             "fill": {
              "color": "#C8D4E3"
             },
             "line": {
              "color": "white"
             }
            },
            "type": "table"
           }
          ]
         },
         "layout": {
          "annotationdefaults": {
           "arrowcolor": "#2a3f5f",
           "arrowhead": 0,
           "arrowwidth": 1
          },
          "autotypenumbers": "strict",
          "coloraxis": {
           "colorbar": {
            "outlinewidth": 0,
            "ticks": ""
           }
          },
          "colorscale": {
           "diverging": [
            [
             0,
             "#8e0152"
            ],
            [
             0.1,
             "#c51b7d"
            ],
            [
             0.2,
             "#de77ae"
            ],
            [
             0.3,
             "#f1b6da"
            ],
            [
             0.4,
             "#fde0ef"
            ],
            [
             0.5,
             "#f7f7f7"
            ],
            [
             0.6,
             "#e6f5d0"
            ],
            [
             0.7,
             "#b8e186"
            ],
            [
             0.8,
             "#7fbc41"
            ],
            [
             0.9,
             "#4d9221"
            ],
            [
             1,
             "#276419"
            ]
           ],
           "sequential": [
            [
             0,
             "#0d0887"
            ],
            [
             0.1111111111111111,
             "#46039f"
            ],
            [
             0.2222222222222222,
             "#7201a8"
            ],
            [
             0.3333333333333333,
             "#9c179e"
            ],
            [
             0.4444444444444444,
             "#bd3786"
            ],
            [
             0.5555555555555556,
             "#d8576b"
            ],
            [
             0.6666666666666666,
             "#ed7953"
            ],
            [
             0.7777777777777778,
             "#fb9f3a"
            ],
            [
             0.8888888888888888,
             "#fdca26"
            ],
            [
             1,
             "#f0f921"
            ]
           ],
           "sequentialminus": [
            [
             0,
             "#0d0887"
            ],
            [
             0.1111111111111111,
             "#46039f"
            ],
            [
             0.2222222222222222,
             "#7201a8"
            ],
            [
             0.3333333333333333,
             "#9c179e"
            ],
            [
             0.4444444444444444,
             "#bd3786"
            ],
            [
             0.5555555555555556,
             "#d8576b"
            ],
            [
             0.6666666666666666,
             "#ed7953"
            ],
            [
             0.7777777777777778,
             "#fb9f3a"
            ],
            [
             0.8888888888888888,
             "#fdca26"
            ],
            [
             1,
             "#f0f921"
            ]
           ]
          },
          "colorway": [
           "#636efa",
           "#EF553B",
           "#00cc96",
           "#ab63fa",
           "#FFA15A",
           "#19d3f3",
           "#FF6692",
           "#B6E880",
           "#FF97FF",
           "#FECB52"
          ],
          "font": {
           "color": "#2a3f5f"
          },
          "geo": {
           "bgcolor": "white",
           "lakecolor": "white",
           "landcolor": "#E5ECF6",
           "showlakes": true,
           "showland": true,
           "subunitcolor": "white"
          },
          "hoverlabel": {
           "align": "left"
          },
          "hovermode": "closest",
          "mapbox": {
           "style": "light"
          },
          "paper_bgcolor": "white",
          "plot_bgcolor": "#E5ECF6",
          "polar": {
           "angularaxis": {
            "gridcolor": "white",
            "linecolor": "white",
            "ticks": ""
           },
           "bgcolor": "#E5ECF6",
           "radialaxis": {
            "gridcolor": "white",
            "linecolor": "white",
            "ticks": ""
           }
          },
          "scene": {
           "xaxis": {
            "backgroundcolor": "#E5ECF6",
            "gridcolor": "white",
            "gridwidth": 2,
            "linecolor": "white",
            "showbackground": true,
            "ticks": "",
            "zerolinecolor": "white"
           },
           "yaxis": {
            "backgroundcolor": "#E5ECF6",
            "gridcolor": "white",
            "gridwidth": 2,
            "linecolor": "white",
            "showbackground": true,
            "ticks": "",
            "zerolinecolor": "white"
           },
           "zaxis": {
            "backgroundcolor": "#E5ECF6",
            "gridcolor": "white",
            "gridwidth": 2,
            "linecolor": "white",
            "showbackground": true,
            "ticks": "",
            "zerolinecolor": "white"
           }
          },
          "shapedefaults": {
           "line": {
            "color": "#2a3f5f"
           }
          },
          "ternary": {
           "aaxis": {
            "gridcolor": "white",
            "linecolor": "white",
            "ticks": ""
           },
           "baxis": {
            "gridcolor": "white",
            "linecolor": "white",
            "ticks": ""
           },
           "bgcolor": "#E5ECF6",
           "caxis": {
            "gridcolor": "white",
            "linecolor": "white",
            "ticks": ""
           }
          },
          "title": {
           "x": 0.05
          },
          "xaxis": {
           "automargin": true,
           "gridcolor": "white",
           "linecolor": "white",
           "ticks": "",
           "title": {
            "standoff": 15
           },
           "zerolinecolor": "white",
           "zerolinewidth": 2
          },
          "yaxis": {
           "automargin": true,
           "gridcolor": "white",
           "linecolor": "white",
           "ticks": "",
           "title": {
            "standoff": 15
           },
           "zerolinecolor": "white",
           "zerolinewidth": 2
          }
         }
        },
        "width": 1000,
        "xaxis": {
         "anchor": "y",
         "domain": [
          0,
          1
         ],
         "title": {
          "text": "PCA1"
         }
        },
        "yaxis": {
         "anchor": "x",
         "domain": [
          0,
          1
         ],
         "title": {
          "text": "PCA2"
         }
        }
       }
      }
     },
     "metadata": {},
     "output_type": "display_data"
    }
   ],
   "source": [
    "# posición promedio de cada partido\n",
    "party_means = (\n",
    "    pca_df.groupby(\"partido\", sort=False)[[\"PCA1\", \"PCA2\"]]\n",
    "    .mean()\n",
    "    .reset_index()\n",
    ")\n",
    "fig = px.scatter(\n",
    "    party_means,\n",
    "    x=\"PCA1\",\n",
    "    y=\"PCA2\",\n",
    "    color=\"partido\",\n",
    "    color_discrete_map=color_map,\n",
    ")\n",
    "fig.update_layout(\n",
    "    autosize=False,\n",
    "    width=1000,\n",
    "    height=600,\n",
    ")\n",
    "fig.show()"
   ]
  },
  {
   "cell_type": "code",
   "execution_count": 11,
   "metadata": {},
   "outputs": [
    {
     "data": {
      "text/html": [
       "<div>\n",
       "<style scoped>\n",
       "    .dataframe tbody tr th:only-of-type {\n",
       "        vertical-align: middle;\n",
       "    }\n",
       "\n",
       "    .dataframe tbody tr th {\n",
       "        vertical-align: top;\n",
       "    }\n",
       "\n",
       "    .dataframe thead th {\n",
       "        text-align: right;\n",
       "    }\n",
       "</style>\n",
       "<table border=\"1\" class=\"dataframe\">\n",
       "  <thead>\n",
       "    <tr style=\"text-align: right;\">\n",
       "      <th></th>\n",
       "      <th>partido</th>\n",
       "      <th>avg_dist_to_mean</th>\n",
       "    </tr>\n",
       "  </thead>\n",
       "  <tbody>\n",
       "    <tr>\n",
       "      <th>2</th>\n",
       "      <td>Independientes</td>\n",
       "      <td>41.997666</td>\n",
       "    </tr>\n",
       "    <tr>\n",
       "      <th>12</th>\n",
       "      <td>Partido Demócratas Chile</td>\n",
       "      <td>23.482063</td>\n",
       "    </tr>\n",
       "    <tr>\n",
       "      <th>3</th>\n",
       "      <td>Partido Demócrata Cristiano</td>\n",
       "      <td>20.039613</td>\n",
       "    </tr>\n",
       "    <tr>\n",
       "      <th>1</th>\n",
       "      <td>Unión Demócrata Independiente</td>\n",
       "      <td>18.893923</td>\n",
       "    </tr>\n",
       "    <tr>\n",
       "      <th>11</th>\n",
       "      <td>Partido Social Cristiano</td>\n",
       "      <td>17.841666</td>\n",
       "    </tr>\n",
       "    <tr>\n",
       "      <th>6</th>\n",
       "      <td>Partido Socialista</td>\n",
       "      <td>17.263220</td>\n",
       "    </tr>\n",
       "    <tr>\n",
       "      <th>8</th>\n",
       "      <td>Renovación Nacional</td>\n",
       "      <td>16.768582</td>\n",
       "    </tr>\n",
       "    <tr>\n",
       "      <th>9</th>\n",
       "      <td>Partido Por la Democracia</td>\n",
       "      <td>14.989334</td>\n",
       "    </tr>\n",
       "    <tr>\n",
       "      <th>0</th>\n",
       "      <td>Frente Amplio</td>\n",
       "      <td>13.829228</td>\n",
       "    </tr>\n",
       "    <tr>\n",
       "      <th>13</th>\n",
       "      <td>Partido Liberal de Chile</td>\n",
       "      <td>13.297805</td>\n",
       "    </tr>\n",
       "    <tr>\n",
       "      <th>16</th>\n",
       "      <td>Evolución Política</td>\n",
       "      <td>11.994269</td>\n",
       "    </tr>\n",
       "    <tr>\n",
       "      <th>17</th>\n",
       "      <td>Partido Radical de Chile</td>\n",
       "      <td>10.842278</td>\n",
       "    </tr>\n",
       "    <tr>\n",
       "      <th>5</th>\n",
       "      <td>Partido Republicano</td>\n",
       "      <td>9.400141</td>\n",
       "    </tr>\n",
       "    <tr>\n",
       "      <th>10</th>\n",
       "      <td>Partido Comunista</td>\n",
       "      <td>9.317484</td>\n",
       "    </tr>\n",
       "    <tr>\n",
       "      <th>7</th>\n",
       "      <td>Partido Acción Humanista</td>\n",
       "      <td>7.753870</td>\n",
       "    </tr>\n",
       "    <tr>\n",
       "      <th>4</th>\n",
       "      <td>Partido Humanista</td>\n",
       "      <td>0.000000</td>\n",
       "    </tr>\n",
       "    <tr>\n",
       "      <th>14</th>\n",
       "      <td>Federación Regionalista Verde Social</td>\n",
       "      <td>0.000000</td>\n",
       "    </tr>\n",
       "    <tr>\n",
       "      <th>15</th>\n",
       "      <td>Movimiento Amarillos por Chile</td>\n",
       "      <td>0.000000</td>\n",
       "    </tr>\n",
       "  </tbody>\n",
       "</table>\n",
       "</div>"
      ],
      "text/plain": [
       "                                 partido  avg_dist_to_mean\n",
       "2                         Independientes         41.997666\n",
       "12              Partido Demócratas Chile         23.482063\n",
       "3            Partido Demócrata Cristiano         20.039613\n",
       "1          Unión Demócrata Independiente         18.893923\n",
       "11              Partido Social Cristiano         17.841666\n",
       "6                     Partido Socialista         17.263220\n",
       "8                    Renovación Nacional         16.768582\n",
       "9              Partido Por la Democracia         14.989334\n",
       "0                          Frente Amplio         13.829228\n",
       "13              Partido Liberal de Chile         13.297805\n",
       "16                    Evolución Política         11.994269\n",
       "17              Partido Radical de Chile         10.842278\n",
       "5                    Partido Republicano          9.400141\n",
       "10                     Partido Comunista          9.317484\n",
       "7               Partido Acción Humanista          7.753870\n",
       "4                      Partido Humanista          0.000000\n",
       "14  Federación Regionalista Verde Social          0.000000\n",
       "15        Movimiento Amarillos por Chile          0.000000"
      ]
     },
     "execution_count": 11,
     "metadata": {},
     "output_type": "execute_result"
    }
   ],
   "source": [
    "# función para calcular la distancia promedio de los diputados a la media\n",
    "# de su partido (una forma de ver la dispersión en sus decisiones)\n",
    "def distance_to_mean(df):\n",
    "    \n",
    "    return np.sqrt((np.square(df - df.mean())).sum(axis=1)).mean()\n",
    "\n",
    "party_distances = (\n",
    "    vote_df\n",
    "    .drop(columns=[\"nombre\", \"apellido\", \"sexo\"])\n",
    "    .groupby(\"partido\", sort=False)\n",
    "    .apply(distance_to_mean)\n",
    ")\n",
    "party_distances = (\n",
    "    party_distances\n",
    "    .to_frame()\n",
    "    .reset_index()\n",
    "    .rename(columns={0: \"avg_dist_to_mean\"})\n",
    "    .sort_values(by=\"avg_dist_to_mean\", ascending=False)\n",
    ")\n",
    "\n",
    "party_distances"
   ]
  },
  {
   "cell_type": "markdown",
   "metadata": {},
   "source": [
    "## Clustering"
   ]
  },
  {
   "cell_type": "markdown",
   "metadata": {},
   "source": [
    "Se utilizó K-Means para el clustering, decidiéndose utilizar 5 clusters tras\n",
    "la realización del método del codo."
   ]
  },
  {
   "cell_type": "code",
   "execution_count": 12,
   "metadata": {},
   "outputs": [
    {
     "data": {
      "image/png": "[encoded data removed]",
      "text/plain": [
       "<Figure size 640x480 with 1 Axes>"
      ]
     },
     "metadata": {},
     "output_type": "display_data"
    }
   ],
   "source": [
    "sse = []\n",
    "clusters = list(range(1, 16))\n",
    "for k in clusters:\n",
    "    kmeans = KMeans(n_clusters=k, n_init=10, random_state=0).fit(vote_df_num)\n",
    "    sse.append(kmeans.inertia_)\n",
    "\n",
    "plt.plot(clusters, sse, marker=\"o\")\n",
    "plt.title(\"Método del codo\")\n",
    "plt.xlabel(\"Número de clusters\")\n",
    "plt.ylabel(\"SSE\")\n",
    "plt.grid(True)\n",
    "plt.show()"
   ]
  },
  {
   "cell_type": "code",
   "execution_count": 13,
   "metadata": {},
   "outputs": [
    {
     "data": {
      "image/png": "[encoded data removed]",
      "text/plain": [
       "<Figure size 640x480 with 1 Axes>"
      ]
     },
     "metadata": {},
     "output_type": "display_data"
    }
   ],
   "source": [
    "# k-means con 5 clusters\n",
    "kmeans5 = KMeans(n_clusters=5, n_init=500, random_state=0).fit(vote_df_num)\n",
    "\n",
    "# plot en 2 dimensiones\n",
    "plt.scatter(pca_df['PCA1'], pca_df['PCA2'], c=kmeans5.labels_, cmap='viridis')\n",
    "plt.title(\"K-Means, 5 clusters\")\n",
    "plt.show()"
   ]
  },
  {
   "cell_type": "markdown",
   "metadata": {},
   "source": [
    "## Análisis de clusters"
   ]
  },
  {
   "cell_type": "code",
   "execution_count": 14,
   "metadata": {},
   "outputs": [],
   "source": [
    "# función auxiliar que retorna un dataframe con todos los diputados que\n",
    "# pertenecen a un cluster en particular, ordenados por partido y nombre\n",
    "def list_cluster_deputies(\n",
    "    cluster_idx,\n",
    "    cluster_labels=kmeans5.labels_,\n",
    "    df=vote_df\n",
    "):\n",
    "    cluster_deps = df.loc[cluster_labels == cluster_idx]\n",
    "    cluster_deps = cluster_deps.sort_values([\"partido\", \"apellido\", \"nombre\"])\n",
    "    return cluster_deps[[\"nombre\", \"apellido\", \"sexo\", \"partido\"]]\n",
    "\n",
    "\n",
    "# función auxiliar que recibe un índice de cluster, y retorna un dataframe\n",
    "# donde a cada partido se le asocia el porcentaje de sus diputados que\n",
    "# pertenecen a dicho cluster\n",
    "def percentage_of_parties_in_cluster(\n",
    "    cluster_idx,\n",
    "    cluster_labels=kmeans5.labels_,\n",
    "    df=vote_df\n",
    "):\n",
    "    \n",
    "    all_parties = df[\"partido\"].value_counts()\n",
    "    \n",
    "    cluster_parties = (\n",
    "        df.loc[cluster_labels == cluster_idx][\"partido\"]\n",
    "        .value_counts()\n",
    "    )\n",
    "    \n",
    "    parties_comp = pd.merge(\n",
    "        left=all_parties,\n",
    "        right=cluster_parties,\n",
    "        how=\"right\",\n",
    "        left_index=True,\n",
    "        right_index=True,\n",
    "        suffixes=(\"_all\", \"_cluster\")\n",
    "    )\n",
    "    parties_comp[\"porcentaje\"] = (\n",
    "        parties_comp[\"count_cluster\"]\n",
    "        / parties_comp[\"count_all\"]\n",
    "    )\n",
    "    \n",
    "    return (\n",
    "        parties_comp[\"porcentaje\"]\n",
    "        .sort_values(ascending=False)\n",
    "        .to_frame()\n",
    "        .reset_index()\n",
    "        .rename(columns={0: \"porcentaje\"})\n",
    "    )"
   ]
  },
  {
   "cell_type": "markdown",
   "metadata": {},
   "source": [
    "### Cluster 1: Demócratas"
   ]
  },
  {
   "cell_type": "markdown",
   "metadata": {},
   "source": [
    "El primer cluster está compuesto por 10 diputados:\n",
    "\n",
    "- 6 diputados independientes (14% del total de independientes). 3 de ellos\n",
    "(Medina, Oyarzo y Rivas) fueron electos por el Partido de la Gente, pero\n",
    "posteriormente abandonaron el partido. El diputado Pulgar fue electo en cupo de\n",
    "Centro Unido pero inmediatamente pasó a formar parte de la bancada del PDG.\n",
    "- 3 diputados de Demócratas (75% de los diputados del partido). El diputado\n",
    "    Pino pertenece a Demócratas, pero fue asignado al cluster 3.\n",
    "- Un diputado de Amarillos (100% de los diputados del partido)."
   ]
  },
  {
   "cell_type": "code",
   "execution_count": 15,
   "metadata": {},
   "outputs": [
    {
     "data": {
      "text/html": [
       "<div>\n",
       "<style scoped>\n",
       "    .dataframe tbody tr th:only-of-type {\n",
       "        vertical-align: middle;\n",
       "    }\n",
       "\n",
       "    .dataframe tbody tr th {\n",
       "        vertical-align: top;\n",
       "    }\n",
       "\n",
       "    .dataframe thead th {\n",
       "        text-align: right;\n",
       "    }\n",
       "</style>\n",
       "<table border=\"1\" class=\"dataframe\">\n",
       "  <thead>\n",
       "    <tr style=\"text-align: right;\">\n",
       "      <th></th>\n",
       "      <th>nombre</th>\n",
       "      <th>apellido</th>\n",
       "      <th>sexo</th>\n",
       "      <th>partido</th>\n",
       "    </tr>\n",
       "  </thead>\n",
       "  <tbody>\n",
       "    <tr>\n",
       "      <th>1016</th>\n",
       "      <td>Miguel Ángel</td>\n",
       "      <td>Calisto</td>\n",
       "      <td>Masculino</td>\n",
       "      <td>Independientes</td>\n",
       "    </tr>\n",
       "    <tr>\n",
       "      <th>1116</th>\n",
       "      <td>Felipe</td>\n",
       "      <td>Camaño</td>\n",
       "      <td>Masculino</td>\n",
       "      <td>Independientes</td>\n",
       "    </tr>\n",
       "    <tr>\n",
       "      <th>1145</th>\n",
       "      <td>Karen</td>\n",
       "      <td>Medina</td>\n",
       "      <td>Femenino</td>\n",
       "      <td>Independientes</td>\n",
       "    </tr>\n",
       "    <tr>\n",
       "      <th>1155</th>\n",
       "      <td>Rubén Darío</td>\n",
       "      <td>Oyarzo</td>\n",
       "      <td>Masculino</td>\n",
       "      <td>Independientes</td>\n",
       "    </tr>\n",
       "    <tr>\n",
       "      <th>1161</th>\n",
       "      <td>Francisco</td>\n",
       "      <td>Pulgar</td>\n",
       "      <td>Masculino</td>\n",
       "      <td>Independientes</td>\n",
       "    </tr>\n",
       "    <tr>\n",
       "      <th>948</th>\n",
       "      <td>Gaspar</td>\n",
       "      <td>Rivas</td>\n",
       "      <td>Masculino</td>\n",
       "      <td>Independientes</td>\n",
       "    </tr>\n",
       "    <tr>\n",
       "      <th>1134</th>\n",
       "      <td>Andrés</td>\n",
       "      <td>Jouannet</td>\n",
       "      <td>Masculino</td>\n",
       "      <td>Movimiento Amarillos por Chile</td>\n",
       "    </tr>\n",
       "    <tr>\n",
       "      <th>1057</th>\n",
       "      <td>Erika</td>\n",
       "      <td>Olivera</td>\n",
       "      <td>Femenino</td>\n",
       "      <td>Partido Demócratas Chile</td>\n",
       "    </tr>\n",
       "    <tr>\n",
       "      <th>1062</th>\n",
       "      <td>Joanna</td>\n",
       "      <td>Pérez</td>\n",
       "      <td>Femenino</td>\n",
       "      <td>Partido Demócratas Chile</td>\n",
       "    </tr>\n",
       "    <tr>\n",
       "      <th>1168</th>\n",
       "      <td>Jorge</td>\n",
       "      <td>Saffirio</td>\n",
       "      <td>Masculino</td>\n",
       "      <td>Partido Demócratas Chile</td>\n",
       "    </tr>\n",
       "  </tbody>\n",
       "</table>\n",
       "</div>"
      ],
      "text/plain": [
       "            nombre  apellido       sexo                         partido\n",
       "1016  Miguel Ángel   Calisto  Masculino                  Independientes\n",
       "1116        Felipe    Camaño  Masculino                  Independientes\n",
       "1145         Karen    Medina   Femenino                  Independientes\n",
       "1155   Rubén Darío    Oyarzo  Masculino                  Independientes\n",
       "1161     Francisco    Pulgar  Masculino                  Independientes\n",
       "948         Gaspar     Rivas  Masculino                  Independientes\n",
       "1134        Andrés  Jouannet  Masculino  Movimiento Amarillos por Chile\n",
       "1057         Erika   Olivera   Femenino        Partido Demócratas Chile\n",
       "1062        Joanna     Pérez   Femenino        Partido Demócratas Chile\n",
       "1168         Jorge  Saffirio  Masculino        Partido Demócratas Chile"
      ]
     },
     "execution_count": 15,
     "metadata": {},
     "output_type": "execute_result"
    }
   ],
   "source": [
    "list_cluster_deputies(0)"
   ]
  },
  {
   "cell_type": "code",
   "execution_count": 16,
   "metadata": {},
   "outputs": [
    {
     "data": {
      "text/html": [
       "<div>\n",
       "<style scoped>\n",
       "    .dataframe tbody tr th:only-of-type {\n",
       "        vertical-align: middle;\n",
       "    }\n",
       "\n",
       "    .dataframe tbody tr th {\n",
       "        vertical-align: top;\n",
       "    }\n",
       "\n",
       "    .dataframe thead th {\n",
       "        text-align: right;\n",
       "    }\n",
       "</style>\n",
       "<table border=\"1\" class=\"dataframe\">\n",
       "  <thead>\n",
       "    <tr style=\"text-align: right;\">\n",
       "      <th></th>\n",
       "      <th>partido</th>\n",
       "      <th>porcentaje</th>\n",
       "    </tr>\n",
       "  </thead>\n",
       "  <tbody>\n",
       "    <tr>\n",
       "      <th>0</th>\n",
       "      <td>Movimiento Amarillos por Chile</td>\n",
       "      <td>1.000000</td>\n",
       "    </tr>\n",
       "    <tr>\n",
       "      <th>1</th>\n",
       "      <td>Partido Demócratas Chile</td>\n",
       "      <td>0.750000</td>\n",
       "    </tr>\n",
       "    <tr>\n",
       "      <th>2</th>\n",
       "      <td>Independientes</td>\n",
       "      <td>0.142857</td>\n",
       "    </tr>\n",
       "  </tbody>\n",
       "</table>\n",
       "</div>"
      ],
      "text/plain": [
       "                          partido  porcentaje\n",
       "0  Movimiento Amarillos por Chile    1.000000\n",
       "1        Partido Demócratas Chile    0.750000\n",
       "2                  Independientes    0.142857"
      ]
     },
     "execution_count": 16,
     "metadata": {},
     "output_type": "execute_result"
    }
   ],
   "source": [
    "percentage_of_parties_in_cluster(0)"
   ]
  },
  {
   "cell_type": "markdown",
   "metadata": {},
   "source": [
    "### Cluster 2: Socialismo Democrático"
   ]
  },
  {
   "cell_type": "markdown",
   "metadata": {},
   "source": [
    "El segundo cluster está compuesto por 37 diputados, pertenencientes en su gran\n",
    "mayoría al Socialismo Democrático:\n",
    "\n",
    "- 12 diputados independientes (29% del total de independientes). La mayoría\n",
    "fueron electos como independientes en cupos del Socialismo Democrático.\n",
    "- 12 diputados del Partido Socialista (100% de los diputados del partido).\n",
    "- 4 diputados de la Democracia Cristiana (100% de los diputados del partido).\n",
    "- 3 diputados del Partido Liberal (100% de los diputados del partido).\n",
    "- 3 diputados del PPD (100% de los diputados del partido).\n",
    "- 2 diputados del Partido Radical (100% de los diputados del partido).\n",
    "- Una diputada del Partido Humanista (100% de los diputados del partido)."
   ]
  },
  {
   "cell_type": "code",
   "execution_count": 17,
   "metadata": {},
   "outputs": [
    {
     "data": {
      "text/html": [
       "<div>\n",
       "<style scoped>\n",
       "    .dataframe tbody tr th:only-of-type {\n",
       "        vertical-align: middle;\n",
       "    }\n",
       "\n",
       "    .dataframe tbody tr th {\n",
       "        vertical-align: top;\n",
       "    }\n",
       "\n",
       "    .dataframe thead th {\n",
       "        text-align: right;\n",
       "    }\n",
       "</style>\n",
       "<table border=\"1\" class=\"dataframe\">\n",
       "  <thead>\n",
       "    <tr style=\"text-align: right;\">\n",
       "      <th></th>\n",
       "      <th>nombre</th>\n",
       "      <th>apellido</th>\n",
       "      <th>sexo</th>\n",
       "      <th>partido</th>\n",
       "    </tr>\n",
       "  </thead>\n",
       "  <tbody>\n",
       "    <tr>\n",
       "      <th>803</th>\n",
       "      <td>René</td>\n",
       "      <td>Alinco</td>\n",
       "      <td>Masculino</td>\n",
       "      <td>Independientes</td>\n",
       "    </tr>\n",
       "    <tr>\n",
       "      <th>1099</th>\n",
       "      <td>Jaime</td>\n",
       "      <td>Araya</td>\n",
       "      <td>Masculino</td>\n",
       "      <td>Independientes</td>\n",
       "    </tr>\n",
       "    <tr>\n",
       "      <th>1101</th>\n",
       "      <td>Mónica</td>\n",
       "      <td>Arce</td>\n",
       "      <td>Femenino</td>\n",
       "      <td>Independientes</td>\n",
       "    </tr>\n",
       "    <tr>\n",
       "      <th>1110</th>\n",
       "      <td>Carlos</td>\n",
       "      <td>Bianchi</td>\n",
       "      <td>Masculino</td>\n",
       "      <td>Independientes</td>\n",
       "    </tr>\n",
       "    <tr>\n",
       "      <th>1124</th>\n",
       "      <td>Tomás</td>\n",
       "      <td>De Rementería</td>\n",
       "      <td>Masculino</td>\n",
       "      <td>Independientes</td>\n",
       "    </tr>\n",
       "    <tr>\n",
       "      <th>1125</th>\n",
       "      <td>Viviana</td>\n",
       "      <td>Delgado</td>\n",
       "      <td>Femenino</td>\n",
       "      <td>Independientes</td>\n",
       "    </tr>\n",
       "    <tr>\n",
       "      <th>1130</th>\n",
       "      <td>Marta</td>\n",
       "      <td>González</td>\n",
       "      <td>Femenino</td>\n",
       "      <td>Independientes</td>\n",
       "    </tr>\n",
       "    <tr>\n",
       "      <th>1137</th>\n",
       "      <td>Tomás</td>\n",
       "      <td>Lagomarsino</td>\n",
       "      <td>Masculino</td>\n",
       "      <td>Independientes</td>\n",
       "    </tr>\n",
       "    <tr>\n",
       "      <th>1151</th>\n",
       "      <td>Camila</td>\n",
       "      <td>Musante</td>\n",
       "      <td>Femenino</td>\n",
       "      <td>Independientes</td>\n",
       "    </tr>\n",
       "    <tr>\n",
       "      <th>1175</th>\n",
       "      <td>Cristián</td>\n",
       "      <td>Tapia</td>\n",
       "      <td>Masculino</td>\n",
       "      <td>Independientes</td>\n",
       "    </tr>\n",
       "    <tr>\n",
       "      <th>1178</th>\n",
       "      <td>Héctor</td>\n",
       "      <td>Ulloa</td>\n",
       "      <td>Masculino</td>\n",
       "      <td>Independientes</td>\n",
       "    </tr>\n",
       "    <tr>\n",
       "      <th>1182</th>\n",
       "      <td>Sebastián</td>\n",
       "      <td>Videla</td>\n",
       "      <td>Masculino</td>\n",
       "      <td>Independientes</td>\n",
       "    </tr>\n",
       "    <tr>\n",
       "      <th>1097</th>\n",
       "      <td>Eric</td>\n",
       "      <td>Aedo</td>\n",
       "      <td>Masculino</td>\n",
       "      <td>Partido Demócrata Cristiano</td>\n",
       "    </tr>\n",
       "    <tr>\n",
       "      <th>1105</th>\n",
       "      <td>Héctor</td>\n",
       "      <td>Barría</td>\n",
       "      <td>Masculino</td>\n",
       "      <td>Partido Demócrata Cristiano</td>\n",
       "    </tr>\n",
       "    <tr>\n",
       "      <th>1118</th>\n",
       "      <td>Ricardo</td>\n",
       "      <td>Cifuentes</td>\n",
       "      <td>Masculino</td>\n",
       "      <td>Partido Demócrata Cristiano</td>\n",
       "    </tr>\n",
       "    <tr>\n",
       "      <th>1179</th>\n",
       "      <td>Alberto</td>\n",
       "      <td>Undurraga</td>\n",
       "      <td>Masculino</td>\n",
       "      <td>Partido Demócrata Cristiano</td>\n",
       "    </tr>\n",
       "    <tr>\n",
       "      <th>1039</th>\n",
       "      <td>Pamela</td>\n",
       "      <td>Jiles</td>\n",
       "      <td>Femenino</td>\n",
       "      <td>Partido Humanista</td>\n",
       "    </tr>\n",
       "    <tr>\n",
       "      <th>1013</th>\n",
       "      <td>Alejandro</td>\n",
       "      <td>Bernales</td>\n",
       "      <td>Masculino</td>\n",
       "      <td>Partido Liberal de Chile</td>\n",
       "    </tr>\n",
       "    <tr>\n",
       "      <th>1141</th>\n",
       "      <td>Luis</td>\n",
       "      <td>Malla</td>\n",
       "      <td>Masculino</td>\n",
       "      <td>Partido Liberal de Chile</td>\n",
       "    </tr>\n",
       "    <tr>\n",
       "      <th>991</th>\n",
       "      <td>Vlado</td>\n",
       "      <td>Mirosevic</td>\n",
       "      <td>Masculino</td>\n",
       "      <td>Partido Liberal de Chile</td>\n",
       "    </tr>\n",
       "    <tr>\n",
       "      <th>1048</th>\n",
       "      <td>Carolina</td>\n",
       "      <td>Marzán</td>\n",
       "      <td>Femenino</td>\n",
       "      <td>Partido Por la Democracia</td>\n",
       "    </tr>\n",
       "    <tr>\n",
       "      <th>1147</th>\n",
       "      <td>Helia</td>\n",
       "      <td>Molina</td>\n",
       "      <td>Femenino</td>\n",
       "      <td>Partido Por la Democracia</td>\n",
       "    </tr>\n",
       "    <tr>\n",
       "      <th>1077</th>\n",
       "      <td>Raúl</td>\n",
       "      <td>Soto</td>\n",
       "      <td>Masculino</td>\n",
       "      <td>Partido Por la Democracia</td>\n",
       "    </tr>\n",
       "    <tr>\n",
       "      <th>1049</th>\n",
       "      <td>Cosme</td>\n",
       "      <td>Mellado</td>\n",
       "      <td>Masculino</td>\n",
       "      <td>Partido Radical de Chile</td>\n",
       "    </tr>\n",
       "    <tr>\n",
       "      <th>1076</th>\n",
       "      <td>Alexis</td>\n",
       "      <td>Sepúlveda</td>\n",
       "      <td>Masculino</td>\n",
       "      <td>Partido Radical de Chile</td>\n",
       "    </tr>\n",
       "    <tr>\n",
       "      <th>1103</th>\n",
       "      <td>Danisa</td>\n",
       "      <td>Astudillo</td>\n",
       "      <td>Femenino</td>\n",
       "      <td>Partido Socialista</td>\n",
       "    </tr>\n",
       "    <tr>\n",
       "      <th>1112</th>\n",
       "      <td>Ana María</td>\n",
       "      <td>Bravo</td>\n",
       "      <td>Femenino</td>\n",
       "      <td>Partido Socialista</td>\n",
       "    </tr>\n",
       "    <tr>\n",
       "      <th>975</th>\n",
       "      <td>Daniella</td>\n",
       "      <td>Cicardini</td>\n",
       "      <td>Femenino</td>\n",
       "      <td>Partido Socialista</td>\n",
       "    </tr>\n",
       "    <tr>\n",
       "      <th>1038</th>\n",
       "      <td>Marcos</td>\n",
       "      <td>Ilabaca</td>\n",
       "      <td>Masculino</td>\n",
       "      <td>Partido Socialista</td>\n",
       "    </tr>\n",
       "    <tr>\n",
       "      <th>1044</th>\n",
       "      <td>Raúl</td>\n",
       "      <td>Leiva</td>\n",
       "      <td>Masculino</td>\n",
       "      <td>Partido Socialista</td>\n",
       "    </tr>\n",
       "    <tr>\n",
       "      <th>1142</th>\n",
       "      <td>Daniel</td>\n",
       "      <td>Manouchehri</td>\n",
       "      <td>Masculino</td>\n",
       "      <td>Partido Socialista</td>\n",
       "    </tr>\n",
       "    <tr>\n",
       "      <th>990</th>\n",
       "      <td>Daniel</td>\n",
       "      <td>Melo</td>\n",
       "      <td>Masculino</td>\n",
       "      <td>Partido Socialista</td>\n",
       "    </tr>\n",
       "    <tr>\n",
       "      <th>74</th>\n",
       "      <td>Jaime</td>\n",
       "      <td>Naranjo</td>\n",
       "      <td>Masculino</td>\n",
       "      <td>Partido Socialista</td>\n",
       "    </tr>\n",
       "    <tr>\n",
       "      <th>1056</th>\n",
       "      <td>Emilia</td>\n",
       "      <td>Nuyado</td>\n",
       "      <td>Femenino</td>\n",
       "      <td>Partido Socialista</td>\n",
       "    </tr>\n",
       "    <tr>\n",
       "      <th>1073</th>\n",
       "      <td>Juan</td>\n",
       "      <td>Santana</td>\n",
       "      <td>Masculino</td>\n",
       "      <td>Partido Socialista</td>\n",
       "    </tr>\n",
       "    <tr>\n",
       "      <th>1002</th>\n",
       "      <td>Leonardo</td>\n",
       "      <td>Soto</td>\n",
       "      <td>Masculino</td>\n",
       "      <td>Partido Socialista</td>\n",
       "    </tr>\n",
       "    <tr>\n",
       "      <th>1181</th>\n",
       "      <td>Nelson</td>\n",
       "      <td>Venegas</td>\n",
       "      <td>Masculino</td>\n",
       "      <td>Partido Socialista</td>\n",
       "    </tr>\n",
       "  </tbody>\n",
       "</table>\n",
       "</div>"
      ],
      "text/plain": [
       "         nombre       apellido       sexo                      partido\n",
       "803        René         Alinco  Masculino               Independientes\n",
       "1099      Jaime          Araya  Masculino               Independientes\n",
       "1101     Mónica           Arce   Femenino               Independientes\n",
       "1110     Carlos        Bianchi  Masculino               Independientes\n",
       "1124      Tomás  De Rementería  Masculino               Independientes\n",
       "1125    Viviana        Delgado   Femenino               Independientes\n",
       "1130      Marta       González   Femenino               Independientes\n",
       "1137      Tomás    Lagomarsino  Masculino               Independientes\n",
       "1151     Camila        Musante   Femenino               Independientes\n",
       "1175   Cristián          Tapia  Masculino               Independientes\n",
       "1178     Héctor          Ulloa  Masculino               Independientes\n",
       "1182  Sebastián         Videla  Masculino               Independientes\n",
       "1097       Eric           Aedo  Masculino  Partido Demócrata Cristiano\n",
       "1105     Héctor         Barría  Masculino  Partido Demócrata Cristiano\n",
       "1118    Ricardo      Cifuentes  Masculino  Partido Demócrata Cristiano\n",
       "1179    Alberto      Undurraga  Masculino  Partido Demócrata Cristiano\n",
       "1039     Pamela          Jiles   Femenino            Partido Humanista\n",
       "1013  Alejandro       Bernales  Masculino     Partido Liberal de Chile\n",
       "1141       Luis          Malla  Masculino     Partido Liberal de Chile\n",
       "991       Vlado      Mirosevic  Masculino     Partido Liberal de Chile\n",
       "1048   Carolina         Marzán   Femenino    Partido Por la Democracia\n",
       "1147      Helia         Molina   Femenino    Partido Por la Democracia\n",
       "1077       Raúl           Soto  Masculino    Partido Por la Democracia\n",
       "1049      Cosme        Mellado  Masculino     Partido Radical de Chile\n",
       "1076     Alexis      Sepúlveda  Masculino     Partido Radical de Chile\n",
       "1103     Danisa      Astudillo   Femenino           Partido Socialista\n",
       "1112  Ana María          Bravo   Femenino           Partido Socialista\n",
       "975    Daniella      Cicardini   Femenino           Partido Socialista\n",
       "1038     Marcos        Ilabaca  Masculino           Partido Socialista\n",
       "1044       Raúl          Leiva  Masculino           Partido Socialista\n",
       "1142     Daniel    Manouchehri  Masculino           Partido Socialista\n",
       "990      Daniel           Melo  Masculino           Partido Socialista\n",
       "74        Jaime        Naranjo  Masculino           Partido Socialista\n",
       "1056     Emilia         Nuyado   Femenino           Partido Socialista\n",
       "1073       Juan        Santana  Masculino           Partido Socialista\n",
       "1002   Leonardo           Soto  Masculino           Partido Socialista\n",
       "1181     Nelson        Venegas  Masculino           Partido Socialista"
      ]
     },
     "execution_count": 17,
     "metadata": {},
     "output_type": "execute_result"
    }
   ],
   "source": [
    "list_cluster_deputies(1)"
   ]
  },
  {
   "cell_type": "code",
   "execution_count": 18,
   "metadata": {},
   "outputs": [
    {
     "data": {
      "text/html": [
       "<div>\n",
       "<style scoped>\n",
       "    .dataframe tbody tr th:only-of-type {\n",
       "        vertical-align: middle;\n",
       "    }\n",
       "\n",
       "    .dataframe tbody tr th {\n",
       "        vertical-align: top;\n",
       "    }\n",
       "\n",
       "    .dataframe thead th {\n",
       "        text-align: right;\n",
       "    }\n",
       "</style>\n",
       "<table border=\"1\" class=\"dataframe\">\n",
       "  <thead>\n",
       "    <tr style=\"text-align: right;\">\n",
       "      <th></th>\n",
       "      <th>partido</th>\n",
       "      <th>porcentaje</th>\n",
       "    </tr>\n",
       "  </thead>\n",
       "  <tbody>\n",
       "    <tr>\n",
       "      <th>0</th>\n",
       "      <td>Partido Socialista</td>\n",
       "      <td>1.000000</td>\n",
       "    </tr>\n",
       "    <tr>\n",
       "      <th>1</th>\n",
       "      <td>Partido Demócrata Cristiano</td>\n",
       "      <td>1.000000</td>\n",
       "    </tr>\n",
       "    <tr>\n",
       "      <th>2</th>\n",
       "      <td>Partido Por la Democracia</td>\n",
       "      <td>1.000000</td>\n",
       "    </tr>\n",
       "    <tr>\n",
       "      <th>3</th>\n",
       "      <td>Partido Liberal de Chile</td>\n",
       "      <td>1.000000</td>\n",
       "    </tr>\n",
       "    <tr>\n",
       "      <th>4</th>\n",
       "      <td>Partido Radical de Chile</td>\n",
       "      <td>1.000000</td>\n",
       "    </tr>\n",
       "    <tr>\n",
       "      <th>5</th>\n",
       "      <td>Partido Humanista</td>\n",
       "      <td>1.000000</td>\n",
       "    </tr>\n",
       "    <tr>\n",
       "      <th>6</th>\n",
       "      <td>Independientes</td>\n",
       "      <td>0.285714</td>\n",
       "    </tr>\n",
       "  </tbody>\n",
       "</table>\n",
       "</div>"
      ],
      "text/plain": [
       "                       partido  porcentaje\n",
       "0           Partido Socialista    1.000000\n",
       "1  Partido Demócrata Cristiano    1.000000\n",
       "2    Partido Por la Democracia    1.000000\n",
       "3     Partido Liberal de Chile    1.000000\n",
       "4     Partido Radical de Chile    1.000000\n",
       "5            Partido Humanista    1.000000\n",
       "6               Independientes    0.285714"
      ]
     },
     "execution_count": 18,
     "metadata": {},
     "output_type": "execute_result"
    }
   ],
   "source": [
    "percentage_of_parties_in_cluster(1)"
   ]
  },
  {
   "cell_type": "markdown",
   "metadata": {},
   "source": [
    "### Cluster 3: Chile Vamos"
   ]
  },
  {
   "cell_type": "markdown",
   "metadata": {},
   "source": [
    "El tercer cluster es el más grande, y está compuesto por 55 diputados,\n",
    "pertenencientes en su gran mayoría a Chile Vamos:\n",
    "\n",
    "- 20 diputados de la UDI (100% de los diputados del partido).\n",
    "- 17 diputados de Renovación Nacional (100% de los diputados del partido).\n",
    "- 12 diputados independientes (24% del total de independientes). La mayoría\n",
    "fueron electos como independientes en cupos de Chile Vamos.\n",
    "- 3 diputados del Partido Social Cristiano (100% de los diputados del partido).\n",
    "- 2 diputados de Evópoli (100% de los diputados del partido).\n",
    "- Un diputado de Demócratas (25% de los diputados del partido). Corresponde al\n",
    "    diputado Pino antes mencionado."
   ]
  },
  {
   "cell_type": "code",
   "execution_count": 19,
   "metadata": {},
   "outputs": [
    {
     "data": {
      "text/html": [
       "<div>\n",
       "<style scoped>\n",
       "    .dataframe tbody tr th:only-of-type {\n",
       "        vertical-align: middle;\n",
       "    }\n",
       "\n",
       "    .dataframe tbody tr th {\n",
       "        vertical-align: top;\n",
       "    }\n",
       "\n",
       "    .dataframe thead th {\n",
       "        text-align: right;\n",
       "    }\n",
       "</style>\n",
       "<table border=\"1\" class=\"dataframe\">\n",
       "  <thead>\n",
       "    <tr style=\"text-align: right;\">\n",
       "      <th></th>\n",
       "      <th>nombre</th>\n",
       "      <th>apellido</th>\n",
       "      <th>sexo</th>\n",
       "      <th>partido</th>\n",
       "    </tr>\n",
       "  </thead>\n",
       "  <tbody>\n",
       "    <tr>\n",
       "      <th>1132</th>\n",
       "      <td>Jorge</td>\n",
       "      <td>Guzmán</td>\n",
       "      <td>Masculino</td>\n",
       "      <td>Evolución Política</td>\n",
       "    </tr>\n",
       "    <tr>\n",
       "      <th>1081</th>\n",
       "      <td>Francisco</td>\n",
       "      <td>Undurraga</td>\n",
       "      <td>Masculino</td>\n",
       "      <td>Evolución Política</td>\n",
       "    </tr>\n",
       "    <tr>\n",
       "      <th>1098</th>\n",
       "      <td>Yovana</td>\n",
       "      <td>Ahumada</td>\n",
       "      <td>Femenino</td>\n",
       "      <td>Independientes</td>\n",
       "    </tr>\n",
       "    <tr>\n",
       "      <th>971</th>\n",
       "      <td>Bernardo</td>\n",
       "      <td>Berger</td>\n",
       "      <td>Masculino</td>\n",
       "      <td>Independientes</td>\n",
       "    </tr>\n",
       "    <tr>\n",
       "      <th>1022</th>\n",
       "      <td>Sofía</td>\n",
       "      <td>Cid</td>\n",
       "      <td>Femenino</td>\n",
       "      <td>Independientes</td>\n",
       "    </tr>\n",
       "    <tr>\n",
       "      <th>1120</th>\n",
       "      <td>María Luisa</td>\n",
       "      <td>Cordero</td>\n",
       "      <td>Femenino</td>\n",
       "      <td>Independientes</td>\n",
       "    </tr>\n",
       "    <tr>\n",
       "      <th>1025</th>\n",
       "      <td>Catalina</td>\n",
       "      <td>Del Real</td>\n",
       "      <td>Femenino</td>\n",
       "      <td>Independientes</td>\n",
       "    </tr>\n",
       "    <tr>\n",
       "      <th>1136</th>\n",
       "      <td>Paula</td>\n",
       "      <td>Labra</td>\n",
       "      <td>Femenino</td>\n",
       "      <td>Independientes</td>\n",
       "    </tr>\n",
       "    <tr>\n",
       "      <th>1139</th>\n",
       "      <td>Enrique</td>\n",
       "      <td>Lee</td>\n",
       "      <td>Masculino</td>\n",
       "      <td>Independientes</td>\n",
       "    </tr>\n",
       "    <tr>\n",
       "      <th>1144</th>\n",
       "      <td>Christian</td>\n",
       "      <td>Matheson</td>\n",
       "      <td>Masculino</td>\n",
       "      <td>Independientes</td>\n",
       "    </tr>\n",
       "    <tr>\n",
       "      <th>1157</th>\n",
       "      <td>Marlene</td>\n",
       "      <td>Pérez</td>\n",
       "      <td>Femenino</td>\n",
       "      <td>Independientes</td>\n",
       "    </tr>\n",
       "    <tr>\n",
       "      <th>1166</th>\n",
       "      <td>Natalia</td>\n",
       "      <td>Romero</td>\n",
       "      <td>Femenino</td>\n",
       "      <td>Independientes</td>\n",
       "    </tr>\n",
       "    <tr>\n",
       "      <th>1176</th>\n",
       "      <td>Hotuiti</td>\n",
       "      <td>Teao</td>\n",
       "      <td>Masculino</td>\n",
       "      <td>Independientes</td>\n",
       "    </tr>\n",
       "    <tr>\n",
       "      <th>1003</th>\n",
       "      <td>Renzo</td>\n",
       "      <td>Trisotti</td>\n",
       "      <td>Masculino</td>\n",
       "      <td>Independientes</td>\n",
       "    </tr>\n",
       "    <tr>\n",
       "      <th>1158</th>\n",
       "      <td>Víctor Alejandro</td>\n",
       "      <td>Pino</td>\n",
       "      <td>Masculino</td>\n",
       "      <td>Partido Demócratas Chile</td>\n",
       "    </tr>\n",
       "    <tr>\n",
       "      <th>1102</th>\n",
       "      <td>Roberto</td>\n",
       "      <td>Arroyo</td>\n",
       "      <td>Masculino</td>\n",
       "      <td>Partido Social Cristiano</td>\n",
       "    </tr>\n",
       "    <tr>\n",
       "      <th>1119</th>\n",
       "      <td>Sara</td>\n",
       "      <td>Concha</td>\n",
       "      <td>Femenino</td>\n",
       "      <td>Partido Social Cristiano</td>\n",
       "    </tr>\n",
       "    <tr>\n",
       "      <th>1054</th>\n",
       "      <td>Francesca</td>\n",
       "      <td>Muñoz</td>\n",
       "      <td>Femenino</td>\n",
       "      <td>Partido Social Cristiano</td>\n",
       "    </tr>\n",
       "    <tr>\n",
       "      <th>1106</th>\n",
       "      <td>Miguel Ángel</td>\n",
       "      <td>Becker</td>\n",
       "      <td>Masculino</td>\n",
       "      <td>Renovación Nacional</td>\n",
       "    </tr>\n",
       "    <tr>\n",
       "      <th>1108</th>\n",
       "      <td>Juan Carlos</td>\n",
       "      <td>Beltrán</td>\n",
       "      <td>Masculino</td>\n",
       "      <td>Renovación Nacional</td>\n",
       "    </tr>\n",
       "    <tr>\n",
       "      <th>1019</th>\n",
       "      <td>José Miguel</td>\n",
       "      <td>Castro</td>\n",
       "      <td>Masculino</td>\n",
       "      <td>Renovación Nacional</td>\n",
       "    </tr>\n",
       "    <tr>\n",
       "      <th>1021</th>\n",
       "      <td>Andrés</td>\n",
       "      <td>Celis</td>\n",
       "      <td>Masculino</td>\n",
       "      <td>Renovación Nacional</td>\n",
       "    </tr>\n",
       "    <tr>\n",
       "      <th>1028</th>\n",
       "      <td>Eduardo</td>\n",
       "      <td>Durán</td>\n",
       "      <td>Masculino</td>\n",
       "      <td>Renovación Nacional</td>\n",
       "    </tr>\n",
       "    <tr>\n",
       "      <th>1027</th>\n",
       "      <td>Jorge</td>\n",
       "      <td>Durán</td>\n",
       "      <td>Masculino</td>\n",
       "      <td>Renovación Nacional</td>\n",
       "    </tr>\n",
       "    <tr>\n",
       "      <th>1030</th>\n",
       "      <td>Camila</td>\n",
       "      <td>Flores</td>\n",
       "      <td>Femenino</td>\n",
       "      <td>Renovación Nacional</td>\n",
       "    </tr>\n",
       "    <tr>\n",
       "      <th>1131</th>\n",
       "      <td>Mauro</td>\n",
       "      <td>González</td>\n",
       "      <td>Masculino</td>\n",
       "      <td>Renovación Nacional</td>\n",
       "    </tr>\n",
       "    <tr>\n",
       "      <th>1046</th>\n",
       "      <td>Andrés</td>\n",
       "      <td>Longton</td>\n",
       "      <td>Masculino</td>\n",
       "      <td>Renovación Nacional</td>\n",
       "    </tr>\n",
       "    <tr>\n",
       "      <th>1050</th>\n",
       "      <td>Miguel</td>\n",
       "      <td>Mellado</td>\n",
       "      <td>Masculino</td>\n",
       "      <td>Renovación Nacional</td>\n",
       "    </tr>\n",
       "    <tr>\n",
       "      <th>1149</th>\n",
       "      <td>Carla</td>\n",
       "      <td>Morales</td>\n",
       "      <td>Femenino</td>\n",
       "      <td>Renovación Nacional</td>\n",
       "    </tr>\n",
       "    <tr>\n",
       "      <th>1059</th>\n",
       "      <td>Ximena</td>\n",
       "      <td>Ossandón</td>\n",
       "      <td>Femenino</td>\n",
       "      <td>Renovación Nacional</td>\n",
       "    </tr>\n",
       "    <tr>\n",
       "      <th>1163</th>\n",
       "      <td>Marcia</td>\n",
       "      <td>Raphael</td>\n",
       "      <td>Femenino</td>\n",
       "      <td>Renovación Nacional</td>\n",
       "    </tr>\n",
       "    <tr>\n",
       "      <th>999</th>\n",
       "      <td>Jorge</td>\n",
       "      <td>Rathgeb</td>\n",
       "      <td>Masculino</td>\n",
       "      <td>Renovación Nacional</td>\n",
       "    </tr>\n",
       "    <tr>\n",
       "      <th>1067</th>\n",
       "      <td>Hugo</td>\n",
       "      <td>Rey</td>\n",
       "      <td>Masculino</td>\n",
       "      <td>Renovación Nacional</td>\n",
       "    </tr>\n",
       "    <tr>\n",
       "      <th>953</th>\n",
       "      <td>Frank</td>\n",
       "      <td>Sauerbaum</td>\n",
       "      <td>Masculino</td>\n",
       "      <td>Renovación Nacional</td>\n",
       "    </tr>\n",
       "    <tr>\n",
       "      <th>1075</th>\n",
       "      <td>Diego</td>\n",
       "      <td>Schalper</td>\n",
       "      <td>Masculino</td>\n",
       "      <td>Renovación Nacional</td>\n",
       "    </tr>\n",
       "    <tr>\n",
       "      <th>1009</th>\n",
       "      <td>Jorge</td>\n",
       "      <td>Alessandri</td>\n",
       "      <td>Masculino</td>\n",
       "      <td>Unión Demócrata Independiente</td>\n",
       "    </tr>\n",
       "    <tr>\n",
       "      <th>1109</th>\n",
       "      <td>Gustavo</td>\n",
       "      <td>Benavente</td>\n",
       "      <td>Masculino</td>\n",
       "      <td>Unión Demócrata Independiente</td>\n",
       "    </tr>\n",
       "    <tr>\n",
       "      <th>815</th>\n",
       "      <td>Sergio</td>\n",
       "      <td>Bobadilla</td>\n",
       "      <td>Masculino</td>\n",
       "      <td>Unión Demócrata Independiente</td>\n",
       "    </tr>\n",
       "    <tr>\n",
       "      <th>1113</th>\n",
       "      <td>Marta</td>\n",
       "      <td>Bravo</td>\n",
       "      <td>Femenino</td>\n",
       "      <td>Unión Demócrata Independiente</td>\n",
       "    </tr>\n",
       "    <tr>\n",
       "      <th>1111</th>\n",
       "      <td>Fernando</td>\n",
       "      <td>Bórquez</td>\n",
       "      <td>Masculino</td>\n",
       "      <td>Unión Demócrata Independiente</td>\n",
       "    </tr>\n",
       "    <tr>\n",
       "      <th>1017</th>\n",
       "      <td>Álvaro</td>\n",
       "      <td>Carter</td>\n",
       "      <td>Masculino</td>\n",
       "      <td>Unión Demócrata Independiente</td>\n",
       "    </tr>\n",
       "    <tr>\n",
       "      <th>976</th>\n",
       "      <td>Juan Antonio</td>\n",
       "      <td>Coloma</td>\n",
       "      <td>Masculino</td>\n",
       "      <td>Unión Demócrata Independiente</td>\n",
       "    </tr>\n",
       "    <tr>\n",
       "      <th>1121</th>\n",
       "      <td>Eduardo</td>\n",
       "      <td>Cornejo</td>\n",
       "      <td>Masculino</td>\n",
       "      <td>Unión Demócrata Independiente</td>\n",
       "    </tr>\n",
       "    <tr>\n",
       "      <th>1126</th>\n",
       "      <td>Felipe</td>\n",
       "      <td>Donoso</td>\n",
       "      <td>Masculino</td>\n",
       "      <td>Unión Demócrata Independiente</td>\n",
       "    </tr>\n",
       "    <tr>\n",
       "      <th>1031</th>\n",
       "      <td>Juan</td>\n",
       "      <td>Fuenzalida</td>\n",
       "      <td>Masculino</td>\n",
       "      <td>Unión Demócrata Independiente</td>\n",
       "    </tr>\n",
       "    <tr>\n",
       "      <th>1094</th>\n",
       "      <td>Cristian</td>\n",
       "      <td>Labbé</td>\n",
       "      <td>Masculino</td>\n",
       "      <td>Unión Demócrata Independiente</td>\n",
       "    </tr>\n",
       "    <tr>\n",
       "      <th>989</th>\n",
       "      <td>Joaquín</td>\n",
       "      <td>Lavín</td>\n",
       "      <td>Masculino</td>\n",
       "      <td>Unión Demócrata Independiente</td>\n",
       "    </tr>\n",
       "    <tr>\n",
       "      <th>1138</th>\n",
       "      <td>Henry</td>\n",
       "      <td>Leal</td>\n",
       "      <td>Masculino</td>\n",
       "      <td>Unión Demócrata Independiente</td>\n",
       "    </tr>\n",
       "    <tr>\n",
       "      <th>1140</th>\n",
       "      <td>Daniel</td>\n",
       "      <td>Lilayu</td>\n",
       "      <td>Masculino</td>\n",
       "      <td>Unión Demócrata Independiente</td>\n",
       "    </tr>\n",
       "    <tr>\n",
       "      <th>1143</th>\n",
       "      <td>Cristóbal</td>\n",
       "      <td>Martínez</td>\n",
       "      <td>Masculino</td>\n",
       "      <td>Unión Demócrata Independiente</td>\n",
       "    </tr>\n",
       "    <tr>\n",
       "      <th>1053</th>\n",
       "      <td>Cristhian</td>\n",
       "      <td>Moreira</td>\n",
       "      <td>Masculino</td>\n",
       "      <td>Unión Demócrata Independiente</td>\n",
       "    </tr>\n",
       "    <tr>\n",
       "      <th>1065</th>\n",
       "      <td>Guillermo</td>\n",
       "      <td>Ramírez</td>\n",
       "      <td>Masculino</td>\n",
       "      <td>Unión Demócrata Independiente</td>\n",
       "    </tr>\n",
       "    <tr>\n",
       "      <th>1174</th>\n",
       "      <td>Marco Antonio</td>\n",
       "      <td>Sulantay</td>\n",
       "      <td>Masculino</td>\n",
       "      <td>Unión Demócrata Independiente</td>\n",
       "    </tr>\n",
       "    <tr>\n",
       "      <th>917</th>\n",
       "      <td>Gastón</td>\n",
       "      <td>Von Mühlenbrock</td>\n",
       "      <td>Masculino</td>\n",
       "      <td>Unión Demócrata Independiente</td>\n",
       "    </tr>\n",
       "    <tr>\n",
       "      <th>1183</th>\n",
       "      <td>Flor</td>\n",
       "      <td>Weisse</td>\n",
       "      <td>Femenino</td>\n",
       "      <td>Unión Demócrata Independiente</td>\n",
       "    </tr>\n",
       "  </tbody>\n",
       "</table>\n",
       "</div>"
      ],
      "text/plain": [
       "                nombre         apellido       sexo  \\\n",
       "1132             Jorge           Guzmán  Masculino   \n",
       "1081         Francisco        Undurraga  Masculino   \n",
       "1098            Yovana          Ahumada   Femenino   \n",
       "971           Bernardo           Berger  Masculino   \n",
       "1022             Sofía              Cid   Femenino   \n",
       "1120       María Luisa          Cordero   Femenino   \n",
       "1025          Catalina         Del Real   Femenino   \n",
       "1136             Paula            Labra   Femenino   \n",
       "1139           Enrique              Lee  Masculino   \n",
       "1144         Christian         Matheson  Masculino   \n",
       "1157           Marlene            Pérez   Femenino   \n",
       "1166           Natalia           Romero   Femenino   \n",
       "1176           Hotuiti             Teao  Masculino   \n",
       "1003             Renzo         Trisotti  Masculino   \n",
       "1158  Víctor Alejandro             Pino  Masculino   \n",
       "1102           Roberto           Arroyo  Masculino   \n",
       "1119              Sara           Concha   Femenino   \n",
       "1054         Francesca            Muñoz   Femenino   \n",
       "1106      Miguel Ángel           Becker  Masculino   \n",
       "1108       Juan Carlos          Beltrán  Masculino   \n",
       "1019       José Miguel           Castro  Masculino   \n",
       "1021            Andrés            Celis  Masculino   \n",
       "1028           Eduardo            Durán  Masculino   \n",
       "1027             Jorge            Durán  Masculino   \n",
       "1030            Camila           Flores   Femenino   \n",
       "1131             Mauro         González  Masculino   \n",
       "1046            Andrés          Longton  Masculino   \n",
       "1050            Miguel          Mellado  Masculino   \n",
       "1149             Carla          Morales   Femenino   \n",
       "1059            Ximena         Ossandón   Femenino   \n",
       "1163            Marcia          Raphael   Femenino   \n",
       "999              Jorge          Rathgeb  Masculino   \n",
       "1067              Hugo              Rey  Masculino   \n",
       "953              Frank        Sauerbaum  Masculino   \n",
       "1075             Diego         Schalper  Masculino   \n",
       "1009             Jorge       Alessandri  Masculino   \n",
       "1109           Gustavo        Benavente  Masculino   \n",
       "815             Sergio        Bobadilla  Masculino   \n",
       "1113             Marta            Bravo   Femenino   \n",
       "1111          Fernando          Bórquez  Masculino   \n",
       "1017            Álvaro           Carter  Masculino   \n",
       "976       Juan Antonio           Coloma  Masculino   \n",
       "1121           Eduardo          Cornejo  Masculino   \n",
       "1126            Felipe           Donoso  Masculino   \n",
       "1031              Juan       Fuenzalida  Masculino   \n",
       "1094          Cristian            Labbé  Masculino   \n",
       "989            Joaquín            Lavín  Masculino   \n",
       "1138             Henry             Leal  Masculino   \n",
       "1140            Daniel           Lilayu  Masculino   \n",
       "1143         Cristóbal         Martínez  Masculino   \n",
       "1053         Cristhian          Moreira  Masculino   \n",
       "1065         Guillermo          Ramírez  Masculino   \n",
       "1174     Marco Antonio         Sulantay  Masculino   \n",
       "917             Gastón  Von Mühlenbrock  Masculino   \n",
       "1183              Flor           Weisse   Femenino   \n",
       "\n",
       "                            partido  \n",
       "1132             Evolución Política  \n",
       "1081             Evolución Política  \n",
       "1098                 Independientes  \n",
       "971                  Independientes  \n",
       "1022                 Independientes  \n",
       "1120                 Independientes  \n",
       "1025                 Independientes  \n",
       "1136                 Independientes  \n",
       "1139                 Independientes  \n",
       "1144                 Independientes  \n",
       "1157                 Independientes  \n",
       "1166                 Independientes  \n",
       "1176                 Independientes  \n",
       "1003                 Independientes  \n",
       "1158       Partido Demócratas Chile  \n",
       "1102       Partido Social Cristiano  \n",
       "1119       Partido Social Cristiano  \n",
       "1054       Partido Social Cristiano  \n",
       "1106            Renovación Nacional  \n",
       "1108            Renovación Nacional  \n",
       "1019            Renovación Nacional  \n",
       "1021            Renovación Nacional  \n",
       "1028            Renovación Nacional  \n",
       "1027            Renovación Nacional  \n",
       "1030            Renovación Nacional  \n",
       "1131            Renovación Nacional  \n",
       "1046            Renovación Nacional  \n",
       "1050            Renovación Nacional  \n",
       "1149            Renovación Nacional  \n",
       "1059            Renovación Nacional  \n",
       "1163            Renovación Nacional  \n",
       "999             Renovación Nacional  \n",
       "1067            Renovación Nacional  \n",
       "953             Renovación Nacional  \n",
       "1075            Renovación Nacional  \n",
       "1009  Unión Demócrata Independiente  \n",
       "1109  Unión Demócrata Independiente  \n",
       "815   Unión Demócrata Independiente  \n",
       "1113  Unión Demócrata Independiente  \n",
       "1111  Unión Demócrata Independiente  \n",
       "1017  Unión Demócrata Independiente  \n",
       "976   Unión Demócrata Independiente  \n",
       "1121  Unión Demócrata Independiente  \n",
       "1126  Unión Demócrata Independiente  \n",
       "1031  Unión Demócrata Independiente  \n",
       "1094  Unión Demócrata Independiente  \n",
       "989   Unión Demócrata Independiente  \n",
       "1138  Unión Demócrata Independiente  \n",
       "1140  Unión Demócrata Independiente  \n",
       "1143  Unión Demócrata Independiente  \n",
       "1053  Unión Demócrata Independiente  \n",
       "1065  Unión Demócrata Independiente  \n",
       "1174  Unión Demócrata Independiente  \n",
       "917   Unión Demócrata Independiente  \n",
       "1183  Unión Demócrata Independiente  "
      ]
     },
     "execution_count": 19,
     "metadata": {},
     "output_type": "execute_result"
    }
   ],
   "source": [
    "list_cluster_deputies(2)"
   ]
  },
  {
   "cell_type": "code",
   "execution_count": 20,
   "metadata": {},
   "outputs": [
    {
     "data": {
      "text/html": [
       "<div>\n",
       "<style scoped>\n",
       "    .dataframe tbody tr th:only-of-type {\n",
       "        vertical-align: middle;\n",
       "    }\n",
       "\n",
       "    .dataframe tbody tr th {\n",
       "        vertical-align: top;\n",
       "    }\n",
       "\n",
       "    .dataframe thead th {\n",
       "        text-align: right;\n",
       "    }\n",
       "</style>\n",
       "<table border=\"1\" class=\"dataframe\">\n",
       "  <thead>\n",
       "    <tr style=\"text-align: right;\">\n",
       "      <th></th>\n",
       "      <th>partido</th>\n",
       "      <th>porcentaje</th>\n",
       "    </tr>\n",
       "  </thead>\n",
       "  <tbody>\n",
       "    <tr>\n",
       "      <th>0</th>\n",
       "      <td>Unión Demócrata Independiente</td>\n",
       "      <td>1.000000</td>\n",
       "    </tr>\n",
       "    <tr>\n",
       "      <th>1</th>\n",
       "      <td>Renovación Nacional</td>\n",
       "      <td>1.000000</td>\n",
       "    </tr>\n",
       "    <tr>\n",
       "      <th>2</th>\n",
       "      <td>Partido Social Cristiano</td>\n",
       "      <td>1.000000</td>\n",
       "    </tr>\n",
       "    <tr>\n",
       "      <th>3</th>\n",
       "      <td>Evolución Política</td>\n",
       "      <td>1.000000</td>\n",
       "    </tr>\n",
       "    <tr>\n",
       "      <th>4</th>\n",
       "      <td>Independientes</td>\n",
       "      <td>0.285714</td>\n",
       "    </tr>\n",
       "    <tr>\n",
       "      <th>5</th>\n",
       "      <td>Partido Demócratas Chile</td>\n",
       "      <td>0.250000</td>\n",
       "    </tr>\n",
       "  </tbody>\n",
       "</table>\n",
       "</div>"
      ],
      "text/plain": [
       "                         partido  porcentaje\n",
       "0  Unión Demócrata Independiente    1.000000\n",
       "1            Renovación Nacional    1.000000\n",
       "2       Partido Social Cristiano    1.000000\n",
       "3             Evolución Política    1.000000\n",
       "4                 Independientes    0.285714\n",
       "5       Partido Demócratas Chile    0.250000"
      ]
     },
     "execution_count": 20,
     "metadata": {},
     "output_type": "execute_result"
    }
   ],
   "source": [
    "percentage_of_parties_in_cluster(2)"
   ]
  },
  {
   "cell_type": "markdown",
   "metadata": {},
   "source": [
    "### Cluster 4: Frente Amplio/Chile Digno"
   ]
  },
  {
   "cell_type": "markdown",
   "metadata": {},
   "source": [
    "El cuarto cluster está compuesto por 38 diputados, pertenencientes en su\n",
    "gran mayoría al Frente Amplio y Chile Digno:\n",
    "\n",
    "- 20 diputados del Frente Amplio (100% de los diputados del partido)\n",
    "- 10 diputados del Partido Comunista (100% de los diputados del partido)\n",
    "- 5 diputados independientes (12% del total de independientes). Dos de ellos\n",
    "(Delgado y González) fueron electos por el PEV, que posteriormente se disolvió.\n",
    "- 2 diputados de Acción Humanista (100% de los diputados del partido).\n",
    "- Un diputado del FREVS (100% de los diputados del partido)."
   ]
  },
  {
   "cell_type": "code",
   "execution_count": 21,
   "metadata": {},
   "outputs": [
    {
     "data": {
      "text/html": [
       "<div>\n",
       "<style scoped>\n",
       "    .dataframe tbody tr th:only-of-type {\n",
       "        vertical-align: middle;\n",
       "    }\n",
       "\n",
       "    .dataframe tbody tr th {\n",
       "        vertical-align: top;\n",
       "    }\n",
       "\n",
       "    .dataframe thead th {\n",
       "        text-align: right;\n",
       "    }\n",
       "</style>\n",
       "<table border=\"1\" class=\"dataframe\">\n",
       "  <thead>\n",
       "    <tr style=\"text-align: right;\">\n",
       "      <th></th>\n",
       "      <th>nombre</th>\n",
       "      <th>apellido</th>\n",
       "      <th>sexo</th>\n",
       "      <th>partido</th>\n",
       "    </tr>\n",
       "  </thead>\n",
       "  <tbody>\n",
       "    <tr>\n",
       "      <th>872</th>\n",
       "      <td>Jaime</td>\n",
       "      <td>Mulet</td>\n",
       "      <td>Masculino</td>\n",
       "      <td>Federación Regionalista Verde Social</td>\n",
       "    </tr>\n",
       "    <tr>\n",
       "      <th>1107</th>\n",
       "      <td>María Francisca</td>\n",
       "      <td>Bello</td>\n",
       "      <td>Femenino</td>\n",
       "      <td>Frente Amplio</td>\n",
       "    </tr>\n",
       "    <tr>\n",
       "      <th>1015</th>\n",
       "      <td>Jorge</td>\n",
       "      <td>Brito</td>\n",
       "      <td>Masculino</td>\n",
       "      <td>Frente Amplio</td>\n",
       "    </tr>\n",
       "    <tr>\n",
       "      <th>1114</th>\n",
       "      <td>Félix</td>\n",
       "      <td>Bugueño</td>\n",
       "      <td>Masculino</td>\n",
       "      <td>Frente Amplio</td>\n",
       "    </tr>\n",
       "    <tr>\n",
       "      <th>1127</th>\n",
       "      <td>Lorena</td>\n",
       "      <td>Fries</td>\n",
       "      <td>Femenino</td>\n",
       "      <td>Frente Amplio</td>\n",
       "    </tr>\n",
       "    <tr>\n",
       "      <th>1129</th>\n",
       "      <td>Andrés</td>\n",
       "      <td>Giordano</td>\n",
       "      <td>Masculino</td>\n",
       "      <td>Frente Amplio</td>\n",
       "    </tr>\n",
       "    <tr>\n",
       "      <th>1037</th>\n",
       "      <td>Diego</td>\n",
       "      <td>Ibáñez</td>\n",
       "      <td>Masculino</td>\n",
       "      <td>Frente Amplio</td>\n",
       "    </tr>\n",
       "    <tr>\n",
       "      <th>1051</th>\n",
       "      <td>Claudia</td>\n",
       "      <td>Mix</td>\n",
       "      <td>Femenino</td>\n",
       "      <td>Frente Amplio</td>\n",
       "    </tr>\n",
       "    <tr>\n",
       "      <th>1148</th>\n",
       "      <td>Javiera</td>\n",
       "      <td>Morales</td>\n",
       "      <td>Femenino</td>\n",
       "      <td>Frente Amplio</td>\n",
       "    </tr>\n",
       "    <tr>\n",
       "      <th>1058</th>\n",
       "      <td>Maite</td>\n",
       "      <td>Orsini</td>\n",
       "      <td>Femenino</td>\n",
       "      <td>Frente Amplio</td>\n",
       "    </tr>\n",
       "    <tr>\n",
       "      <th>1063</th>\n",
       "      <td>Catalina</td>\n",
       "      <td>Pérez</td>\n",
       "      <td>Femenino</td>\n",
       "      <td>Frente Amplio</td>\n",
       "    </tr>\n",
       "    <tr>\n",
       "      <th>1164</th>\n",
       "      <td>Marcela</td>\n",
       "      <td>Riquelme</td>\n",
       "      <td>Femenino</td>\n",
       "      <td>Frente Amplio</td>\n",
       "    </tr>\n",
       "    <tr>\n",
       "      <th>1068</th>\n",
       "      <td>Camila</td>\n",
       "      <td>Rojas</td>\n",
       "      <td>Femenino</td>\n",
       "      <td>Frente Amplio</td>\n",
       "    </tr>\n",
       "    <tr>\n",
       "      <th>1070</th>\n",
       "      <td>Patricio</td>\n",
       "      <td>Rosas</td>\n",
       "      <td>Masculino</td>\n",
       "      <td>Frente Amplio</td>\n",
       "    </tr>\n",
       "    <tr>\n",
       "      <th>1169</th>\n",
       "      <td>Clara</td>\n",
       "      <td>Sagardia</td>\n",
       "      <td>Femenino</td>\n",
       "      <td>Frente Amplio</td>\n",
       "    </tr>\n",
       "    <tr>\n",
       "      <th>1171</th>\n",
       "      <td>Emilia</td>\n",
       "      <td>Schneider</td>\n",
       "      <td>Femenino</td>\n",
       "      <td>Frente Amplio</td>\n",
       "    </tr>\n",
       "    <tr>\n",
       "      <th>1167</th>\n",
       "      <td>Jaime</td>\n",
       "      <td>Sáez</td>\n",
       "      <td>Masculino</td>\n",
       "      <td>Frente Amplio</td>\n",
       "    </tr>\n",
       "    <tr>\n",
       "      <th>1177</th>\n",
       "      <td>Carolina</td>\n",
       "      <td>Tello</td>\n",
       "      <td>Femenino</td>\n",
       "      <td>Frente Amplio</td>\n",
       "    </tr>\n",
       "    <tr>\n",
       "      <th>1086</th>\n",
       "      <td>Gonzalo</td>\n",
       "      <td>Winter</td>\n",
       "      <td>Masculino</td>\n",
       "      <td>Frente Amplio</td>\n",
       "    </tr>\n",
       "    <tr>\n",
       "      <th>1087</th>\n",
       "      <td>Gael</td>\n",
       "      <td>Yeomans</td>\n",
       "      <td>Femenino</td>\n",
       "      <td>Frente Amplio</td>\n",
       "    </tr>\n",
       "    <tr>\n",
       "      <th>1153</th>\n",
       "      <td>Ericka</td>\n",
       "      <td>Ñanco</td>\n",
       "      <td>Femenino</td>\n",
       "      <td>Frente Amplio</td>\n",
       "    </tr>\n",
       "    <tr>\n",
       "      <th>1115</th>\n",
       "      <td>Mercedes</td>\n",
       "      <td>Bulnes</td>\n",
       "      <td>Femenino</td>\n",
       "      <td>Independientes</td>\n",
       "    </tr>\n",
       "    <tr>\n",
       "      <th>1034</th>\n",
       "      <td>Félix</td>\n",
       "      <td>González</td>\n",
       "      <td>Masculino</td>\n",
       "      <td>Independientes</td>\n",
       "    </tr>\n",
       "    <tr>\n",
       "      <th>1156</th>\n",
       "      <td>Hernán</td>\n",
       "      <td>Palma</td>\n",
       "      <td>Masculino</td>\n",
       "      <td>Independientes</td>\n",
       "    </tr>\n",
       "    <tr>\n",
       "      <th>1074</th>\n",
       "      <td>Marisela</td>\n",
       "      <td>Santibáñez</td>\n",
       "      <td>Femenino</td>\n",
       "      <td>Independientes</td>\n",
       "    </tr>\n",
       "    <tr>\n",
       "      <th>1180</th>\n",
       "      <td>Consuelo</td>\n",
       "      <td>Veloso</td>\n",
       "      <td>Femenino</td>\n",
       "      <td>Independientes</td>\n",
       "    </tr>\n",
       "    <tr>\n",
       "      <th>1128</th>\n",
       "      <td>Ana María</td>\n",
       "      <td>Gazmuri</td>\n",
       "      <td>Femenino</td>\n",
       "      <td>Partido Acción Humanista</td>\n",
       "    </tr>\n",
       "    <tr>\n",
       "      <th>1036</th>\n",
       "      <td>Tomás</td>\n",
       "      <td>Hirsch</td>\n",
       "      <td>Masculino</td>\n",
       "      <td>Partido Acción Humanista</td>\n",
       "    </tr>\n",
       "    <tr>\n",
       "      <th>1096</th>\n",
       "      <td>María Candelaria</td>\n",
       "      <td>Acevedo</td>\n",
       "      <td>Femenino</td>\n",
       "      <td>Partido Comunista</td>\n",
       "    </tr>\n",
       "    <tr>\n",
       "      <th>1012</th>\n",
       "      <td>Boris</td>\n",
       "      <td>Barrera</td>\n",
       "      <td>Masculino</td>\n",
       "      <td>Partido Comunista</td>\n",
       "    </tr>\n",
       "    <tr>\n",
       "      <th>973</th>\n",
       "      <td>Karol</td>\n",
       "      <td>Cariola</td>\n",
       "      <td>Femenino</td>\n",
       "      <td>Partido Comunista</td>\n",
       "    </tr>\n",
       "    <tr>\n",
       "      <th>1117</th>\n",
       "      <td>Nathalie</td>\n",
       "      <td>Castillo</td>\n",
       "      <td>Femenino</td>\n",
       "      <td>Partido Comunista</td>\n",
       "    </tr>\n",
       "    <tr>\n",
       "      <th>1122</th>\n",
       "      <td>Luis Alberto</td>\n",
       "      <td>Cuello</td>\n",
       "      <td>Masculino</td>\n",
       "      <td>Partido Comunista</td>\n",
       "    </tr>\n",
       "    <tr>\n",
       "      <th>1035</th>\n",
       "      <td>Carmen</td>\n",
       "      <td>Hertz</td>\n",
       "      <td>Femenino</td>\n",
       "      <td>Partido Comunista</td>\n",
       "    </tr>\n",
       "    <tr>\n",
       "      <th>1159</th>\n",
       "      <td>Lorena</td>\n",
       "      <td>Pizarro</td>\n",
       "      <td>Femenino</td>\n",
       "      <td>Partido Comunista</td>\n",
       "    </tr>\n",
       "    <tr>\n",
       "      <th>1160</th>\n",
       "      <td>Alejandra</td>\n",
       "      <td>Placencia</td>\n",
       "      <td>Femenino</td>\n",
       "      <td>Partido Comunista</td>\n",
       "    </tr>\n",
       "    <tr>\n",
       "      <th>1162</th>\n",
       "      <td>Matías</td>\n",
       "      <td>Ramírez</td>\n",
       "      <td>Masculino</td>\n",
       "      <td>Partido Comunista</td>\n",
       "    </tr>\n",
       "    <tr>\n",
       "      <th>1173</th>\n",
       "      <td>Daniela</td>\n",
       "      <td>Serrano</td>\n",
       "      <td>Femenino</td>\n",
       "      <td>Partido Comunista</td>\n",
       "    </tr>\n",
       "  </tbody>\n",
       "</table>\n",
       "</div>"
      ],
      "text/plain": [
       "                nombre    apellido       sexo  \\\n",
       "872              Jaime       Mulet  Masculino   \n",
       "1107   María Francisca       Bello   Femenino   \n",
       "1015             Jorge       Brito  Masculino   \n",
       "1114             Félix     Bugueño  Masculino   \n",
       "1127            Lorena       Fries   Femenino   \n",
       "1129            Andrés    Giordano  Masculino   \n",
       "1037             Diego      Ibáñez  Masculino   \n",
       "1051           Claudia         Mix   Femenino   \n",
       "1148           Javiera     Morales   Femenino   \n",
       "1058             Maite      Orsini   Femenino   \n",
       "1063          Catalina       Pérez   Femenino   \n",
       "1164           Marcela    Riquelme   Femenino   \n",
       "1068            Camila       Rojas   Femenino   \n",
       "1070          Patricio       Rosas  Masculino   \n",
       "1169             Clara    Sagardia   Femenino   \n",
       "1171            Emilia   Schneider   Femenino   \n",
       "1167             Jaime        Sáez  Masculino   \n",
       "1177          Carolina       Tello   Femenino   \n",
       "1086           Gonzalo      Winter  Masculino   \n",
       "1087              Gael     Yeomans   Femenino   \n",
       "1153            Ericka       Ñanco   Femenino   \n",
       "1115          Mercedes      Bulnes   Femenino   \n",
       "1034             Félix    González  Masculino   \n",
       "1156            Hernán       Palma  Masculino   \n",
       "1074          Marisela  Santibáñez   Femenino   \n",
       "1180          Consuelo      Veloso   Femenino   \n",
       "1128         Ana María     Gazmuri   Femenino   \n",
       "1036             Tomás      Hirsch  Masculino   \n",
       "1096  María Candelaria     Acevedo   Femenino   \n",
       "1012             Boris     Barrera  Masculino   \n",
       "973              Karol     Cariola   Femenino   \n",
       "1117          Nathalie    Castillo   Femenino   \n",
       "1122      Luis Alberto      Cuello  Masculino   \n",
       "1035            Carmen       Hertz   Femenino   \n",
       "1159            Lorena     Pizarro   Femenino   \n",
       "1160         Alejandra   Placencia   Femenino   \n",
       "1162            Matías     Ramírez  Masculino   \n",
       "1173           Daniela     Serrano   Femenino   \n",
       "\n",
       "                                   partido  \n",
       "872   Federación Regionalista Verde Social  \n",
       "1107                         Frente Amplio  \n",
       "1015                         Frente Amplio  \n",
       "1114                         Frente Amplio  \n",
       "1127                         Frente Amplio  \n",
       "1129                         Frente Amplio  \n",
       "1037                         Frente Amplio  \n",
       "1051                         Frente Amplio  \n",
       "1148                         Frente Amplio  \n",
       "1058                         Frente Amplio  \n",
       "1063                         Frente Amplio  \n",
       "1164                         Frente Amplio  \n",
       "1068                         Frente Amplio  \n",
       "1070                         Frente Amplio  \n",
       "1169                         Frente Amplio  \n",
       "1171                         Frente Amplio  \n",
       "1167                         Frente Amplio  \n",
       "1177                         Frente Amplio  \n",
       "1086                         Frente Amplio  \n",
       "1087                         Frente Amplio  \n",
       "1153                         Frente Amplio  \n",
       "1115                        Independientes  \n",
       "1034                        Independientes  \n",
       "1156                        Independientes  \n",
       "1074                        Independientes  \n",
       "1180                        Independientes  \n",
       "1128              Partido Acción Humanista  \n",
       "1036              Partido Acción Humanista  \n",
       "1096                     Partido Comunista  \n",
       "1012                     Partido Comunista  \n",
       "973                      Partido Comunista  \n",
       "1117                     Partido Comunista  \n",
       "1122                     Partido Comunista  \n",
       "1035                     Partido Comunista  \n",
       "1159                     Partido Comunista  \n",
       "1160                     Partido Comunista  \n",
       "1162                     Partido Comunista  \n",
       "1173                     Partido Comunista  "
      ]
     },
     "execution_count": 21,
     "metadata": {},
     "output_type": "execute_result"
    }
   ],
   "source": [
    "list_cluster_deputies(3)"
   ]
  },
  {
   "cell_type": "code",
   "execution_count": 22,
   "metadata": {},
   "outputs": [
    {
     "data": {
      "text/html": [
       "<div>\n",
       "<style scoped>\n",
       "    .dataframe tbody tr th:only-of-type {\n",
       "        vertical-align: middle;\n",
       "    }\n",
       "\n",
       "    .dataframe tbody tr th {\n",
       "        vertical-align: top;\n",
       "    }\n",
       "\n",
       "    .dataframe thead th {\n",
       "        text-align: right;\n",
       "    }\n",
       "</style>\n",
       "<table border=\"1\" class=\"dataframe\">\n",
       "  <thead>\n",
       "    <tr style=\"text-align: right;\">\n",
       "      <th></th>\n",
       "      <th>partido</th>\n",
       "      <th>porcentaje</th>\n",
       "    </tr>\n",
       "  </thead>\n",
       "  <tbody>\n",
       "    <tr>\n",
       "      <th>0</th>\n",
       "      <td>Frente Amplio</td>\n",
       "      <td>1.000000</td>\n",
       "    </tr>\n",
       "    <tr>\n",
       "      <th>1</th>\n",
       "      <td>Partido Comunista</td>\n",
       "      <td>1.000000</td>\n",
       "    </tr>\n",
       "    <tr>\n",
       "      <th>2</th>\n",
       "      <td>Partido Acción Humanista</td>\n",
       "      <td>1.000000</td>\n",
       "    </tr>\n",
       "    <tr>\n",
       "      <th>3</th>\n",
       "      <td>Federación Regionalista Verde Social</td>\n",
       "      <td>1.000000</td>\n",
       "    </tr>\n",
       "    <tr>\n",
       "      <th>4</th>\n",
       "      <td>Independientes</td>\n",
       "      <td>0.119048</td>\n",
       "    </tr>\n",
       "  </tbody>\n",
       "</table>\n",
       "</div>"
      ],
      "text/plain": [
       "                                partido  porcentaje\n",
       "0                         Frente Amplio    1.000000\n",
       "1                     Partido Comunista    1.000000\n",
       "2              Partido Acción Humanista    1.000000\n",
       "3  Federación Regionalista Verde Social    1.000000\n",
       "4                        Independientes    0.119048"
      ]
     },
     "execution_count": 22,
     "metadata": {},
     "output_type": "execute_result"
    }
   ],
   "source": [
    "percentage_of_parties_in_cluster(3)"
   ]
  },
  {
   "cell_type": "markdown",
   "metadata": {},
   "source": [
    "### Cluster 5: Republicanos"
   ]
  },
  {
   "cell_type": "markdown",
   "metadata": {},
   "source": [
    "El quinto y último cluster está compuesto por 15 diputados:\n",
    "\n",
    "- 8 diputados del Partido Republicano (100% de los diputados del partido)\n",
    "- 7 diputados independientes (17% del total de independientes). Todos están\n",
    "asociados al Partido Republicano (fueron electos como independientes en cupos\n",
    "de Republicanos, o fueron electos mientras pertenecían al partido y luego\n",
    "fueron expulsados o renunciaron)."
   ]
  },
  {
   "cell_type": "code",
   "execution_count": 24,
   "metadata": {},
   "outputs": [
    {
     "data": {
      "text/html": [
       "<div>\n",
       "<style scoped>\n",
       "    .dataframe tbody tr th:only-of-type {\n",
       "        vertical-align: middle;\n",
       "    }\n",
       "\n",
       "    .dataframe tbody tr th {\n",
       "        vertical-align: top;\n",
       "    }\n",
       "\n",
       "    .dataframe thead th {\n",
       "        text-align: right;\n",
       "    }\n",
       "</style>\n",
       "<table border=\"1\" class=\"dataframe\">\n",
       "  <thead>\n",
       "    <tr style=\"text-align: right;\">\n",
       "      <th></th>\n",
       "      <th>nombre</th>\n",
       "      <th>apellido</th>\n",
       "      <th>sexo</th>\n",
       "      <th>partido</th>\n",
       "    </tr>\n",
       "  </thead>\n",
       "  <tbody>\n",
       "    <tr>\n",
       "      <th>1123</th>\n",
       "      <td>Gonzalo</td>\n",
       "      <td>De la Carrera</td>\n",
       "      <td>Masculino</td>\n",
       "      <td>Independientes</td>\n",
       "    </tr>\n",
       "    <tr>\n",
       "      <th>1040</th>\n",
       "      <td>Harry</td>\n",
       "      <td>Jürgensen</td>\n",
       "      <td>Masculino</td>\n",
       "      <td>Independientes</td>\n",
       "    </tr>\n",
       "    <tr>\n",
       "      <th>1135</th>\n",
       "      <td>Johannes</td>\n",
       "      <td>Kaiser</td>\n",
       "      <td>Masculino</td>\n",
       "      <td>Independientes</td>\n",
       "    </tr>\n",
       "    <tr>\n",
       "      <th>1152</th>\n",
       "      <td>Gloria</td>\n",
       "      <td>Naveillan</td>\n",
       "      <td>Femenino</td>\n",
       "      <td>Independientes</td>\n",
       "    </tr>\n",
       "    <tr>\n",
       "      <th>1154</th>\n",
       "      <td>Mauricio</td>\n",
       "      <td>Ojeda</td>\n",
       "      <td>Masculino</td>\n",
       "      <td>Independientes</td>\n",
       "    </tr>\n",
       "    <tr>\n",
       "      <th>1069</th>\n",
       "      <td>Leonidas</td>\n",
       "      <td>Romero</td>\n",
       "      <td>Masculino</td>\n",
       "      <td>Independientes</td>\n",
       "    </tr>\n",
       "    <tr>\n",
       "      <th>1172</th>\n",
       "      <td>Stephan</td>\n",
       "      <td>Schubert</td>\n",
       "      <td>Masculino</td>\n",
       "      <td>Independientes</td>\n",
       "    </tr>\n",
       "    <tr>\n",
       "      <th>1100</th>\n",
       "      <td>Cristián</td>\n",
       "      <td>Araya</td>\n",
       "      <td>Masculino</td>\n",
       "      <td>Partido Republicano</td>\n",
       "    </tr>\n",
       "    <tr>\n",
       "      <th>1104</th>\n",
       "      <td>Chiara</td>\n",
       "      <td>Barchiesi</td>\n",
       "      <td>Femenino</td>\n",
       "      <td>Partido Republicano</td>\n",
       "    </tr>\n",
       "    <tr>\n",
       "      <th>1133</th>\n",
       "      <td>Juan</td>\n",
       "      <td>Irarrázaval</td>\n",
       "      <td>Masculino</td>\n",
       "      <td>Partido Republicano</td>\n",
       "    </tr>\n",
       "    <tr>\n",
       "      <th>1146</th>\n",
       "      <td>José Carlos</td>\n",
       "      <td>Meza</td>\n",
       "      <td>Masculino</td>\n",
       "      <td>Partido Republicano</td>\n",
       "    </tr>\n",
       "    <tr>\n",
       "      <th>1150</th>\n",
       "      <td>Benjamín</td>\n",
       "      <td>Moreno</td>\n",
       "      <td>Masculino</td>\n",
       "      <td>Partido Republicano</td>\n",
       "    </tr>\n",
       "    <tr>\n",
       "      <th>1165</th>\n",
       "      <td>Agustín</td>\n",
       "      <td>Romero</td>\n",
       "      <td>Masculino</td>\n",
       "      <td>Partido Republicano</td>\n",
       "    </tr>\n",
       "    <tr>\n",
       "      <th>1170</th>\n",
       "      <td>Luis</td>\n",
       "      <td>Sánchez</td>\n",
       "      <td>Masculino</td>\n",
       "      <td>Partido Republicano</td>\n",
       "    </tr>\n",
       "    <tr>\n",
       "      <th>1082</th>\n",
       "      <td>Cristóbal</td>\n",
       "      <td>Urruticoechea</td>\n",
       "      <td>Masculino</td>\n",
       "      <td>Partido Republicano</td>\n",
       "    </tr>\n",
       "  </tbody>\n",
       "</table>\n",
       "</div>"
      ],
      "text/plain": [
       "           nombre       apellido       sexo              partido\n",
       "1123      Gonzalo  De la Carrera  Masculino       Independientes\n",
       "1040        Harry      Jürgensen  Masculino       Independientes\n",
       "1135     Johannes         Kaiser  Masculino       Independientes\n",
       "1152       Gloria      Naveillan   Femenino       Independientes\n",
       "1154     Mauricio          Ojeda  Masculino       Independientes\n",
       "1069     Leonidas         Romero  Masculino       Independientes\n",
       "1172      Stephan       Schubert  Masculino       Independientes\n",
       "1100     Cristián          Araya  Masculino  Partido Republicano\n",
       "1104       Chiara      Barchiesi   Femenino  Partido Republicano\n",
       "1133         Juan    Irarrázaval  Masculino  Partido Republicano\n",
       "1146  José Carlos           Meza  Masculino  Partido Republicano\n",
       "1150     Benjamín         Moreno  Masculino  Partido Republicano\n",
       "1165      Agustín         Romero  Masculino  Partido Republicano\n",
       "1170         Luis        Sánchez  Masculino  Partido Republicano\n",
       "1082    Cristóbal  Urruticoechea  Masculino  Partido Republicano"
      ]
     },
     "execution_count": 24,
     "metadata": {},
     "output_type": "execute_result"
    }
   ],
   "source": [
    "list_cluster_deputies(4)"
   ]
  },
  {
   "cell_type": "code",
   "execution_count": 25,
   "metadata": {},
   "outputs": [
    {
     "data": {
      "text/html": [
       "<div>\n",
       "<style scoped>\n",
       "    .dataframe tbody tr th:only-of-type {\n",
       "        vertical-align: middle;\n",
       "    }\n",
       "\n",
       "    .dataframe tbody tr th {\n",
       "        vertical-align: top;\n",
       "    }\n",
       "\n",
       "    .dataframe thead th {\n",
       "        text-align: right;\n",
       "    }\n",
       "</style>\n",
       "<table border=\"1\" class=\"dataframe\">\n",
       "  <thead>\n",
       "    <tr style=\"text-align: right;\">\n",
       "      <th></th>\n",
       "      <th>partido</th>\n",
       "      <th>porcentaje</th>\n",
       "    </tr>\n",
       "  </thead>\n",
       "  <tbody>\n",
       "    <tr>\n",
       "      <th>0</th>\n",
       "      <td>Partido Republicano</td>\n",
       "      <td>1.000000</td>\n",
       "    </tr>\n",
       "    <tr>\n",
       "      <th>1</th>\n",
       "      <td>Independientes</td>\n",
       "      <td>0.166667</td>\n",
       "    </tr>\n",
       "  </tbody>\n",
       "</table>\n",
       "</div>"
      ],
      "text/plain": [
       "               partido  porcentaje\n",
       "0  Partido Republicano    1.000000\n",
       "1       Independientes    0.166667"
      ]
     },
     "execution_count": 25,
     "metadata": {},
     "output_type": "execute_result"
    }
   ],
   "source": [
    "percentage_of_parties_in_cluster(4)"
   ]
  }
 ],
 "metadata": {
  "kernelspec": {
   "display_name": "mach",
   "language": "python",
   "name": "python3"
  },
  "language_info": {
   "codemirror_mode": {
    "name": "ipython",
    "version": 3
   },
   "file_extension": ".py",
   "mimetype": "text/x-python",
   "name": "python",
   "nbconvert_exporter": "python",
   "pygments_lexer": "ipython3",
   "version": "3.11.8"
  }
 },
 "nbformat": 4,
 "nbformat_minor": 2
}
